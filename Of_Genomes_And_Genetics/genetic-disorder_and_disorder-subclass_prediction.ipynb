{
    "cells": [
        {
            "cell_type": "markdown",
            "source": [
                "Classification Problem"
            ],
            "metadata": {}
        },
        {
            "cell_type": "markdown",
            "source": [
                "IMPORING MODULE"
            ],
            "metadata": {}
        },
        {
            "cell_type": "code",
            "execution_count": 116,
            "source": [
                "import pandas as pd\r\n",
                "import numpy as np\r\n",
                "\r\n",
                "from sklearn.preprocessing import LabelEncoder\r\n",
                "from sklearn.model_selection import train_test_split\r\n",
                "from sklearn.preprocessing import StandardScaler \r\n",
                "\r\n",
                "import seaborn as sns\r\n",
                "import matplotlib.pyplot as plt\r\n",
                "\r\n",
                "from sklearn.metrics import accuracy_score"
            ],
            "outputs": [],
            "metadata": {}
        },
        {
            "cell_type": "code",
            "execution_count": 78,
            "source": [
                "data = pd.read_csv(\"train.csv\") "
            ],
            "outputs": [],
            "metadata": {}
        },
        {
            "cell_type": "markdown",
            "source": [
                "Removing columns which will not impact out target"
            ],
            "metadata": {}
        },
        {
            "cell_type": "code",
            "execution_count": 79,
            "source": [
                "data.drop([\"Patient Id\", \"Patient First Name\", \"Family Name\", \"Father's name\"],axis=1,inplace=True)\r\n",
                "data.dropna(inplace=True) "
            ],
            "outputs": [],
            "metadata": {}
        },
        {
            "cell_type": "markdown",
            "source": [
                "reset index from 0"
            ],
            "metadata": {}
        },
        {
            "cell_type": "code",
            "execution_count": 87,
            "source": [
                "data.reset_index(inplace=True)"
            ],
            "outputs": [
                {
                    "output_type": "execute_result",
                    "data": {
                        "text/plain": [
                            "   index  Patient Age Genes in mother's side Inherited from father  \\\n",
                            "0      8         11.0                     No                    No   \n",
                            "1      9          4.0                     No                   Yes   \n",
                            "\n",
                            "  Maternal gene Paternal gene  Blood cell count (mcL)  Mother's age  \\\n",
                            "0           Yes            No                5.209058          45.0   \n",
                            "1           Yes           Yes                4.752272          44.0   \n",
                            "\n",
                            "   Father's age            Institute Name  ... Birth defects  \\\n",
                            "0          44.0  Lemuel Shattuck Hospital  ...      Multiple   \n",
                            "1          42.0  Shriners Burns Institute  ...      Multiple   \n",
                            "\n",
                            "  White Blood cell count (thousand per microliter)  Blood test result  \\\n",
                            "0                                         6.669552  slightly abnormal   \n",
                            "1                                         6.397702           abnormal   \n",
                            "\n",
                            "  Symptom 1  Symptom 2  Symptom 3  Symptom 4  Symptom 5  \\\n",
                            "0       1.0        1.0        1.0        0.0        1.0   \n",
                            "1       0.0        0.0        1.0        1.0        1.0   \n",
                            "\n",
                            "                               Genetic Disorder Disorder Subclass  \n",
                            "0   Mitochondrial genetic inheritance disorders    Leigh syndrome  \n",
                            "1  Multifactorial genetic inheritance disorders          Diabetes  \n",
                            "\n",
                            "[2 rows x 42 columns]"
                        ],
                        "text/html": [
                            "<div>\n",
                            "<style scoped>\n",
                            "    .dataframe tbody tr th:only-of-type {\n",
                            "        vertical-align: middle;\n",
                            "    }\n",
                            "\n",
                            "    .dataframe tbody tr th {\n",
                            "        vertical-align: top;\n",
                            "    }\n",
                            "\n",
                            "    .dataframe thead th {\n",
                            "        text-align: right;\n",
                            "    }\n",
                            "</style>\n",
                            "<table border=\"1\" class=\"dataframe\">\n",
                            "  <thead>\n",
                            "    <tr style=\"text-align: right;\">\n",
                            "      <th></th>\n",
                            "      <th>index</th>\n",
                            "      <th>Patient Age</th>\n",
                            "      <th>Genes in mother's side</th>\n",
                            "      <th>Inherited from father</th>\n",
                            "      <th>Maternal gene</th>\n",
                            "      <th>Paternal gene</th>\n",
                            "      <th>Blood cell count (mcL)</th>\n",
                            "      <th>Mother's age</th>\n",
                            "      <th>Father's age</th>\n",
                            "      <th>Institute Name</th>\n",
                            "      <th>...</th>\n",
                            "      <th>Birth defects</th>\n",
                            "      <th>White Blood cell count (thousand per microliter)</th>\n",
                            "      <th>Blood test result</th>\n",
                            "      <th>Symptom 1</th>\n",
                            "      <th>Symptom 2</th>\n",
                            "      <th>Symptom 3</th>\n",
                            "      <th>Symptom 4</th>\n",
                            "      <th>Symptom 5</th>\n",
                            "      <th>Genetic Disorder</th>\n",
                            "      <th>Disorder Subclass</th>\n",
                            "    </tr>\n",
                            "  </thead>\n",
                            "  <tbody>\n",
                            "    <tr>\n",
                            "      <th>0</th>\n",
                            "      <td>8</td>\n",
                            "      <td>11.0</td>\n",
                            "      <td>No</td>\n",
                            "      <td>No</td>\n",
                            "      <td>Yes</td>\n",
                            "      <td>No</td>\n",
                            "      <td>5.209058</td>\n",
                            "      <td>45.0</td>\n",
                            "      <td>44.0</td>\n",
                            "      <td>Lemuel Shattuck Hospital</td>\n",
                            "      <td>...</td>\n",
                            "      <td>Multiple</td>\n",
                            "      <td>6.669552</td>\n",
                            "      <td>slightly abnormal</td>\n",
                            "      <td>1.0</td>\n",
                            "      <td>1.0</td>\n",
                            "      <td>1.0</td>\n",
                            "      <td>0.0</td>\n",
                            "      <td>1.0</td>\n",
                            "      <td>Mitochondrial genetic inheritance disorders</td>\n",
                            "      <td>Leigh syndrome</td>\n",
                            "    </tr>\n",
                            "    <tr>\n",
                            "      <th>1</th>\n",
                            "      <td>9</td>\n",
                            "      <td>4.0</td>\n",
                            "      <td>No</td>\n",
                            "      <td>Yes</td>\n",
                            "      <td>Yes</td>\n",
                            "      <td>Yes</td>\n",
                            "      <td>4.752272</td>\n",
                            "      <td>44.0</td>\n",
                            "      <td>42.0</td>\n",
                            "      <td>Shriners Burns Institute</td>\n",
                            "      <td>...</td>\n",
                            "      <td>Multiple</td>\n",
                            "      <td>6.397702</td>\n",
                            "      <td>abnormal</td>\n",
                            "      <td>0.0</td>\n",
                            "      <td>0.0</td>\n",
                            "      <td>1.0</td>\n",
                            "      <td>1.0</td>\n",
                            "      <td>1.0</td>\n",
                            "      <td>Multifactorial genetic inheritance disorders</td>\n",
                            "      <td>Diabetes</td>\n",
                            "    </tr>\n",
                            "  </tbody>\n",
                            "</table>\n",
                            "<p>2 rows × 42 columns</p>\n",
                            "</div>"
                        ]
                    },
                    "metadata": {},
                    "execution_count": 87
                }
            ],
            "metadata": {}
        },
        {
            "cell_type": "markdown",
            "source": [
                "one of encoding"
            ],
            "metadata": {}
        },
        {
            "cell_type": "code",
            "execution_count": 88,
            "source": [
                "for i in data.columns:\r\n",
                "    if isinstance(data[i][0],str):\r\n",
                "        data[i] = LabelEncoder().fit_transform(data[i])"
            ],
            "outputs": [],
            "metadata": {}
        },
        {
            "cell_type": "markdown",
            "source": [
                "Dividing data into three parts"
            ],
            "metadata": {}
        },
        {
            "cell_type": "code",
            "execution_count": 111,
            "source": [
                "x = data.drop([\"Genetic Disorder\",\"Disorder Subclass\"],axis=1)\r\n",
                "y = data[\"Genetic Disorder\"]\r\n",
                "z = data[\"Disorder Subclass\"]"
            ],
            "outputs": [],
            "metadata": {}
        },
        {
            "cell_type": "markdown",
            "source": [
                "standard scaling"
            ],
            "metadata": {}
        },
        {
            "cell_type": "code",
            "execution_count": 112,
            "source": [
                "x = StandardScaler().fit_transform(x)"
            ],
            "outputs": [],
            "metadata": {}
        },
        {
            "cell_type": "markdown",
            "source": [
                "splitting data"
            ],
            "metadata": {}
        },
        {
            "cell_type": "code",
            "execution_count": 115,
            "source": [
                "xtrain,xtest,ytrain,ytest = train_test_split(x,y,test_size=0.3,random_state=0)"
            ],
            "outputs": [],
            "metadata": {}
        },
        {
            "cell_type": "markdown",
            "source": [
                "logistic regresion"
            ],
            "metadata": {}
        },
        {
            "cell_type": "code",
            "execution_count": 118,
            "source": [
                "from sklearn.linear_model import LogisticRegression\r\n",
                "lrs = LogisticRegression()\r\n",
                "lrs.fit(xtrain, ytrain)\r\n",
                "lrsp = lrs.predict(xtest)\r\n",
                "print(round(accuracy_score(lrsp,ytest)*100,2)) "
            ],
            "outputs": [
                {
                    "output_type": "stream",
                    "name": "stdout",
                    "text": [
                        "53.09\n"
                    ]
                }
            ],
            "metadata": {}
        },
        {
            "cell_type": "markdown",
            "source": [
                "naive bayes"
            ],
            "metadata": {}
        },
        {
            "cell_type": "code",
            "execution_count": 119,
            "source": [
                "from sklearn.naive_bayes import GaussianNB\r\n",
                "nbs = GaussianNB()\r\n",
                "nbs.fit(xtrain, ytrain)\r\n",
                "nbsp = nbs.predict(xtest)\r\n",
                "print(round(accuracy_score(nbsp,ytest)*100,2)) "
            ],
            "outputs": [
                {
                    "output_type": "stream",
                    "name": "stdout",
                    "text": [
                        "53.79\n"
                    ]
                }
            ],
            "metadata": {}
        },
        {
            "cell_type": "markdown",
            "source": [
                "K neighbours"
            ],
            "metadata": {}
        },
        {
            "cell_type": "code",
            "execution_count": 123,
            "source": [
                "from sklearn.neighbors import KNeighborsClassifier\r\n",
                "kns = KNeighborsClassifier(n_neighbors=9)\r\n",
                "kns.fit(xtrain, ytrain)\r\n",
                "knsp = kns.predict(xtest)\r\n",
                "print(round(accuracy_score(knsp,ytest)*100,2)) "
            ],
            "outputs": [
                {
                    "output_type": "stream",
                    "name": "stdout",
                    "text": [
                        "52.25\n"
                    ]
                }
            ],
            "metadata": {}
        },
        {
            "cell_type": "markdown",
            "source": [
                "decision tree"
            ],
            "metadata": {}
        },
        {
            "cell_type": "code",
            "execution_count": 124,
            "source": [
                "from sklearn.tree import DecisionTreeClassifier\r\n",
                "dst = DecisionTreeClassifier(random_state=50)\r\n",
                "dst.fit(xtrain, ytrain)\r\n",
                "dstp = dst.predict(xtest)\r\n",
                "print(round(accuracy_score(dstp,ytest)*100,2)) "
            ],
            "outputs": [
                {
                    "output_type": "stream",
                    "name": "stdout",
                    "text": [
                        "51.41\n"
                    ]
                }
            ],
            "metadata": {}
        },
        {
            "cell_type": "markdown",
            "source": [
                "random forest"
            ],
            "metadata": {}
        },
        {
            "cell_type": "code",
            "execution_count": 126,
            "source": [
                "from sklearn.ensemble import RandomForestClassifier\r\n",
                "rfs = RandomForestClassifier(n_estimators=500)\r\n",
                "rfs.fit(xtrain, ytrain)\r\n",
                "rfsp = rfs.predict(xtest)\r\n",
                "print(round(accuracy_score(rfsp,ytest)*100,2)) "
            ],
            "outputs": [
                {
                    "output_type": "stream",
                    "name": "stdout",
                    "text": [
                        "58.49\n"
                    ]
                }
            ],
            "metadata": {}
        }
    ],
    "metadata": {
        "orig_nbformat": 4,
        "language_info": {
            "name": "python"
        }
    },
    "nbformat": 4,
    "nbformat_minor": 2
}