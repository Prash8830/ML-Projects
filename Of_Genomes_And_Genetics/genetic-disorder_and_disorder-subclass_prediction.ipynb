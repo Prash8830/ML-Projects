{
    "cells": [
        {
            "cell_type": "markdown",
            "source": [
                "Classification Problem"
            ],
            "metadata": {}
        },
        {
            "cell_type": "markdown",
            "source": [
                "IMPORING MODULE"
            ],
            "metadata": {}
        },
        {
            "cell_type": "code",
            "execution_count": 99,
            "source": [
                "import pandas as pd\r\n",
                "import numpy as np \r\n",
                "\r\n",
                "from sklearn.preprocessing import LabelEncoder\r\n",
                "from sklearn.model_selection import train_test_split\r\n",
                "from sklearn.preprocessing import StandardScaler \r\n",
                "\r\n",
                "import seaborn as sns\r\n",
                "import matplotlib.pyplot as plt\r\n",
                "\r\n",
                "from sklearn.metrics import accuracy_score"
            ],
            "outputs": [],
            "metadata": {}
        },
        {
            "cell_type": "code",
            "execution_count": 100,
            "source": [
                "data = pd.read_csv(\"train.csv\") \r\n",
                "test = pd.read_csv(\"test.csv\")\r\n",
                "pid = test[\"Patient Id\"]"
            ],
            "outputs": [],
            "metadata": {}
        },
        {
            "cell_type": "markdown",
            "source": [
                "Removing columns which will not impact out target"
            ],
            "metadata": {}
        },
        {
            "cell_type": "code",
            "execution_count": 101,
            "source": [
                "data.drop([\"Patient Id\",\"Institute Name\", \"Patient First Name\", \"Family Name\", \"Father's name\"],axis=1,inplace=True) "
            ],
            "outputs": [],
            "metadata": {}
        },
        {
            "cell_type": "code",
            "execution_count": 102,
            "source": [
                "test.drop([\"Patient Id\",\"Institute Name\", \"Patient First Name\", \"Family Name\", \"Father's name\"],axis=1,inplace=True) "
            ],
            "outputs": [],
            "metadata": {}
        },
        {
            "cell_type": "code",
            "execution_count": 103,
            "source": [
                "data[\"Symptom 3\"].isnull()                                                    "
            ],
            "outputs": [
                {
                    "output_type": "execute_result",
                    "data": {
                        "text/plain": [
                            "0        False\n",
                            "1        False\n",
                            "2        False\n",
                            "3        False\n",
                            "4        False\n",
                            "         ...  \n",
                            "22078    False\n",
                            "22079    False\n",
                            "22080    False\n",
                            "22081    False\n",
                            "22082    False\n",
                            "Name: Symptom 3, Length: 22083, dtype: bool"
                        ]
                    },
                    "metadata": {},
                    "execution_count": 103
                }
            ],
            "metadata": {}
        },
        {
            "cell_type": "code",
            "execution_count": 104,
            "source": [
                "for i in data.columns:\r\n",
                "    t = data[i].isnull()\r\n",
                "    for j in range(len(data[i])):\r\n",
                "        if t[j]==True: \r\n",
                "            for k in range(len(data[i])): \r\n",
                "                if t[k]==False:\r\n",
                "                    data[i][j]=data[i][k]\r\n",
                "                    break    "
            ],
            "outputs": [
                {
                    "output_type": "stream",
                    "name": "stderr",
                    "text": [
                        "<ipython-input-104-a8cbfdc55cd9>:7: SettingWithCopyWarning: \n",
                        "A value is trying to be set on a copy of a slice from a DataFrame\n",
                        "\n",
                        "See the caveats in the documentation: https://pandas.pydata.org/pandas-docs/stable/user_guide/indexing.html#returning-a-view-versus-a-copy\n",
                        "  data[i][j]=data[i][k]\n"
                    ]
                }
            ],
            "metadata": {}
        },
        {
            "cell_type": "code",
            "execution_count": 105,
            "source": [
                "for i in test.columns:\r\n",
                "    t = test[i].isnull()\r\n",
                "    for j in range(len(test[i])):\r\n",
                "        if t[j]==True: \r\n",
                "            for k in range(len(test[i])): \r\n",
                "                if t[k]==False:\r\n",
                "                    test[i][j]=test[i][k]\r\n",
                "                    break"
            ],
            "outputs": [
                {
                    "output_type": "stream",
                    "name": "stderr",
                    "text": [
                        "<ipython-input-105-ee19c447c5e8>:7: SettingWithCopyWarning: \n",
                        "A value is trying to be set on a copy of a slice from a DataFrame\n",
                        "\n",
                        "See the caveats in the documentation: https://pandas.pydata.org/pandas-docs/stable/user_guide/indexing.html#returning-a-view-versus-a-copy\n",
                        "  test[i][j]=test[i][k]\n"
                    ]
                }
            ],
            "metadata": {}
        },
        {
            "cell_type": "code",
            "execution_count": 106,
            "source": [
                "data.info()"
            ],
            "outputs": [
                {
                    "output_type": "stream",
                    "name": "stdout",
                    "text": [
                        "<class 'pandas.core.frame.DataFrame'>\n",
                        "RangeIndex: 22083 entries, 0 to 22082\n",
                        "Data columns (total 40 columns):\n",
                        " #   Column                                            Non-Null Count  Dtype  \n",
                        "---  ------                                            --------------  -----  \n",
                        " 0   Patient Age                                       22083 non-null  float64\n",
                        " 1   Genes in mother's side                            22083 non-null  object \n",
                        " 2   Inherited from father                             22083 non-null  object \n",
                        " 3   Maternal gene                                     22083 non-null  object \n",
                        " 4   Paternal gene                                     22083 non-null  object \n",
                        " 5   Blood cell count (mcL)                            22083 non-null  float64\n",
                        " 6   Mother's age                                      22083 non-null  float64\n",
                        " 7   Father's age                                      22083 non-null  float64\n",
                        " 8   Location of Institute                             22083 non-null  object \n",
                        " 9   Status                                            22083 non-null  object \n",
                        " 10  Respiratory Rate (breaths/min)                    22083 non-null  object \n",
                        " 11  Heart Rate (rates/min                             22083 non-null  object \n",
                        " 12  Test 1                                            22083 non-null  float64\n",
                        " 13  Test 2                                            22083 non-null  float64\n",
                        " 14  Test 3                                            22083 non-null  float64\n",
                        " 15  Test 4                                            22083 non-null  float64\n",
                        " 16  Test 5                                            22083 non-null  float64\n",
                        " 17  Parental consent                                  22083 non-null  object \n",
                        " 18  Follow-up                                         22083 non-null  object \n",
                        " 19  Gender                                            22083 non-null  object \n",
                        " 20  Birth asphyxia                                    22083 non-null  object \n",
                        " 21  Autopsy shows birth defect (if applicable)        22083 non-null  object \n",
                        " 22  Place of birth                                    22083 non-null  object \n",
                        " 23  Folic acid details (peri-conceptional)            22083 non-null  object \n",
                        " 24  H/O serious maternal illness                      22083 non-null  object \n",
                        " 25  H/O radiation exposure (x-ray)                    22083 non-null  object \n",
                        " 26  H/O substance abuse                               22083 non-null  object \n",
                        " 27  Assisted conception IVF/ART                       22083 non-null  object \n",
                        " 28  History of anomalies in previous pregnancies      22083 non-null  object \n",
                        " 29  No. of previous abortion                          22083 non-null  float64\n",
                        " 30  Birth defects                                     22083 non-null  object \n",
                        " 31  White Blood cell count (thousand per microliter)  22083 non-null  float64\n",
                        " 32  Blood test result                                 22083 non-null  object \n",
                        " 33  Symptom 1                                         22083 non-null  float64\n",
                        " 34  Symptom 2                                         22083 non-null  float64\n",
                        " 35  Symptom 3                                         22083 non-null  float64\n",
                        " 36  Symptom 4                                         22083 non-null  float64\n",
                        " 37  Symptom 5                                         22083 non-null  float64\n",
                        " 38  Genetic Disorder                                  22083 non-null  object \n",
                        " 39  Disorder Subclass                                 22083 non-null  object \n",
                        "dtypes: float64(16), object(24)\n",
                        "memory usage: 6.7+ MB\n"
                    ]
                }
            ],
            "metadata": {}
        },
        {
            "cell_type": "code",
            "execution_count": 107,
            "source": [
                "data['Disorder Subclass'].nunique()   "
            ],
            "outputs": [
                {
                    "output_type": "execute_result",
                    "data": {
                        "text/plain": [
                            "9"
                        ]
                    },
                    "metadata": {},
                    "execution_count": 107
                }
            ],
            "metadata": {}
        },
        {
            "cell_type": "code",
            "execution_count": 108,
            "source": [
                "lable_y = { 'Mitochondrial genetic inheritance disorders': 0,\r\n",
                "                  'Multifactorial genetic inheritance disorders': 1,\r\n",
                "                  'Single-gene inheritance diseases':2\r\n",
                "}\r\n",
                "lable_z = {\"Leber's hereditary optic neuropathy\":0,\r\n",
                "              'Cystic fibrosis':1,\r\n",
                "              'Diabetes':2,\r\n",
                "              'Leigh syndrome':3,\r\n",
                "              'Cancer':4,\r\n",
                "              'Tay-Sachs':5,\r\n",
                "              'Hemochromatosis':6,\r\n",
                "               'Mitochondrial myopathy':7,\r\n",
                "                \"Alzheimer's\":8\r\n",
                " }"
            ],
            "outputs": [],
            "metadata": {}
        },
        {
            "cell_type": "code",
            "execution_count": 109,
            "source": [
                "data[\"Genetic Disorder\"] = data[\"Genetic Disorder\"].map(lable_y)\r\n",
                "data[\"Disorder Subclass\"] = data[\"Disorder Subclass\"].map(lable_z)"
            ],
            "outputs": [],
            "metadata": {}
        },
        {
            "cell_type": "code",
            "execution_count": 110,
            "source": [
                "le = LabelEncoder()"
            ],
            "outputs": [],
            "metadata": {}
        },
        {
            "cell_type": "markdown",
            "source": [
                "one of encoding"
            ],
            "metadata": {}
        },
        {
            "cell_type": "code",
            "execution_count": 111,
            "source": [
                "for i in data.columns:\r\n",
                "    if isinstance(data[i][0],str):\r\n",
                "        data[i] = le.fit_transform(data[i])"
            ],
            "outputs": [],
            "metadata": {}
        },
        {
            "cell_type": "code",
            "execution_count": 112,
            "source": [
                "for i in test.columns:\r\n",
                "    if isinstance(test[i][0],str):\r\n",
                "        test[i] = le.fit_transform(test[i])"
            ],
            "outputs": [],
            "metadata": {}
        },
        {
            "cell_type": "markdown",
            "source": [
                "Dividing data into three parts"
            ],
            "metadata": {}
        },
        {
            "cell_type": "code",
            "execution_count": 113,
            "source": [
                "x = data.drop([\"Genetic Disorder\",\"Disorder Subclass\"],axis=1)\r\n",
                "y = data[\"Genetic Disorder\"]\r\n",
                "z = data[\"Disorder Subclass\"]"
            ],
            "outputs": [],
            "metadata": {}
        },
        {
            "cell_type": "code",
            "execution_count": 114,
            "source": [
                "xtest = test"
            ],
            "outputs": [],
            "metadata": {}
        },
        {
            "cell_type": "code",
            "execution_count": 115,
            "source": [
                "print(x.shape,xtest.shape)"
            ],
            "outputs": [
                {
                    "output_type": "stream",
                    "name": "stdout",
                    "text": [
                        "(22083, 38) (9465, 38)\n"
                    ]
                }
            ],
            "metadata": {}
        },
        {
            "cell_type": "markdown",
            "source": [
                "standard scaling"
            ],
            "metadata": {}
        },
        {
            "cell_type": "code",
            "execution_count": 116,
            "source": [
                "x = StandardScaler().fit_transform(x)\r\n",
                "xtest = StandardScaler().fit_transform(xtest)"
            ],
            "outputs": [],
            "metadata": {}
        },
        {
            "cell_type": "markdown",
            "source": [
                "random forest"
            ],
            "metadata": {}
        },
        {
            "cell_type": "code",
            "execution_count": 117,
            "source": [
                "from sklearn.ensemble import RandomForestClassifier\r\n",
                "rfs = RandomForestClassifier(n_estimators=500)\r\n",
                "rfs.fit(x, y)\r\n",
                "rfspy = rfs.predict(xtest)  "
            ],
            "outputs": [],
            "metadata": {}
        },
        {
            "cell_type": "markdown",
            "source": [
                "for z parameter"
            ],
            "metadata": {}
        },
        {
            "cell_type": "code",
            "execution_count": 118,
            "source": [
                "from sklearn.ensemble import RandomForestClassifier\r\n",
                "lrs = RandomForestClassifier(n_estimators=500)\r\n",
                "lrs.fit(x, z)\r\n",
                "lrsp = lrs.predict(xtest)"
            ],
            "outputs": [],
            "metadata": {}
        },
        {
            "cell_type": "code",
            "execution_count": 119,
            "source": [
                "lable_y = { 0:'Mitochondrial genetic inheritance disorders',\r\n",
                "                  1:'Multifactorial genetic inheritance disorders',\r\n",
                "                 2: 'Single-gene inheritance diseases'\r\n",
                "}\r\n",
                "lable_z = {0:\"Leber's hereditary optic neuropathy\",\r\n",
                "              1:'Cystic fibrosis',\r\n",
                "              2:'Diabetes',\r\n",
                "              3:'Leigh syndrome',\r\n",
                "              4:'Cancer',\r\n",
                "              5:'Tay-Sachs',\r\n",
                "              6:'Hemochromatosis',\r\n",
                "               7:'Mitochondrial myopathy',\r\n",
                "                8:\"Alzheimer's\"\r\n",
                " }"
            ],
            "outputs": [],
            "metadata": {}
        },
        {
            "cell_type": "code",
            "execution_count": 123,
            "source": [
                "res = {\r\n",
                "    \"Patient Id\":pid,\r\n",
                "    \"Genetic Disorder\":rfspy,\r\n",
                "    \"Disorder Subclass\":lrsp\r\n",
                "}"
            ],
            "outputs": [],
            "metadata": {}
        },
        {
            "cell_type": "code",
            "execution_count": 125,
            "source": [
                "res = pd.DataFrame(res)"
            ],
            "outputs": [],
            "metadata": {}
        },
        {
            "cell_type": "code",
            "execution_count": 126,
            "source": [
                "res[\"Genetic Disorder\"] = res[\"Genetic Disorder\"].map(lable_y)\r\n",
                "res[\"Disorder Subclass\"] = res[\"Disorder Subclass\"].map(lable_z)"
            ],
            "outputs": [],
            "metadata": {}
        },
        {
            "cell_type": "code",
            "execution_count": 129,
            "source": [
                "res.to_csv(\"submission1.csv\", index=False)"
            ],
            "outputs": [],
            "metadata": {}
        }
    ],
    "metadata": {
        "orig_nbformat": 4,
        "language_info": {
            "name": "python"
        }
    },
    "nbformat": 4,
    "nbformat_minor": 2
}