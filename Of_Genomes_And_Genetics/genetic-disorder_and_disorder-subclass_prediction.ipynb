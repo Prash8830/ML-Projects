{
    "cells": [
        {
            "cell_type": "markdown",
            "source": [
                "Classification Problem"
            ],
            "metadata": {}
        },
        {
            "cell_type": "markdown",
            "source": [
                "IMPORING MODULE"
            ],
            "metadata": {}
        },
        {
            "cell_type": "code",
            "execution_count": 41,
            "source": [
                "import pandas as pd\r\n",
                "import numpy as np \r\n",
                "\r\n",
                "from sklearn.preprocessing import LabelEncoder\r\n",
                "from sklearn.model_selection import train_test_split\r\n",
                "from sklearn.preprocessing import StandardScaler \r\n",
                "\r\n",
                "import seaborn as sns\r\n",
                "import matplotlib.pyplot as plt\r\n",
                "\r\n",
                "from sklearn.metrics import accuracy_score"
            ],
            "outputs": [],
            "metadata": {}
        },
        {
            "cell_type": "code",
            "execution_count": 42,
            "source": [
                "data = pd.read_csv(\"train.csv\") \r\n",
                "test = pd.read_csv(\"test.csv\")\r\n",
                "pid = test[\"Patient Id\"]"
            ],
            "outputs": [],
            "metadata": {}
        },
        {
            "cell_type": "markdown",
            "source": [
                "Removing columns which will not impact out target"
            ],
            "metadata": {}
        },
        {
            "cell_type": "code",
            "execution_count": 43,
            "source": [
                "data.info()"
            ],
            "outputs": [
                {
                    "output_type": "stream",
                    "name": "stdout",
                    "text": [
                        "<class 'pandas.core.frame.DataFrame'>\n",
                        "RangeIndex: 22083 entries, 0 to 22082\n",
                        "Data columns (total 45 columns):\n",
                        " #   Column                                            Non-Null Count  Dtype  \n",
                        "---  ------                                            --------------  -----  \n",
                        " 0   Patient Id                                        22083 non-null  object \n",
                        " 1   Patient Age                                       20656 non-null  float64\n",
                        " 2   Genes in mother's side                            22083 non-null  object \n",
                        " 3   Inherited from father                             21777 non-null  object \n",
                        " 4   Maternal gene                                     19273 non-null  object \n",
                        " 5   Paternal gene                                     22083 non-null  object \n",
                        " 6   Blood cell count (mcL)                            22083 non-null  float64\n",
                        " 7   Patient First Name                                22083 non-null  object \n",
                        " 8   Family Name                                       12392 non-null  object \n",
                        " 9   Father's name                                     22083 non-null  object \n",
                        " 10  Mother's age                                      16047 non-null  float64\n",
                        " 11  Father's age                                      16097 non-null  float64\n",
                        " 12  Institute Name                                    16977 non-null  object \n",
                        " 13  Location of Institute                             22083 non-null  object \n",
                        " 14  Status                                            22083 non-null  object \n",
                        " 15  Respiratory Rate (breaths/min)                    19934 non-null  object \n",
                        " 16  Heart Rate (rates/min                             19970 non-null  object \n",
                        " 17  Test 1                                            19956 non-null  float64\n",
                        " 18  Test 2                                            19931 non-null  float64\n",
                        " 19  Test 3                                            19936 non-null  float64\n",
                        " 20  Test 4                                            19943 non-null  float64\n",
                        " 21  Test 5                                            19913 non-null  float64\n",
                        " 22  Parental consent                                  19958 non-null  object \n",
                        " 23  Follow-up                                         19917 non-null  object \n",
                        " 24  Gender                                            19910 non-null  object \n",
                        " 25  Birth asphyxia                                    19944 non-null  object \n",
                        " 26  Autopsy shows birth defect (if applicable)        21057 non-null  object \n",
                        " 27  Place of birth                                    19959 non-null  object \n",
                        " 28  Folic acid details (peri-conceptional)            19966 non-null  object \n",
                        " 29  H/O serious maternal illness                      19931 non-null  object \n",
                        " 30  H/O radiation exposure (x-ray)                    19930 non-null  object \n",
                        " 31  H/O substance abuse                               19888 non-null  object \n",
                        " 32  Assisted conception IVF/ART                       19961 non-null  object \n",
                        " 33  History of anomalies in previous pregnancies      19911 non-null  object \n",
                        " 34  No. of previous abortion                          19921 non-null  float64\n",
                        " 35  Birth defects                                     19929 non-null  object \n",
                        " 36  White Blood cell count (thousand per microliter)  19935 non-null  float64\n",
                        " 37  Blood test result                                 19938 non-null  object \n",
                        " 38  Symptom 1                                         19928 non-null  float64\n",
                        " 39  Symptom 2                                         19861 non-null  float64\n",
                        " 40  Symptom 3                                         19982 non-null  float64\n",
                        " 41  Symptom 4                                         19970 non-null  float64\n",
                        " 42  Symptom 5                                         19930 non-null  float64\n",
                        " 43  Genetic Disorder                                  19937 non-null  object \n",
                        " 44  Disorder Subclass                                 19915 non-null  object \n",
                        "dtypes: float64(16), object(29)\n",
                        "memory usage: 7.6+ MB\n"
                    ]
                }
            ],
            "metadata": {}
        },
        {
            "cell_type": "code",
            "execution_count": 44,
            "source": [
                "data[\"Genetic Disorder\"].mode()[0]\r\n"
            ],
            "outputs": [
                {
                    "output_type": "execute_result",
                    "data": {
                        "text/plain": [
                            "'Mitochondrial genetic inheritance disorders'"
                        ]
                    },
                    "metadata": {},
                    "execution_count": 44
                }
            ],
            "metadata": {}
        },
        {
            "cell_type": "code",
            "execution_count": 45,
            "source": [
                "data.drop([\"Patient Id\",\"Institute Name\", \"Patient First Name\", \"Family Name\", \"Father's name\"],axis=1,inplace=True) "
            ],
            "outputs": [],
            "metadata": {}
        },
        {
            "cell_type": "code",
            "execution_count": 46,
            "source": [
                "test.drop([\"Patient Id\",\"Institute Name\", \"Patient First Name\", \"Family Name\", \"Father's name\"],axis=1,inplace=True) "
            ],
            "outputs": [],
            "metadata": {}
        },
        {
            "cell_type": "code",
            "execution_count": 47,
            "source": [
                "data[\"Symptom 3\"].isnull()                                                    "
            ],
            "outputs": [
                {
                    "output_type": "execute_result",
                    "data": {
                        "text/plain": [
                            "0        False\n",
                            "1        False\n",
                            "2        False\n",
                            "3        False\n",
                            "4        False\n",
                            "         ...  \n",
                            "22078    False\n",
                            "22079    False\n",
                            "22080    False\n",
                            "22081    False\n",
                            "22082    False\n",
                            "Name: Symptom 3, Length: 22083, dtype: bool"
                        ]
                    },
                    "metadata": {},
                    "execution_count": 47
                }
            ],
            "metadata": {}
        },
        {
            "cell_type": "code",
            "execution_count": 48,
            "source": [
                "for i in data.columns:\r\n",
                "    t = data[i].isnull()\r\n",
                "    for j in range(len(data[i])):\r\n",
                "        if t[j]==True: \r\n",
                "            data[i][j]=data[i].mode()[0]\r\n",
                "             "
            ],
            "outputs": [
                {
                    "output_type": "stream",
                    "name": "stderr",
                    "text": [
                        "<ipython-input-48-1d47fb9433fc>:5: SettingWithCopyWarning: \n",
                        "A value is trying to be set on a copy of a slice from a DataFrame\n",
                        "\n",
                        "See the caveats in the documentation: https://pandas.pydata.org/pandas-docs/stable/user_guide/indexing.html#returning-a-view-versus-a-copy\n",
                        "  data[i][j]=data[i].mode()[0]\n"
                    ]
                }
            ],
            "metadata": {}
        },
        {
            "cell_type": "code",
            "execution_count": 49,
            "source": [
                "for i in test.columns:\r\n",
                "    t = test[i].isnull()\r\n",
                "    for j in range(len(test[i])):\r\n",
                "        if t[j]==True: \r\n",
                "            test[i][j]=test[i].mode()[0]\r\n",
                "           "
            ],
            "outputs": [
                {
                    "output_type": "stream",
                    "name": "stderr",
                    "text": [
                        "<ipython-input-49-d0ad966f3dfe>:5: SettingWithCopyWarning: \n",
                        "A value is trying to be set on a copy of a slice from a DataFrame\n",
                        "\n",
                        "See the caveats in the documentation: https://pandas.pydata.org/pandas-docs/stable/user_guide/indexing.html#returning-a-view-versus-a-copy\n",
                        "  test[i][j]=test[i].mode()[0]\n"
                    ]
                }
            ],
            "metadata": {}
        },
        {
            "cell_type": "code",
            "execution_count": 50,
            "source": [
                "data.info()"
            ],
            "outputs": [
                {
                    "output_type": "stream",
                    "name": "stdout",
                    "text": [
                        "<class 'pandas.core.frame.DataFrame'>\n",
                        "RangeIndex: 22083 entries, 0 to 22082\n",
                        "Data columns (total 40 columns):\n",
                        " #   Column                                            Non-Null Count  Dtype  \n",
                        "---  ------                                            --------------  -----  \n",
                        " 0   Patient Age                                       22083 non-null  float64\n",
                        " 1   Genes in mother's side                            22083 non-null  object \n",
                        " 2   Inherited from father                             22083 non-null  object \n",
                        " 3   Maternal gene                                     22083 non-null  object \n",
                        " 4   Paternal gene                                     22083 non-null  object \n",
                        " 5   Blood cell count (mcL)                            22083 non-null  float64\n",
                        " 6   Mother's age                                      22083 non-null  float64\n",
                        " 7   Father's age                                      22083 non-null  float64\n",
                        " 8   Location of Institute                             22083 non-null  object \n",
                        " 9   Status                                            22083 non-null  object \n",
                        " 10  Respiratory Rate (breaths/min)                    22083 non-null  object \n",
                        " 11  Heart Rate (rates/min                             22083 non-null  object \n",
                        " 12  Test 1                                            22083 non-null  float64\n",
                        " 13  Test 2                                            22083 non-null  float64\n",
                        " 14  Test 3                                            22083 non-null  float64\n",
                        " 15  Test 4                                            22083 non-null  float64\n",
                        " 16  Test 5                                            22083 non-null  float64\n",
                        " 17  Parental consent                                  22083 non-null  object \n",
                        " 18  Follow-up                                         22083 non-null  object \n",
                        " 19  Gender                                            22083 non-null  object \n",
                        " 20  Birth asphyxia                                    22083 non-null  object \n",
                        " 21  Autopsy shows birth defect (if applicable)        22083 non-null  object \n",
                        " 22  Place of birth                                    22083 non-null  object \n",
                        " 23  Folic acid details (peri-conceptional)            22083 non-null  object \n",
                        " 24  H/O serious maternal illness                      22083 non-null  object \n",
                        " 25  H/O radiation exposure (x-ray)                    22083 non-null  object \n",
                        " 26  H/O substance abuse                               22083 non-null  object \n",
                        " 27  Assisted conception IVF/ART                       22083 non-null  object \n",
                        " 28  History of anomalies in previous pregnancies      22083 non-null  object \n",
                        " 29  No. of previous abortion                          22083 non-null  float64\n",
                        " 30  Birth defects                                     22083 non-null  object \n",
                        " 31  White Blood cell count (thousand per microliter)  22083 non-null  float64\n",
                        " 32  Blood test result                                 22083 non-null  object \n",
                        " 33  Symptom 1                                         22083 non-null  float64\n",
                        " 34  Symptom 2                                         22083 non-null  float64\n",
                        " 35  Symptom 3                                         22083 non-null  float64\n",
                        " 36  Symptom 4                                         22083 non-null  float64\n",
                        " 37  Symptom 5                                         22083 non-null  float64\n",
                        " 38  Genetic Disorder                                  22083 non-null  object \n",
                        " 39  Disorder Subclass                                 22083 non-null  object \n",
                        "dtypes: float64(16), object(24)\n",
                        "memory usage: 6.7+ MB\n"
                    ]
                }
            ],
            "metadata": {}
        },
        {
            "cell_type": "code",
            "execution_count": 51,
            "source": [
                "data['Disorder Subclass'].nunique()   "
            ],
            "outputs": [
                {
                    "output_type": "execute_result",
                    "data": {
                        "text/plain": [
                            "9"
                        ]
                    },
                    "metadata": {},
                    "execution_count": 51
                }
            ],
            "metadata": {}
        },
        {
            "cell_type": "code",
            "execution_count": 52,
            "source": [
                "lable_y = { 'Mitochondrial genetic inheritance disorders': 0,\r\n",
                "                  'Multifactorial genetic inheritance disorders': 1,\r\n",
                "                  'Single-gene inheritance diseases':2\r\n",
                "}\r\n",
                "lable_z = {\"Leber's hereditary optic neuropathy\":0,\r\n",
                "              'Cystic fibrosis':1,\r\n",
                "              'Diabetes':2,\r\n",
                "              'Leigh syndrome':3,\r\n",
                "              'Cancer':4,\r\n",
                "              'Tay-Sachs':5,\r\n",
                "              'Hemochromatosis':6,\r\n",
                "               'Mitochondrial myopathy':7,\r\n",
                "                \"Alzheimer's\":8\r\n",
                " }"
            ],
            "outputs": [],
            "metadata": {}
        },
        {
            "cell_type": "code",
            "execution_count": 53,
            "source": [
                "data[\"Genetic Disorder\"] = data[\"Genetic Disorder\"].map(lable_y)\r\n",
                "data[\"Disorder Subclass\"] = data[\"Disorder Subclass\"].map(lable_z)"
            ],
            "outputs": [],
            "metadata": {}
        },
        {
            "cell_type": "markdown",
            "source": [
                "one hot encoding"
            ],
            "metadata": {}
        },
        {
            "cell_type": "code",
            "execution_count": 54,
            "source": [
                "m = data.columns\r\n",
                "m"
            ],
            "outputs": [
                {
                    "output_type": "execute_result",
                    "data": {
                        "text/plain": [
                            "Index(['Patient Age', 'Genes in mother's side', 'Inherited from father',\n",
                            "       'Maternal gene', 'Paternal gene', 'Blood cell count (mcL)',\n",
                            "       'Mother's age', 'Father's age', 'Location of Institute', 'Status',\n",
                            "       'Respiratory Rate (breaths/min)', 'Heart Rate (rates/min', 'Test 1',\n",
                            "       'Test 2', 'Test 3', 'Test 4', 'Test 5', 'Parental consent', 'Follow-up',\n",
                            "       'Gender', 'Birth asphyxia',\n",
                            "       'Autopsy shows birth defect (if applicable)', 'Place of birth',\n",
                            "       'Folic acid details (peri-conceptional)',\n",
                            "       'H/O serious maternal illness', 'H/O radiation exposure (x-ray)',\n",
                            "       'H/O substance abuse', 'Assisted conception IVF/ART',\n",
                            "       'History of anomalies in previous pregnancies',\n",
                            "       'No. of previous abortion', 'Birth defects',\n",
                            "       'White Blood cell count (thousand per microliter)', 'Blood test result',\n",
                            "       'Symptom 1', 'Symptom 2', 'Symptom 3', 'Symptom 4', 'Symptom 5',\n",
                            "       'Genetic Disorder', 'Disorder Subclass'],\n",
                            "      dtype='object')"
                        ]
                    },
                    "metadata": {},
                    "execution_count": 54
                }
            ],
            "metadata": {}
        },
        {
            "cell_type": "code",
            "execution_count": 55,
            "source": [
                "m = data.columns\r\n",
                "for i in m:\r\n",
                "    if isinstance(data[i][0],str):\r\n",
                "        k =pd.get_dummies(data,columns=[i])\r\n",
                "        data = pd.merge(data,k)\r\n",
                "        data.drop(i,axis=1,inplace=True)"
            ],
            "outputs": [],
            "metadata": {}
        },
        {
            "cell_type": "code",
            "execution_count": 56,
            "source": [
                "m = test.columns\r\n",
                "for i in m:\r\n",
                "    if isinstance(test[i][0],str):\r\n",
                "        k =pd.get_dummies(test,columns=[i])\r\n",
                "        test = pd.merge(test,k)\r\n",
                "        test.drop(i,axis=1,inplace=True)"
            ],
            "outputs": [],
            "metadata": {}
        },
        {
            "cell_type": "code",
            "execution_count": 57,
            "source": [
                "data.info()"
            ],
            "outputs": [
                {
                    "output_type": "stream",
                    "name": "stdout",
                    "text": [
                        "<class 'pandas.core.frame.DataFrame'>\n",
                        "Int64Index: 22083 entries, 0 to 22082\n",
                        "Data columns (total 96 columns):\n",
                        " #   Column                                                                                                         Non-Null Count  Dtype  \n",
                        "---  ------                                                                                                         --------------  -----  \n",
                        " 0   Patient Age                                                                                                    22083 non-null  float64\n",
                        " 1   Blood cell count (mcL)                                                                                         22083 non-null  float64\n",
                        " 2   Mother's age                                                                                                   22083 non-null  float64\n",
                        " 3   Father's age                                                                                                   22083 non-null  float64\n",
                        " 4   Test 1                                                                                                         22083 non-null  float64\n",
                        " 5   Test 2                                                                                                         22083 non-null  float64\n",
                        " 6   Test 3                                                                                                         22083 non-null  float64\n",
                        " 7   Test 4                                                                                                         22083 non-null  float64\n",
                        " 8   Test 5                                                                                                         22083 non-null  float64\n",
                        " 9   No. of previous abortion                                                                                       22083 non-null  float64\n",
                        " 10  White Blood cell count (thousand per microliter)                                                               22083 non-null  float64\n",
                        " 11  Symptom 1                                                                                                      22083 non-null  float64\n",
                        " 12  Symptom 2                                                                                                      22083 non-null  float64\n",
                        " 13  Symptom 3                                                                                                      22083 non-null  float64\n",
                        " 14  Symptom 4                                                                                                      22083 non-null  float64\n",
                        " 15  Symptom 5                                                                                                      22083 non-null  float64\n",
                        " 16  Genetic Disorder                                                                                               22083 non-null  int64  \n",
                        " 17  Disorder Subclass                                                                                              22083 non-null  int64  \n",
                        " 18  Genes in mother's side_No                                                                                      22083 non-null  uint8  \n",
                        " 19  Genes in mother's side_Yes                                                                                     22083 non-null  uint8  \n",
                        " 20  Inherited from father_No                                                                                       22083 non-null  uint8  \n",
                        " 21  Inherited from father_Yes                                                                                      22083 non-null  uint8  \n",
                        " 22  Maternal gene_No                                                                                               22083 non-null  uint8  \n",
                        " 23  Maternal gene_Yes                                                                                              22083 non-null  uint8  \n",
                        " 24  Paternal gene_No                                                                                               22083 non-null  uint8  \n",
                        " 25  Paternal gene_Yes                                                                                              22083 non-null  uint8  \n",
                        " 26  Location of Institute_-                                                                                        22083 non-null  uint8  \n",
                        " 27  Location of Institute_1153 CENTRE ST\n",
                        "JAMAICA PLAIN, MA 02130\n",
                        "(42.30021828265608, -71.12789683059322)           22083 non-null  uint8  \n",
                        " 28  Location of Institute_1200 Centre St\n",
                        "Roslindale, MA 02131\n",
                        "(42.29738386053219, -71.13150465441208)              22083 non-null  uint8  \n",
                        " 29  Location of Institute_125 NASHUA ST\n",
                        "CENTRAL, MA 02114\n",
                        "(42.36764789068138, -71.06564730220646)                  22083 non-null  uint8  \n",
                        " 30  Location of Institute_125 PARKER HILL AV\n",
                        "JAMAICA PLAIN, MA 02120\n",
                        "(42.329611374844326, -71.10616871232227)      22083 non-null  uint8  \n",
                        " 31  Location of Institute_1400 VFW Parkway\n",
                        "West Roxbury, MA 02132\n",
                        "(42.27598935537618, -71.17245195460838)          22083 non-null  uint8  \n",
                        " 32  Location of Institute_1515 COMMONWEALTH AV\n",
                        "ALLSTON/BRIGHTON, MA 02135\n",
                        "(42.34665771451756, -71.14136122385321)  22083 non-null  uint8  \n",
                        " 33  Location of Institute_170 MORTON ST\n",
                        "ROSLINDALE, MA 02130\n",
                        "(42.30025000839615, -71.10737910445549)               22083 non-null  uint8  \n",
                        " 34  Location of Institute_185 PILGRIM RD\n",
                        "FENWAY/KENMORE, MA 02215\n",
                        "(42.3385289546495, -71.10940050507557)           22083 non-null  uint8  \n",
                        " 35  Location of Institute_2100 DORCHESTER AV\n",
                        "DORCHESTER, MA 02124\n",
                        "(42.27854306401838, -71.06631280050811)          22083 non-null  uint8  \n",
                        " 36  Location of Institute_243 CHARLES ST\n",
                        "CENTRAL, MA 02114\n",
                        "(42.36297141612903, -71.07043169540236)                 22083 non-null  uint8  \n",
                        " 37  Location of Institute_249 RIVER ST\n",
                        "MATTAPAN, MA 02126\n",
                        "(42.27137912172521, -71.08168028446168)                  22083 non-null  uint8  \n",
                        " 38  Location of Institute_30 WARREN ST\n",
                        "ALLSTON/BRIGHTON, MA 02134\n",
                        "(42.352620000312925, -71.13281000028115)         22083 non-null  uint8  \n",
                        " 39  Location of Institute_300 LONGWOOD AV\n",
                        "FENWAY/KENMORE, MA 02115\n",
                        "(42.337592548462226, -71.10472284437952)        22083 non-null  uint8  \n",
                        " 40  Location of Institute_330 BROOKLINE AV\n",
                        "FENWAY/KENMORE, MA 02115\n",
                        "(42.3438499996779, -71.08983000035408)         22083 non-null  uint8  \n",
                        " 41  Location of Institute_44 BINNEY ST\n",
                        "FENWAY/KENMORE, MA 02115\n",
                        "(42.33734993862189, -71.1071702648531)             22083 non-null  uint8  \n",
                        " 42  Location of Institute_49 ROBINWOOD AV\n",
                        "JAMAICA PLAIN, MA 02130\n",
                        "(42.31617666213941, -71.11272670363542)          22083 non-null  uint8  \n",
                        " 43  Location of Institute_51 BLOSSOM ST\n",
                        "CENTRAL, MA 02114\n",
                        "(42.36327718561898, -71.0668523937257)                   22083 non-null  uint8  \n",
                        " 44  Location of Institute_55 FRUIT ST\n",
                        "CENTRAL, MA 02114\n",
                        "(42.36247485742686, -71.06924724545246)                    22083 non-null  uint8  \n",
                        " 45  Location of Institute_59 TOWNSEND ST\n",
                        "ROXBURY, MA 02119\n",
                        "(42.31856289432221, -71.09165569529381)                 22083 non-null  uint8  \n",
                        " 46  Location of Institute_736 CAMBRIDGE ST\n",
                        "ALLSTON/BRIGHTON, MA 02135\n",
                        "(42.349656455743144, -71.14822103232248)     22083 non-null  uint8  \n",
                        " 47  Location of Institute_75 FRANCIS ST\n",
                        "FENWAY/KENMORE, MA 02115\n",
                        "(42.33587602903896, -71.10741054246668)           22083 non-null  uint8  \n",
                        " 48  Location of Institute_750 WASHINGTON ST\n",
                        "CENTRAL, MA 02111\n",
                        "(42.349946522039204, -71.0634111017112)              22083 non-null  uint8  \n",
                        " 49  Location of Institute_818 HARRISON AV\n",
                        "SOUTH END, MA 02118\n",
                        "(42.335925371008436, -71.07378404269969)             22083 non-null  uint8  \n",
                        " 50  Location of Institute_88 EAST NEWTON ST\n",
                        "SOUTH END, MA 02118\n",
                        "(42.3371094801158, -71.07139912234962)             22083 non-null  uint8  \n",
                        " 51  Location of Institute_90 CUSHING AV\n",
                        "DORCHESTER, MA 02125\n",
                        "(42.314030311294516, -71.06406449543488)              22083 non-null  uint8  \n",
                        " 52  Status_Alive                                                                                                   22083 non-null  uint8  \n",
                        " 53  Status_Deceased                                                                                                22083 non-null  uint8  \n",
                        " 54  Respiratory Rate (breaths/min)_Normal (30-60)                                                                  22083 non-null  uint8  \n",
                        " 55  Respiratory Rate (breaths/min)_Tachypnea                                                                       22083 non-null  uint8  \n",
                        " 56  Heart Rate (rates/min_Normal                                                                                   22083 non-null  uint8  \n",
                        " 57  Heart Rate (rates/min_Tachycardia                                                                              22083 non-null  uint8  \n",
                        " 58  Parental consent_Yes                                                                                           22083 non-null  uint8  \n",
                        " 59  Follow-up_High                                                                                                 22083 non-null  uint8  \n",
                        " 60  Follow-up_Low                                                                                                  22083 non-null  uint8  \n",
                        " 61  Gender_Ambiguous                                                                                               22083 non-null  uint8  \n",
                        " 62  Gender_Female                                                                                                  22083 non-null  uint8  \n",
                        " 63  Gender_Male                                                                                                    22083 non-null  uint8  \n",
                        " 64  Birth asphyxia_No                                                                                              22083 non-null  uint8  \n",
                        " 65  Birth asphyxia_No record                                                                                       22083 non-null  uint8  \n",
                        " 66  Birth asphyxia_Not available                                                                                   22083 non-null  uint8  \n",
                        " 67  Birth asphyxia_Yes                                                                                             22083 non-null  uint8  \n",
                        " 68  Autopsy shows birth defect (if applicable)_No                                                                  22083 non-null  uint8  \n",
                        " 69  Autopsy shows birth defect (if applicable)_None                                                                22083 non-null  uint8  \n",
                        " 70  Autopsy shows birth defect (if applicable)_Not applicable                                                      22083 non-null  uint8  \n",
                        " 71  Autopsy shows birth defect (if applicable)_Yes                                                                 22083 non-null  uint8  \n",
                        " 72  Place of birth_Home                                                                                            22083 non-null  uint8  \n",
                        " 73  Place of birth_Institute                                                                                       22083 non-null  uint8  \n",
                        " 74  Folic acid details (peri-conceptional)_No                                                                      22083 non-null  uint8  \n",
                        " 75  Folic acid details (peri-conceptional)_Yes                                                                     22083 non-null  uint8  \n",
                        " 76  H/O serious maternal illness_No                                                                                22083 non-null  uint8  \n",
                        " 77  H/O serious maternal illness_Yes                                                                               22083 non-null  uint8  \n",
                        " 78  H/O radiation exposure (x-ray)_-                                                                               22083 non-null  uint8  \n",
                        " 79  H/O radiation exposure (x-ray)_No                                                                              22083 non-null  uint8  \n",
                        " 80  H/O radiation exposure (x-ray)_Not applicable                                                                  22083 non-null  uint8  \n",
                        " 81  H/O radiation exposure (x-ray)_Yes                                                                             22083 non-null  uint8  \n",
                        " 82  H/O substance abuse_-                                                                                          22083 non-null  uint8  \n",
                        " 83  H/O substance abuse_No                                                                                         22083 non-null  uint8  \n",
                        " 84  H/O substance abuse_Not applicable                                                                             22083 non-null  uint8  \n",
                        " 85  H/O substance abuse_Yes                                                                                        22083 non-null  uint8  \n",
                        " 86  Assisted conception IVF/ART_No                                                                                 22083 non-null  uint8  \n",
                        " 87  Assisted conception IVF/ART_Yes                                                                                22083 non-null  uint8  \n",
                        " 88  History of anomalies in previous pregnancies_No                                                                22083 non-null  uint8  \n",
                        " 89  History of anomalies in previous pregnancies_Yes                                                               22083 non-null  uint8  \n",
                        " 90  Birth defects_Multiple                                                                                         22083 non-null  uint8  \n",
                        " 91  Birth defects_Singular                                                                                         22083 non-null  uint8  \n",
                        " 92  Blood test result_abnormal                                                                                     22083 non-null  uint8  \n",
                        " 93  Blood test result_inconclusive                                                                                 22083 non-null  uint8  \n",
                        " 94  Blood test result_normal                                                                                       22083 non-null  uint8  \n",
                        " 95  Blood test result_slightly abnormal                                                                            22083 non-null  uint8  \n",
                        "dtypes: float64(16), int64(2), uint8(78)\n",
                        "memory usage: 5.3 MB\n"
                    ]
                }
            ],
            "metadata": {}
        },
        {
            "cell_type": "code",
            "execution_count": null,
            "source": [
                "data.isnull().sum()"
            ],
            "outputs": [],
            "metadata": {}
        },
        {
            "cell_type": "code",
            "execution_count": 64,
            "source": [
                "test.isnull().sum()"
            ],
            "outputs": [
                {
                    "output_type": "execute_result",
                    "data": {
                        "text/plain": [
                            "Patient Age                            0\n",
                            "Blood cell count (mcL)                 0\n",
                            "Mother's age                           0\n",
                            "Father's age                           0\n",
                            "Test 1                                 0\n",
                            "                                      ..\n",
                            "Blood test result_-99                  0\n",
                            "Blood test result_abnormal             0\n",
                            "Blood test result_inconclusive         0\n",
                            "Blood test result_normal               0\n",
                            "Blood test result_slightly abnormal    0\n",
                            "Length: 110, dtype: int64"
                        ]
                    },
                    "metadata": {},
                    "execution_count": 64
                }
            ],
            "metadata": {}
        },
        {
            "cell_type": "markdown",
            "source": [
                "Dividing data into three parts"
            ],
            "metadata": {}
        },
        {
            "cell_type": "code",
            "execution_count": 58,
            "source": [
                "x = data.drop([\"Genetic Disorder\",\"Disorder Subclass\"],axis=1)\r\n",
                "y = data[\"Genetic Disorder\"]\r\n",
                "z = data[\"Disorder Subclass\"]"
            ],
            "outputs": [],
            "metadata": {}
        },
        {
            "cell_type": "code",
            "execution_count": 59,
            "source": [
                "xtest = test"
            ],
            "outputs": [],
            "metadata": {}
        },
        {
            "cell_type": "code",
            "execution_count": 60,
            "source": [
                "print(x.shape,xtest.shape)"
            ],
            "outputs": [
                {
                    "output_type": "stream",
                    "name": "stdout",
                    "text": [
                        "(22083, 94) (9465, 110)\n"
                    ]
                }
            ],
            "metadata": {}
        },
        {
            "cell_type": "markdown",
            "source": [
                "standard scaling"
            ],
            "metadata": {}
        },
        {
            "cell_type": "code",
            "execution_count": 61,
            "source": [
                "x = StandardScaler().fit_transform(x)\r\n",
                "xtest = StandardScaler().fit_transform(xtest)"
            ],
            "outputs": [],
            "metadata": {}
        },
        {
            "cell_type": "markdown",
            "source": [
                "random forest"
            ],
            "metadata": {}
        },
        {
            "cell_type": "code",
            "execution_count": 62,
            "source": [
                "from sklearn.ensemble import RandomForestClassifier\r\n",
                "rfs = RandomForestClassifier(n_estimators=500) \r\n",
                "rfs.fit(x, y)\r\n",
                "rfspy = rfs.predict(xtest)  "
            ],
            "outputs": [
                {
                    "output_type": "error",
                    "ename": "ValueError",
                    "evalue": "X has 110 features, but DecisionTreeClassifier is expecting 94 features as input.",
                    "traceback": [
                        "\u001b[1;31m---------------------------------------------------------------------------\u001b[0m",
                        "\u001b[1;31mValueError\u001b[0m                                Traceback (most recent call last)",
                        "\u001b[1;32m<ipython-input-62-0972f55b17a9>\u001b[0m in \u001b[0;36m<module>\u001b[1;34m\u001b[0m\n\u001b[0;32m      2\u001b[0m \u001b[0mrfs\u001b[0m \u001b[1;33m=\u001b[0m \u001b[0mRandomForestClassifier\u001b[0m\u001b[1;33m(\u001b[0m\u001b[0mn_estimators\u001b[0m\u001b[1;33m=\u001b[0m\u001b[1;36m500\u001b[0m\u001b[1;33m)\u001b[0m\u001b[1;33m\u001b[0m\u001b[1;33m\u001b[0m\u001b[0m\n\u001b[0;32m      3\u001b[0m \u001b[0mrfs\u001b[0m\u001b[1;33m.\u001b[0m\u001b[0mfit\u001b[0m\u001b[1;33m(\u001b[0m\u001b[0mx\u001b[0m\u001b[1;33m,\u001b[0m \u001b[0my\u001b[0m\u001b[1;33m)\u001b[0m\u001b[1;33m\u001b[0m\u001b[1;33m\u001b[0m\u001b[0m\n\u001b[1;32m----> 4\u001b[1;33m \u001b[0mrfspy\u001b[0m \u001b[1;33m=\u001b[0m \u001b[0mrfs\u001b[0m\u001b[1;33m.\u001b[0m\u001b[0mpredict\u001b[0m\u001b[1;33m(\u001b[0m\u001b[0mxtest\u001b[0m\u001b[1;33m)\u001b[0m\u001b[1;33m\u001b[0m\u001b[1;33m\u001b[0m\u001b[0m\n\u001b[0m",
                        "\u001b[1;32m~\\AppData\\Roaming\\Python\\Python39\\site-packages\\sklearn\\ensemble\\_forest.py\u001b[0m in \u001b[0;36mpredict\u001b[1;34m(self, X)\u001b[0m\n\u001b[0;32m    628\u001b[0m             \u001b[0mThe\u001b[0m \u001b[0mpredicted\u001b[0m \u001b[0mclasses\u001b[0m\u001b[1;33m.\u001b[0m\u001b[1;33m\u001b[0m\u001b[1;33m\u001b[0m\u001b[0m\n\u001b[0;32m    629\u001b[0m         \"\"\"\n\u001b[1;32m--> 630\u001b[1;33m         \u001b[0mproba\u001b[0m \u001b[1;33m=\u001b[0m \u001b[0mself\u001b[0m\u001b[1;33m.\u001b[0m\u001b[0mpredict_proba\u001b[0m\u001b[1;33m(\u001b[0m\u001b[0mX\u001b[0m\u001b[1;33m)\u001b[0m\u001b[1;33m\u001b[0m\u001b[1;33m\u001b[0m\u001b[0m\n\u001b[0m\u001b[0;32m    631\u001b[0m \u001b[1;33m\u001b[0m\u001b[0m\n\u001b[0;32m    632\u001b[0m         \u001b[1;32mif\u001b[0m \u001b[0mself\u001b[0m\u001b[1;33m.\u001b[0m\u001b[0mn_outputs_\u001b[0m \u001b[1;33m==\u001b[0m \u001b[1;36m1\u001b[0m\u001b[1;33m:\u001b[0m\u001b[1;33m\u001b[0m\u001b[1;33m\u001b[0m\u001b[0m\n",
                        "\u001b[1;32m~\\AppData\\Roaming\\Python\\Python39\\site-packages\\sklearn\\ensemble\\_forest.py\u001b[0m in \u001b[0;36mpredict_proba\u001b[1;34m(self, X)\u001b[0m\n\u001b[0;32m    672\u001b[0m         \u001b[0mcheck_is_fitted\u001b[0m\u001b[1;33m(\u001b[0m\u001b[0mself\u001b[0m\u001b[1;33m)\u001b[0m\u001b[1;33m\u001b[0m\u001b[1;33m\u001b[0m\u001b[0m\n\u001b[0;32m    673\u001b[0m         \u001b[1;31m# Check data\u001b[0m\u001b[1;33m\u001b[0m\u001b[1;33m\u001b[0m\u001b[1;33m\u001b[0m\u001b[0m\n\u001b[1;32m--> 674\u001b[1;33m         \u001b[0mX\u001b[0m \u001b[1;33m=\u001b[0m \u001b[0mself\u001b[0m\u001b[1;33m.\u001b[0m\u001b[0m_validate_X_predict\u001b[0m\u001b[1;33m(\u001b[0m\u001b[0mX\u001b[0m\u001b[1;33m)\u001b[0m\u001b[1;33m\u001b[0m\u001b[1;33m\u001b[0m\u001b[0m\n\u001b[0m\u001b[0;32m    675\u001b[0m \u001b[1;33m\u001b[0m\u001b[0m\n\u001b[0;32m    676\u001b[0m         \u001b[1;31m# Assign chunk of trees to jobs\u001b[0m\u001b[1;33m\u001b[0m\u001b[1;33m\u001b[0m\u001b[1;33m\u001b[0m\u001b[0m\n",
                        "\u001b[1;32m~\\AppData\\Roaming\\Python\\Python39\\site-packages\\sklearn\\ensemble\\_forest.py\u001b[0m in \u001b[0;36m_validate_X_predict\u001b[1;34m(self, X)\u001b[0m\n\u001b[0;32m    420\u001b[0m         \u001b[0mcheck_is_fitted\u001b[0m\u001b[1;33m(\u001b[0m\u001b[0mself\u001b[0m\u001b[1;33m)\u001b[0m\u001b[1;33m\u001b[0m\u001b[1;33m\u001b[0m\u001b[0m\n\u001b[0;32m    421\u001b[0m \u001b[1;33m\u001b[0m\u001b[0m\n\u001b[1;32m--> 422\u001b[1;33m         \u001b[1;32mreturn\u001b[0m \u001b[0mself\u001b[0m\u001b[1;33m.\u001b[0m\u001b[0mestimators_\u001b[0m\u001b[1;33m[\u001b[0m\u001b[1;36m0\u001b[0m\u001b[1;33m]\u001b[0m\u001b[1;33m.\u001b[0m\u001b[0m_validate_X_predict\u001b[0m\u001b[1;33m(\u001b[0m\u001b[0mX\u001b[0m\u001b[1;33m,\u001b[0m \u001b[0mcheck_input\u001b[0m\u001b[1;33m=\u001b[0m\u001b[1;32mTrue\u001b[0m\u001b[1;33m)\u001b[0m\u001b[1;33m\u001b[0m\u001b[1;33m\u001b[0m\u001b[0m\n\u001b[0m\u001b[0;32m    423\u001b[0m \u001b[1;33m\u001b[0m\u001b[0m\n\u001b[0;32m    424\u001b[0m     \u001b[1;33m@\u001b[0m\u001b[0mproperty\u001b[0m\u001b[1;33m\u001b[0m\u001b[1;33m\u001b[0m\u001b[0m\n",
                        "\u001b[1;32m~\\AppData\\Roaming\\Python\\Python39\\site-packages\\sklearn\\tree\\_classes.py\u001b[0m in \u001b[0;36m_validate_X_predict\u001b[1;34m(self, X, check_input)\u001b[0m\n\u001b[0;32m    405\u001b[0m         \u001b[1;34m\"\"\"Validate the training data on predict (probabilities).\"\"\"\u001b[0m\u001b[1;33m\u001b[0m\u001b[1;33m\u001b[0m\u001b[0m\n\u001b[0;32m    406\u001b[0m         \u001b[1;32mif\u001b[0m \u001b[0mcheck_input\u001b[0m\u001b[1;33m:\u001b[0m\u001b[1;33m\u001b[0m\u001b[1;33m\u001b[0m\u001b[0m\n\u001b[1;32m--> 407\u001b[1;33m             X = self._validate_data(X, dtype=DTYPE, accept_sparse=\"csr\",\n\u001b[0m\u001b[0;32m    408\u001b[0m                                     reset=False)\n\u001b[0;32m    409\u001b[0m             if issparse(X) and (X.indices.dtype != np.intc or\n",
                        "\u001b[1;32m~\\AppData\\Roaming\\Python\\Python39\\site-packages\\sklearn\\base.py\u001b[0m in \u001b[0;36m_validate_data\u001b[1;34m(self, X, y, reset, validate_separately, **check_params)\u001b[0m\n\u001b[0;32m    435\u001b[0m \u001b[1;33m\u001b[0m\u001b[0m\n\u001b[0;32m    436\u001b[0m         \u001b[1;32mif\u001b[0m \u001b[0mcheck_params\u001b[0m\u001b[1;33m.\u001b[0m\u001b[0mget\u001b[0m\u001b[1;33m(\u001b[0m\u001b[1;34m'ensure_2d'\u001b[0m\u001b[1;33m,\u001b[0m \u001b[1;32mTrue\u001b[0m\u001b[1;33m)\u001b[0m\u001b[1;33m:\u001b[0m\u001b[1;33m\u001b[0m\u001b[1;33m\u001b[0m\u001b[0m\n\u001b[1;32m--> 437\u001b[1;33m             \u001b[0mself\u001b[0m\u001b[1;33m.\u001b[0m\u001b[0m_check_n_features\u001b[0m\u001b[1;33m(\u001b[0m\u001b[0mX\u001b[0m\u001b[1;33m,\u001b[0m \u001b[0mreset\u001b[0m\u001b[1;33m=\u001b[0m\u001b[0mreset\u001b[0m\u001b[1;33m)\u001b[0m\u001b[1;33m\u001b[0m\u001b[1;33m\u001b[0m\u001b[0m\n\u001b[0m\u001b[0;32m    438\u001b[0m \u001b[1;33m\u001b[0m\u001b[0m\n\u001b[0;32m    439\u001b[0m         \u001b[1;32mreturn\u001b[0m \u001b[0mout\u001b[0m\u001b[1;33m\u001b[0m\u001b[1;33m\u001b[0m\u001b[0m\n",
                        "\u001b[1;32m~\\AppData\\Roaming\\Python\\Python39\\site-packages\\sklearn\\base.py\u001b[0m in \u001b[0;36m_check_n_features\u001b[1;34m(self, X, reset)\u001b[0m\n\u001b[0;32m    363\u001b[0m \u001b[1;33m\u001b[0m\u001b[0m\n\u001b[0;32m    364\u001b[0m         \u001b[1;32mif\u001b[0m \u001b[0mn_features\u001b[0m \u001b[1;33m!=\u001b[0m \u001b[0mself\u001b[0m\u001b[1;33m.\u001b[0m\u001b[0mn_features_in_\u001b[0m\u001b[1;33m:\u001b[0m\u001b[1;33m\u001b[0m\u001b[1;33m\u001b[0m\u001b[0m\n\u001b[1;32m--> 365\u001b[1;33m             raise ValueError(\n\u001b[0m\u001b[0;32m    366\u001b[0m                 \u001b[1;34mf\"X has {n_features} features, but {self.__class__.__name__} \"\u001b[0m\u001b[1;33m\u001b[0m\u001b[1;33m\u001b[0m\u001b[0m\n\u001b[0;32m    367\u001b[0m                 f\"is expecting {self.n_features_in_} features as input.\")\n",
                        "\u001b[1;31mValueError\u001b[0m: X has 110 features, but DecisionTreeClassifier is expecting 94 features as input."
                    ]
                }
            ],
            "metadata": {}
        },
        {
            "cell_type": "markdown",
            "source": [
                "for z parameter"
            ],
            "metadata": {}
        },
        {
            "cell_type": "code",
            "execution_count": null,
            "source": [
                "from sklearn.ensemble import RandomForestClassifier\r\n",
                "lrs = RandomForestClassifier(n_estimators=500)\r\n",
                "lrs.fit(x, z)\r\n",
                "lrsp = lrs.predict(xtest)"
            ],
            "outputs": [],
            "metadata": {}
        },
        {
            "cell_type": "code",
            "execution_count": null,
            "source": [
                "lable_y = { 0:'Mitochondrial genetic inheritance disorders',\r\n",
                "                  1:'Multifactorial genetic inheritance disorders',\r\n",
                "                 2: 'Single-gene inheritance diseases'\r\n",
                "}\r\n",
                "lable_z = {0:\"Leber's hereditary optic neuropathy\",\r\n",
                "              1:'Cystic fibrosis',\r\n",
                "              2:'Diabetes',\r\n",
                "              3:'Leigh syndrome',\r\n",
                "              4:'Cancer',\r\n",
                "              5:'Tay-Sachs',\r\n",
                "              6:'Hemochromatosis',\r\n",
                "               7:'Mitochondrial myopathy',\r\n",
                "                8:\"Alzheimer's\"\r\n",
                " }"
            ],
            "outputs": [],
            "metadata": {}
        },
        {
            "cell_type": "code",
            "execution_count": null,
            "source": [
                "res = {\r\n",
                "    \"Patient Id\":pid,\r\n",
                "    \"Genetic Disorder\":rfspy,\r\n",
                "    \"Disorder Subclass\":lrsp\r\n",
                "}"
            ],
            "outputs": [],
            "metadata": {}
        },
        {
            "cell_type": "code",
            "execution_count": null,
            "source": [
                "res = pd.DataFrame(res)"
            ],
            "outputs": [],
            "metadata": {}
        },
        {
            "cell_type": "code",
            "execution_count": null,
            "source": [
                "res[\"Genetic Disorder\"] = res[\"Genetic Disorder\"].map(lable_y)\r\n",
                "res[\"Disorder Subclass\"] = res[\"Disorder Subclass\"].map(lable_z)"
            ],
            "outputs": [],
            "metadata": {}
        },
        {
            "cell_type": "code",
            "execution_count": null,
            "source": [
                "res.to_csv(\"submission1.csv\", index=False)"
            ],
            "outputs": [],
            "metadata": {}
        }
    ],
    "metadata": {
        "orig_nbformat": 4,
        "language_info": {
            "name": "python",
            "version": "3.9.2",
            "mimetype": "text/x-python",
            "codemirror_mode": {
                "name": "ipython",
                "version": 3
            },
            "pygments_lexer": "ipython3",
            "nbconvert_exporter": "python",
            "file_extension": ".py"
        },
        "kernelspec": {
            "name": "python3",
            "display_name": "Python 3.9.2 64-bit"
        },
        "interpreter": {
            "hash": "ac59ebe37160ed0dfa835113d9b8498d9f09ceb179beaac4002f036b9467c963"
        }
    },
    "nbformat": 4,
    "nbformat_minor": 2
}