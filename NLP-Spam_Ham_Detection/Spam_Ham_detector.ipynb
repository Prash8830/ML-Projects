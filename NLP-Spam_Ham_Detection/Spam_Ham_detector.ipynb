{
    "cells": [
        {
            "cell_type": "code",
            "execution_count": 21,
            "source": [
                "import pandas as pd\r\n",
                "import numpy as np\r\n",
                "import nltk \r\n",
                "from sklearn.feature_extraction.text import CountVectorizer \r\n",
                "from sklearn.preprocessing import LabelEncoder\r\n",
                "from sklearn.model_selection import train_test_split\r\n",
                "from sklearn.naive_bayes import GaussianNB\r\n",
                "from sklearn.tree import DecisionTreeClassifier\r\n",
                "from sklearn.metrics import confusion_matrix\r\n",
                "from sklearn.metrics import accuracy_score\r\n",
                "from sklearn.metrics import classification_report\r\n",
                "from nltk.corpus import stopwords\r\n",
                "from nltk.stem.porter import PorterStemmer\r\n",
                "import re\r\n",
                "from sklearn.ensemble import RandomForestClassifier\r\n",
                "from sklearn.neighbors import KNeighborsClassifier\r\n",
                "from sklearn.linear_model import LogisticRegression"
            ],
            "outputs": [],
            "metadata": {}
        },
        {
            "cell_type": "code",
            "execution_count": 2,
            "source": [
                "data = pd.read_csv(\"spam.csv\")"
            ],
            "outputs": [],
            "metadata": {}
        },
        {
            "cell_type": "code",
            "execution_count": 3,
            "source": [
                "data.head()"
            ],
            "outputs": [
                {
                    "output_type": "execute_result",
                    "data": {
                        "text/plain": [
                            "     v1                                                 v2 Unnamed: 2  \\\n",
                            "0   ham  Go until jurong point, crazy.. Available only ...        NaN   \n",
                            "1   ham                      Ok lar... Joking wif u oni...        NaN   \n",
                            "2  spam  Free entry in 2 a wkly comp to win FA Cup fina...        NaN   \n",
                            "3   ham  U dun say so early hor... U c already then say...        NaN   \n",
                            "4   ham  Nah I don't think he goes to usf, he lives aro...        NaN   \n",
                            "\n",
                            "  Unnamed: 3 Unnamed: 4  \n",
                            "0        NaN        NaN  \n",
                            "1        NaN        NaN  \n",
                            "2        NaN        NaN  \n",
                            "3        NaN        NaN  \n",
                            "4        NaN        NaN  "
                        ],
                        "text/html": [
                            "<div>\n",
                            "<style scoped>\n",
                            "    .dataframe tbody tr th:only-of-type {\n",
                            "        vertical-align: middle;\n",
                            "    }\n",
                            "\n",
                            "    .dataframe tbody tr th {\n",
                            "        vertical-align: top;\n",
                            "    }\n",
                            "\n",
                            "    .dataframe thead th {\n",
                            "        text-align: right;\n",
                            "    }\n",
                            "</style>\n",
                            "<table border=\"1\" class=\"dataframe\">\n",
                            "  <thead>\n",
                            "    <tr style=\"text-align: right;\">\n",
                            "      <th></th>\n",
                            "      <th>v1</th>\n",
                            "      <th>v2</th>\n",
                            "      <th>Unnamed: 2</th>\n",
                            "      <th>Unnamed: 3</th>\n",
                            "      <th>Unnamed: 4</th>\n",
                            "    </tr>\n",
                            "  </thead>\n",
                            "  <tbody>\n",
                            "    <tr>\n",
                            "      <th>0</th>\n",
                            "      <td>ham</td>\n",
                            "      <td>Go until jurong point, crazy.. Available only ...</td>\n",
                            "      <td>NaN</td>\n",
                            "      <td>NaN</td>\n",
                            "      <td>NaN</td>\n",
                            "    </tr>\n",
                            "    <tr>\n",
                            "      <th>1</th>\n",
                            "      <td>ham</td>\n",
                            "      <td>Ok lar... Joking wif u oni...</td>\n",
                            "      <td>NaN</td>\n",
                            "      <td>NaN</td>\n",
                            "      <td>NaN</td>\n",
                            "    </tr>\n",
                            "    <tr>\n",
                            "      <th>2</th>\n",
                            "      <td>spam</td>\n",
                            "      <td>Free entry in 2 a wkly comp to win FA Cup fina...</td>\n",
                            "      <td>NaN</td>\n",
                            "      <td>NaN</td>\n",
                            "      <td>NaN</td>\n",
                            "    </tr>\n",
                            "    <tr>\n",
                            "      <th>3</th>\n",
                            "      <td>ham</td>\n",
                            "      <td>U dun say so early hor... U c already then say...</td>\n",
                            "      <td>NaN</td>\n",
                            "      <td>NaN</td>\n",
                            "      <td>NaN</td>\n",
                            "    </tr>\n",
                            "    <tr>\n",
                            "      <th>4</th>\n",
                            "      <td>ham</td>\n",
                            "      <td>Nah I don't think he goes to usf, he lives aro...</td>\n",
                            "      <td>NaN</td>\n",
                            "      <td>NaN</td>\n",
                            "      <td>NaN</td>\n",
                            "    </tr>\n",
                            "  </tbody>\n",
                            "</table>\n",
                            "</div>"
                        ]
                    },
                    "metadata": {},
                    "execution_count": 3
                }
            ],
            "metadata": {}
        },
        {
            "cell_type": "code",
            "execution_count": 4,
            "source": [
                "data.dropna(axis=1, inplace=True)"
            ],
            "outputs": [],
            "metadata": {}
        },
        {
            "cell_type": "code",
            "execution_count": 5,
            "source": [
                "data.head()"
            ],
            "outputs": [
                {
                    "output_type": "execute_result",
                    "data": {
                        "text/plain": [
                            "     v1                                                 v2\n",
                            "0   ham  Go until jurong point, crazy.. Available only ...\n",
                            "1   ham                      Ok lar... Joking wif u oni...\n",
                            "2  spam  Free entry in 2 a wkly comp to win FA Cup fina...\n",
                            "3   ham  U dun say so early hor... U c already then say...\n",
                            "4   ham  Nah I don't think he goes to usf, he lives aro..."
                        ],
                        "text/html": [
                            "<div>\n",
                            "<style scoped>\n",
                            "    .dataframe tbody tr th:only-of-type {\n",
                            "        vertical-align: middle;\n",
                            "    }\n",
                            "\n",
                            "    .dataframe tbody tr th {\n",
                            "        vertical-align: top;\n",
                            "    }\n",
                            "\n",
                            "    .dataframe thead th {\n",
                            "        text-align: right;\n",
                            "    }\n",
                            "</style>\n",
                            "<table border=\"1\" class=\"dataframe\">\n",
                            "  <thead>\n",
                            "    <tr style=\"text-align: right;\">\n",
                            "      <th></th>\n",
                            "      <th>v1</th>\n",
                            "      <th>v2</th>\n",
                            "    </tr>\n",
                            "  </thead>\n",
                            "  <tbody>\n",
                            "    <tr>\n",
                            "      <th>0</th>\n",
                            "      <td>ham</td>\n",
                            "      <td>Go until jurong point, crazy.. Available only ...</td>\n",
                            "    </tr>\n",
                            "    <tr>\n",
                            "      <th>1</th>\n",
                            "      <td>ham</td>\n",
                            "      <td>Ok lar... Joking wif u oni...</td>\n",
                            "    </tr>\n",
                            "    <tr>\n",
                            "      <th>2</th>\n",
                            "      <td>spam</td>\n",
                            "      <td>Free entry in 2 a wkly comp to win FA Cup fina...</td>\n",
                            "    </tr>\n",
                            "    <tr>\n",
                            "      <th>3</th>\n",
                            "      <td>ham</td>\n",
                            "      <td>U dun say so early hor... U c already then say...</td>\n",
                            "    </tr>\n",
                            "    <tr>\n",
                            "      <th>4</th>\n",
                            "      <td>ham</td>\n",
                            "      <td>Nah I don't think he goes to usf, he lives aro...</td>\n",
                            "    </tr>\n",
                            "  </tbody>\n",
                            "</table>\n",
                            "</div>"
                        ]
                    },
                    "metadata": {},
                    "execution_count": 5
                }
            ],
            "metadata": {}
        },
        {
            "cell_type": "code",
            "execution_count": 6,
            "source": [
                "data.rename(columns={'v1':\"Type\",\"v2\":\"Message\"},inplace=True)"
            ],
            "outputs": [],
            "metadata": {}
        },
        {
            "cell_type": "code",
            "execution_count": 7,
            "source": [
                "data.head()"
            ],
            "outputs": [
                {
                    "output_type": "execute_result",
                    "data": {
                        "text/plain": [
                            "   Type                                            Message\n",
                            "0   ham  Go until jurong point, crazy.. Available only ...\n",
                            "1   ham                      Ok lar... Joking wif u oni...\n",
                            "2  spam  Free entry in 2 a wkly comp to win FA Cup fina...\n",
                            "3   ham  U dun say so early hor... U c already then say...\n",
                            "4   ham  Nah I don't think he goes to usf, he lives aro..."
                        ],
                        "text/html": [
                            "<div>\n",
                            "<style scoped>\n",
                            "    .dataframe tbody tr th:only-of-type {\n",
                            "        vertical-align: middle;\n",
                            "    }\n",
                            "\n",
                            "    .dataframe tbody tr th {\n",
                            "        vertical-align: top;\n",
                            "    }\n",
                            "\n",
                            "    .dataframe thead th {\n",
                            "        text-align: right;\n",
                            "    }\n",
                            "</style>\n",
                            "<table border=\"1\" class=\"dataframe\">\n",
                            "  <thead>\n",
                            "    <tr style=\"text-align: right;\">\n",
                            "      <th></th>\n",
                            "      <th>Type</th>\n",
                            "      <th>Message</th>\n",
                            "    </tr>\n",
                            "  </thead>\n",
                            "  <tbody>\n",
                            "    <tr>\n",
                            "      <th>0</th>\n",
                            "      <td>ham</td>\n",
                            "      <td>Go until jurong point, crazy.. Available only ...</td>\n",
                            "    </tr>\n",
                            "    <tr>\n",
                            "      <th>1</th>\n",
                            "      <td>ham</td>\n",
                            "      <td>Ok lar... Joking wif u oni...</td>\n",
                            "    </tr>\n",
                            "    <tr>\n",
                            "      <th>2</th>\n",
                            "      <td>spam</td>\n",
                            "      <td>Free entry in 2 a wkly comp to win FA Cup fina...</td>\n",
                            "    </tr>\n",
                            "    <tr>\n",
                            "      <th>3</th>\n",
                            "      <td>ham</td>\n",
                            "      <td>U dun say so early hor... U c already then say...</td>\n",
                            "    </tr>\n",
                            "    <tr>\n",
                            "      <th>4</th>\n",
                            "      <td>ham</td>\n",
                            "      <td>Nah I don't think he goes to usf, he lives aro...</td>\n",
                            "    </tr>\n",
                            "  </tbody>\n",
                            "</table>\n",
                            "</div>"
                        ]
                    },
                    "metadata": {},
                    "execution_count": 7
                }
            ],
            "metadata": {}
        },
        {
            "cell_type": "code",
            "execution_count": 8,
            "source": [
                "data.Type.value_counts()"
            ],
            "outputs": [
                {
                    "output_type": "execute_result",
                    "data": {
                        "text/plain": [
                            "ham     4825\n",
                            "spam     747\n",
                            "Name: Type, dtype: int64"
                        ]
                    },
                    "metadata": {},
                    "execution_count": 8
                }
            ],
            "metadata": {}
        },
        {
            "cell_type": "code",
            "execution_count": 9,
            "source": [
                "corpus = []\r\n",
                "ps = PorterStemmer()"
            ],
            "outputs": [],
            "metadata": {}
        },
        {
            "cell_type": "markdown",
            "source": [
                "Preprocessing"
            ],
            "metadata": {}
        },
        {
            "cell_type": "code",
            "execution_count": 10,
            "source": [
                "for i in range(0,5572):\r\n",
                "    #Regular Expresion\r\n",
                "    '''\r\n",
                "    Replace email addresses with 'emailaddr'\r\n",
                "    Replace URLs with 'httpaddr'\r\n",
                "    Replace money symbols with 'moneysymb'\r\n",
                "    Replace phone numbers with 'phonenumbr'\r\n",
                "    Replace numbers with 'numbr'\r\n",
                "    '''\r\n",
                "    msg = data['Message'][i] \r\n",
                "    msg = re.sub('\\b[\\w\\-.]+?@\\w+?\\.\\w{2,4}\\b', 'emailaddr', data['Message'][i])\r\n",
                "    msg = re.sub('(http[s]?\\S+)|(\\w+\\.[A-Za-z]{2,4}\\S*)', 'httpaddr', data['Message'][i])\r\n",
                "    msg = re.sub('([A-Z]{3}|[A-Z]?[\\$€¥])?\\s?(\\d{1,3}((,\\d{1,3})+)?(.\\d{1,3})?(.\\d{1,3})?(,\\d{1,3})?)', 'moneysymb', data['Message'][i])\r\n",
                "    msg = re.sub('\\b(\\+\\d{1,2}\\s)?\\d?[\\-(.]?\\d{3}\\)?[\\s.-]?\\d{3}[\\s.-]?\\d{4}\\b', 'phonenumbr', data['Message'][i])\r\n",
                "    msg = re.sub('\\d+(\\.\\d+)?', 'numbr', data['Message'][i])\r\n",
                "\r\n",
                "    ''' Remove all punctuations '''\r\n",
                "    msg = re.sub('[^\\w\\d\\s]', ' ', data['Message'][i])\r\n",
                "    \r\n",
                "    if i<2:\r\n",
                "        print(\"\\t\\t\\t\\t MESSAGE \", i)\r\n",
                "    \r\n",
                "    if i<2:\r\n",
                "        print(\"\\n After Regular Expression - Message \", i, \" : \", msg)\r\n",
                "    \r\n",
                "    # Each word to lower case\r\n",
                "    msg = msg.lower()    \r\n",
                "    if i<2:\r\n",
                "        print(\"\\n Lower case Message \", i, \" : \", msg)\r\n",
                "    \r\n",
                "    # Splitting words to Tokenize\r\n",
                "    msg = msg.split()    \r\n",
                "    if i<2:\r\n",
                "        print(\"\\n After Splitting - Message \", i, \" : \", msg)\r\n",
                "    \r\n",
                "    # Stemming with PorterStemmer handling Stop Words\r\n",
                "    msg = [ps.stem(word) for word in msg if not word in set(stopwords.words('english'))]\r\n",
                "    if i<2:\r\n",
                "        print(\"\\n After Stemming - Message \", i, \" : \", msg)\r\n",
                "    \r\n",
                "    # preparing Messages with Remaining Tokens\r\n",
                "    msg = ' '.join(msg)\r\n",
                "    if i<2:\r\n",
                "        print(\"\\n Final Prepared - Message \", i, \" : \", msg, \"\\n\\n\")\r\n",
                "    \r\n",
                "    # Preparing WordVector Corpus\r\n",
                "    corpus.append(msg)\r\n"
            ],
            "outputs": [
                {
                    "output_type": "stream",
                    "name": "stdout",
                    "text": [
                        "\t\t\t\t MESSAGE  0\n",
                        "\n",
                        " After Regular Expression - Message  0  :  Go until jurong point  crazy   Available only in bugis n great world la e buffet    Cine there got amore wat   \n",
                        "\n",
                        " Lower case Message  0  :  go until jurong point  crazy   available only in bugis n great world la e buffet    cine there got amore wat   \n",
                        "\n",
                        " After Splitting - Message  0  :  ['go', 'until', 'jurong', 'point', 'crazy', 'available', 'only', 'in', 'bugis', 'n', 'great', 'world', 'la', 'e', 'buffet', 'cine', 'there', 'got', 'amore', 'wat']\n",
                        "\n",
                        " After Stemming - Message  0  :  ['go', 'jurong', 'point', 'crazi', 'avail', 'bugi', 'n', 'great', 'world', 'la', 'e', 'buffet', 'cine', 'got', 'amor', 'wat']\n",
                        "\n",
                        " Final Prepared - Message  0  :  go jurong point crazi avail bugi n great world la e buffet cine got amor wat \n",
                        "\n",
                        "\n",
                        "\t\t\t\t MESSAGE  1\n",
                        "\n",
                        " After Regular Expression - Message  1  :  Ok lar    Joking wif u oni   \n",
                        "\n",
                        " Lower case Message  1  :  ok lar    joking wif u oni   \n",
                        "\n",
                        " After Splitting - Message  1  :  ['ok', 'lar', 'joking', 'wif', 'u', 'oni']\n",
                        "\n",
                        " After Stemming - Message  1  :  ['ok', 'lar', 'joke', 'wif', 'u', 'oni']\n",
                        "\n",
                        " Final Prepared - Message  1  :  ok lar joke wif u oni \n",
                        "\n",
                        "\n"
                    ]
                }
            ],
            "metadata": {}
        },
        {
            "cell_type": "code",
            "execution_count": 11,
            "source": [
                "cv = CountVectorizer()\r\n",
                "x = cv.fit_transform(corpus).toarray()"
            ],
            "outputs": [],
            "metadata": {}
        },
        {
            "cell_type": "markdown",
            "source": [
                "Applying classification"
            ],
            "metadata": {}
        },
        {
            "cell_type": "code",
            "execution_count": 12,
            "source": [
                "y = data.Type"
            ],
            "outputs": [],
            "metadata": {}
        },
        {
            "cell_type": "code",
            "execution_count": 13,
            "source": [
                "y"
            ],
            "outputs": [
                {
                    "output_type": "execute_result",
                    "data": {
                        "text/plain": [
                            "0        ham\n",
                            "1        ham\n",
                            "2       spam\n",
                            "3        ham\n",
                            "4        ham\n",
                            "        ... \n",
                            "5567    spam\n",
                            "5568     ham\n",
                            "5569     ham\n",
                            "5570     ham\n",
                            "5571     ham\n",
                            "Name: Type, Length: 5572, dtype: object"
                        ]
                    },
                    "metadata": {},
                    "execution_count": 13
                }
            ],
            "metadata": {}
        },
        {
            "cell_type": "markdown",
            "source": [
                "Encoding Label"
            ],
            "metadata": {}
        },
        {
            "cell_type": "code",
            "execution_count": 14,
            "source": [
                "y = LabelEncoder().fit_transform(y)\r\n",
                "y"
            ],
            "outputs": [
                {
                    "output_type": "execute_result",
                    "data": {
                        "text/plain": [
                            "array([0, 0, 1, ..., 0, 0, 0])"
                        ]
                    },
                    "metadata": {},
                    "execution_count": 14
                }
            ],
            "metadata": {}
        },
        {
            "cell_type": "markdown",
            "source": [
                "splliting testing & training data"
            ],
            "metadata": {}
        },
        {
            "cell_type": "code",
            "execution_count": 15,
            "source": [
                "xtrain ,xtest ,ytrain, ytest = train_test_split(x,y,test_size=0.2,random_state=0)"
            ],
            "outputs": [],
            "metadata": {}
        },
        {
            "cell_type": "markdown",
            "source": [
                "Applying Guassian Naive Bayes"
            ],
            "metadata": {}
        },
        {
            "cell_type": "code",
            "execution_count": 16,
            "source": [
                "Bc = GaussianNB()\r\n",
                "Bc.fit(xtrain,ytrain) \r\n",
                "yp = Bc.predict(xtest)\r\n",
                "cm = confusion_matrix(ytest, yp)\r\n",
                "print(cm)\r\n",
                "print (\"Accuracy : %0.5f \\n\\n\" % accuracy_score(ytest, Bc.predict(xtest)))\r\n",
                "print (classification_report(ytest, Bc.predict(xtest)))"
            ],
            "outputs": [
                {
                    "output_type": "execute_result",
                    "data": {
                        "text/plain": [
                            "GaussianNB()"
                        ]
                    },
                    "metadata": {},
                    "execution_count": 16
                }
            ],
            "metadata": {}
        },
        {
            "cell_type": "markdown",
            "source": [
                "Random Forest"
            ],
            "metadata": {}
        },
        {
            "cell_type": "code",
            "execution_count": 35,
            "source": [
                "rmf = RandomForestClassifier(n_estimators=90)\r\n",
                "rmf.fit(xtrain,ytrain)\r\n",
                "rmfp = rmf.predict(xtest)\r\n",
                "rmc = confusion_matrix(ytest,rmfp)\r\n",
                "print(rmc)\r\n",
                "print (\"Accuracy : %0.5f \\n\\n\" % accuracy_score(ytest, rmf.predict(xtest)))\r\n",
                "print (classification_report(ytest, rmf.predict(xtest)))"
            ],
            "outputs": [
                {
                    "output_type": "stream",
                    "name": "stdout",
                    "text": [
                        "[[949   0]\n",
                        " [ 30 136]]\n",
                        "Accuracy : 0.97309 \n",
                        "\n",
                        "\n",
                        "              precision    recall  f1-score   support\n",
                        "\n",
                        "           0       0.97      1.00      0.98       949\n",
                        "           1       1.00      0.82      0.90       166\n",
                        "\n",
                        "    accuracy                           0.97      1115\n",
                        "   macro avg       0.98      0.91      0.94      1115\n",
                        "weighted avg       0.97      0.97      0.97      1115\n",
                        "\n"
                    ]
                }
            ],
            "metadata": {}
        },
        {
            "cell_type": "code",
            "execution_count": 39,
            "source": [
                "knn = KNeighborsClassifier(n_neighbors=1)\r\n",
                "knn.fit(xtrain,ytrain)\r\n",
                "knnp = knn.predict(xtest)\r\n",
                "kcm = confusion_matrix(ytest,knnp)\r\n",
                "print(kcm)\r\n",
                "print (\"Accuracy : %0.5f \\n\\n\" % accuracy_score(ytest, knn.predict(xtest)))\r\n",
                "print (classification_report(ytest, knn.predict(xtest)))"
            ],
            "outputs": [
                {
                    "output_type": "stream",
                    "name": "stdout",
                    "text": [
                        "[[949   0]\n",
                        " [ 62 104]]\n",
                        "Accuracy : 0.94439 \n",
                        "\n",
                        "\n",
                        "              precision    recall  f1-score   support\n",
                        "\n",
                        "           0       0.94      1.00      0.97       949\n",
                        "           1       1.00      0.63      0.77       166\n",
                        "\n",
                        "    accuracy                           0.94      1115\n",
                        "   macro avg       0.97      0.81      0.87      1115\n",
                        "weighted avg       0.95      0.94      0.94      1115\n",
                        "\n"
                    ]
                }
            ],
            "metadata": {}
        },
        {
            "cell_type": "code",
            "execution_count": 30,
            "source": [
                "dst = DecisionTreeClassifier(random_state=50)\r\n",
                "dst.fit(xtrain,ytrain)\r\n",
                "dstp = dst.predict(xtest)\r\n",
                "dmc = confusion_matrix(ytest,dstp)\r\n",
                "print(dmc)\r\n",
                "print (\"Accuracy : %0.5f \\n\\n\" % accuracy_score(ytest, dst.predict(xtest)))\r\n",
                "print (classification_report(ytest, dst.predict(xtest)))"
            ],
            "outputs": [
                {
                    "output_type": "stream",
                    "name": "stdout",
                    "text": [
                        "[[942   7]\n",
                        " [ 18 148]]\n",
                        "Accuracy : 0.97758 \n",
                        "\n",
                        "\n",
                        "              precision    recall  f1-score   support\n",
                        "\n",
                        "           0       0.98      0.99      0.99       949\n",
                        "           1       0.95      0.89      0.92       166\n",
                        "\n",
                        "    accuracy                           0.98      1115\n",
                        "   macro avg       0.97      0.94      0.95      1115\n",
                        "weighted avg       0.98      0.98      0.98      1115\n",
                        "\n"
                    ]
                }
            ],
            "metadata": {}
        },
        {
            "cell_type": "code",
            "execution_count": 40,
            "source": [
                "lgr = LogisticRegression()\r\n",
                "lgr.fit(xtrain,ytrain)\r\n",
                "lgrp = lgr.predict(xtest)\r\n",
                "lmc = confusion_matrix(ytest,lgrp)\r\n",
                "print(lmc)\r\n",
                "print (\"Accuracy : %0.5f \\n\\n\" % accuracy_score(ytest, lgr.predict(xtest)))\r\n",
                "print (classification_report(ytest, lgr.predict(xtest)))"
            ],
            "outputs": [
                {
                    "output_type": "stream",
                    "name": "stdout",
                    "text": [
                        "[[949   0]\n",
                        " [ 24 142]]\n",
                        "Accuracy : 0.97848 \n",
                        "\n",
                        "\n",
                        "              precision    recall  f1-score   support\n",
                        "\n",
                        "           0       0.98      1.00      0.99       949\n",
                        "           1       1.00      0.86      0.92       166\n",
                        "\n",
                        "    accuracy                           0.98      1115\n",
                        "   macro avg       0.99      0.93      0.95      1115\n",
                        "weighted avg       0.98      0.98      0.98      1115\n",
                        "\n"
                    ]
                }
            ],
            "metadata": {}
        }
    ],
    "metadata": {
        "orig_nbformat": 4,
        "language_info": {
            "name": "python"
        }
    },
    "nbformat": 4,
    "nbformat_minor": 2
}