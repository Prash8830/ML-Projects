{
    "cells": [
        {
            "cell_type": "markdown",
            "source": [
                "Name - Prashant Patil"
            ],
            "metadata": {}
        },
        {
            "cell_type": "markdown",
            "source": [
                "WINE QUALITY"
            ],
            "metadata": {}
        },
        {
            "cell_type": "markdown",
            "source": [
                "Date set link - https://archive.ics.uci.edu/ml/datasets/wine+quality"
            ],
            "metadata": {}
        },
        {
            "cell_type": "markdown",
            "source": [
                "Data Description \r\n",
                "\r\n",
                "Data Set Information:\r\n",
                "\r\n",
                "The two datasets are related to red and white variants of the Portuguese \"Vinho Verde\" wine. For more details, consult: [Web Link] or the reference [Cortez et al., 2009]. Due to privacy and logistic issues, only physicochemical (inputs) and sensory (the output) variables are available (e.g. there is no data about grape types, wine brand, wine selling price, etc.).\r\n",
                "\r\n",
                "These datasets can be viewed as classification or regression tasks. The classes are ordered and not balanced (e.g. there are many more normal wines than excellent or poor ones). Outlier detection algorithms could be used to detect the few excellent or poor wines. Also, we are not sure if all input variables are relevant. So it could be interesting to test feature selection methods.\r\n",
                "\r\n",
                "\r\n",
                "Attribute Information:\r\n",
                "\r\n",
                "For more information, read [Cortez et al., 2009].\r\n",
                "Input variables (based on physicochemical tests):\r\n",
                "1 - fixed acidity\r\n",
                "2 - volatile acidity\r\n",
                "3 - citric acid\r\n",
                "4 - residual sugar\r\n",
                "5 - chlorides\r\n",
                "6 - free sulfur dioxide\r\n",
                "7 - total sulfur dioxide\r\n",
                "8 - density\r\n",
                "9 - pH\r\n",
                "10 - sulphates\r\n",
                "11 - alcohol\r\n",
                "Output variable (based on sensory data):\r\n",
                "12 - quality (score between 0 and 10)\r\n",
                "\r\n"
            ],
            "metadata": {}
        },
        {
            "cell_type": "markdown",
            "source": [
                "Task - Predict Wine Quality \r\n"
            ],
            "metadata": {}
        },
        {
            "cell_type": "markdown",
            "source": [
                "Importing liabrary "
            ],
            "metadata": {}
        },
        {
            "cell_type": "code",
            "execution_count": 56,
            "source": [
                "import numpy as np \r\n",
                "import pandas as pd \r\n",
                "import seaborn as sns\r\n",
                "import matplotlib.pyplot as plt\r\n",
                "\r\n",
                "from sklearn.preprocessing import Normalizer\r\n",
                "from sklearn.model_selection import train_test_split\r\n",
                "\r\n",
                "from sklearn.ensemble import RandomForestClassifier\r\n",
                "from sklearn.tree import DecisionTreeClassifier\r\n",
                "from sklearn.neighbors import KNeighborsClassifier\r\n",
                "from sklearn.linear_model import LogisticRegression\r\n",
                "\r\n",
                "from sklearn.metrics import accuracy_score"
            ],
            "outputs": [],
            "metadata": {}
        },
        {
            "cell_type": "markdown",
            "source": [
                "Loading data ..."
            ],
            "metadata": {}
        },
        {
            "cell_type": "code",
            "execution_count": 4,
            "source": [
                "data = pd.read_csv('winequality-red.csv') "
            ],
            "outputs": [],
            "metadata": {}
        },
        {
            "cell_type": "markdown",
            "source": [
                "Data Visualization"
            ],
            "metadata": {}
        },
        {
            "cell_type": "code",
            "execution_count": 6,
            "source": [
                "data.head() "
            ],
            "outputs": [
                {
                    "output_type": "execute_result",
                    "data": {
                        "text/plain": [
                            "   fixed acidity  volatile acidity  citric acid  residual sugar  chlorides  \\\n",
                            "0            7.4              0.70         0.00             1.9      0.076   \n",
                            "1            7.8              0.88         0.00             2.6      0.098   \n",
                            "2            7.8              0.76         0.04             2.3      0.092   \n",
                            "3           11.2              0.28         0.56             1.9      0.075   \n",
                            "4            7.4              0.70         0.00             1.9      0.076   \n",
                            "\n",
                            "   free sulfur dioxide  total sulfur dioxide  density    pH  sulphates  \\\n",
                            "0                 11.0                  34.0   0.9978  3.51       0.56   \n",
                            "1                 25.0                  67.0   0.9968  3.20       0.68   \n",
                            "2                 15.0                  54.0   0.9970  3.26       0.65   \n",
                            "3                 17.0                  60.0   0.9980  3.16       0.58   \n",
                            "4                 11.0                  34.0   0.9978  3.51       0.56   \n",
                            "\n",
                            "   alcohol  quality  \n",
                            "0      9.4        5  \n",
                            "1      9.8        5  \n",
                            "2      9.8        5  \n",
                            "3      9.8        6  \n",
                            "4      9.4        5  "
                        ],
                        "text/html": [
                            "<div>\n",
                            "<style scoped>\n",
                            "    .dataframe tbody tr th:only-of-type {\n",
                            "        vertical-align: middle;\n",
                            "    }\n",
                            "\n",
                            "    .dataframe tbody tr th {\n",
                            "        vertical-align: top;\n",
                            "    }\n",
                            "\n",
                            "    .dataframe thead th {\n",
                            "        text-align: right;\n",
                            "    }\n",
                            "</style>\n",
                            "<table border=\"1\" class=\"dataframe\">\n",
                            "  <thead>\n",
                            "    <tr style=\"text-align: right;\">\n",
                            "      <th></th>\n",
                            "      <th>fixed acidity</th>\n",
                            "      <th>volatile acidity</th>\n",
                            "      <th>citric acid</th>\n",
                            "      <th>residual sugar</th>\n",
                            "      <th>chlorides</th>\n",
                            "      <th>free sulfur dioxide</th>\n",
                            "      <th>total sulfur dioxide</th>\n",
                            "      <th>density</th>\n",
                            "      <th>pH</th>\n",
                            "      <th>sulphates</th>\n",
                            "      <th>alcohol</th>\n",
                            "      <th>quality</th>\n",
                            "    </tr>\n",
                            "  </thead>\n",
                            "  <tbody>\n",
                            "    <tr>\n",
                            "      <th>0</th>\n",
                            "      <td>7.4</td>\n",
                            "      <td>0.70</td>\n",
                            "      <td>0.00</td>\n",
                            "      <td>1.9</td>\n",
                            "      <td>0.076</td>\n",
                            "      <td>11.0</td>\n",
                            "      <td>34.0</td>\n",
                            "      <td>0.9978</td>\n",
                            "      <td>3.51</td>\n",
                            "      <td>0.56</td>\n",
                            "      <td>9.4</td>\n",
                            "      <td>5</td>\n",
                            "    </tr>\n",
                            "    <tr>\n",
                            "      <th>1</th>\n",
                            "      <td>7.8</td>\n",
                            "      <td>0.88</td>\n",
                            "      <td>0.00</td>\n",
                            "      <td>2.6</td>\n",
                            "      <td>0.098</td>\n",
                            "      <td>25.0</td>\n",
                            "      <td>67.0</td>\n",
                            "      <td>0.9968</td>\n",
                            "      <td>3.20</td>\n",
                            "      <td>0.68</td>\n",
                            "      <td>9.8</td>\n",
                            "      <td>5</td>\n",
                            "    </tr>\n",
                            "    <tr>\n",
                            "      <th>2</th>\n",
                            "      <td>7.8</td>\n",
                            "      <td>0.76</td>\n",
                            "      <td>0.04</td>\n",
                            "      <td>2.3</td>\n",
                            "      <td>0.092</td>\n",
                            "      <td>15.0</td>\n",
                            "      <td>54.0</td>\n",
                            "      <td>0.9970</td>\n",
                            "      <td>3.26</td>\n",
                            "      <td>0.65</td>\n",
                            "      <td>9.8</td>\n",
                            "      <td>5</td>\n",
                            "    </tr>\n",
                            "    <tr>\n",
                            "      <th>3</th>\n",
                            "      <td>11.2</td>\n",
                            "      <td>0.28</td>\n",
                            "      <td>0.56</td>\n",
                            "      <td>1.9</td>\n",
                            "      <td>0.075</td>\n",
                            "      <td>17.0</td>\n",
                            "      <td>60.0</td>\n",
                            "      <td>0.9980</td>\n",
                            "      <td>3.16</td>\n",
                            "      <td>0.58</td>\n",
                            "      <td>9.8</td>\n",
                            "      <td>6</td>\n",
                            "    </tr>\n",
                            "    <tr>\n",
                            "      <th>4</th>\n",
                            "      <td>7.4</td>\n",
                            "      <td>0.70</td>\n",
                            "      <td>0.00</td>\n",
                            "      <td>1.9</td>\n",
                            "      <td>0.076</td>\n",
                            "      <td>11.0</td>\n",
                            "      <td>34.0</td>\n",
                            "      <td>0.9978</td>\n",
                            "      <td>3.51</td>\n",
                            "      <td>0.56</td>\n",
                            "      <td>9.4</td>\n",
                            "      <td>5</td>\n",
                            "    </tr>\n",
                            "  </tbody>\n",
                            "</table>\n",
                            "</div>"
                        ]
                    },
                    "metadata": {},
                    "execution_count": 6
                }
            ],
            "metadata": {}
        },
        {
            "cell_type": "code",
            "execution_count": 16,
            "source": [
                "plt.figure(figsize = (10,8))\r\n",
                "sns.heatmap(data.corr() , annot=True) "
            ],
            "outputs": [
                {
                    "output_type": "execute_result",
                    "data": {
                        "text/plain": [
                            "<AxesSubplot:>"
                        ]
                    },
                    "metadata": {},
                    "execution_count": 16
                },
                {
                    "output_type": "display_data",
                    "data": {
                        "text/plain": [
                            "<Figure size 720x576 with 2 Axes>"
                        ],
                        "image/png": "[encoded data removed]"
                    },
                    "metadata": {
                        "needs_background": "light"
                    }
                }
            ],
            "metadata": {}
        },
        {
            "cell_type": "markdown",
            "source": [
                "Observation - alcohol, sulphates, citric acid, volatile acidity has good correlation with quality"
            ],
            "metadata": {}
        },
        {
            "cell_type": "code",
            "execution_count": 17,
            "source": [
                "data.describe() "
            ],
            "outputs": [
                {
                    "output_type": "execute_result",
                    "data": {
                        "text/plain": [
                            "       fixed acidity  volatile acidity  citric acid  residual sugar  \\\n",
                            "count    1599.000000       1599.000000  1599.000000     1599.000000   \n",
                            "mean        8.319637          0.527821     0.270976        2.538806   \n",
                            "std         1.741096          0.179060     0.194801        1.409928   \n",
                            "min         4.600000          0.120000     0.000000        0.900000   \n",
                            "25%         7.100000          0.390000     0.090000        1.900000   \n",
                            "50%         7.900000          0.520000     0.260000        2.200000   \n",
                            "75%         9.200000          0.640000     0.420000        2.600000   \n",
                            "max        15.900000          1.580000     1.000000       15.500000   \n",
                            "\n",
                            "         chlorides  free sulfur dioxide  total sulfur dioxide      density  \\\n",
                            "count  1599.000000          1599.000000           1599.000000  1599.000000   \n",
                            "mean      0.087467            15.874922             46.467792     0.996747   \n",
                            "std       0.047065            10.460157             32.895324     0.001887   \n",
                            "min       0.012000             1.000000              6.000000     0.990070   \n",
                            "25%       0.070000             7.000000             22.000000     0.995600   \n",
                            "50%       0.079000            14.000000             38.000000     0.996750   \n",
                            "75%       0.090000            21.000000             62.000000     0.997835   \n",
                            "max       0.611000            72.000000            289.000000     1.003690   \n",
                            "\n",
                            "                pH    sulphates      alcohol      quality  \n",
                            "count  1599.000000  1599.000000  1599.000000  1599.000000  \n",
                            "mean      3.311113     0.658149    10.422983     5.636023  \n",
                            "std       0.154386     0.169507     1.065668     0.807569  \n",
                            "min       2.740000     0.330000     8.400000     3.000000  \n",
                            "25%       3.210000     0.550000     9.500000     5.000000  \n",
                            "50%       3.310000     0.620000    10.200000     6.000000  \n",
                            "75%       3.400000     0.730000    11.100000     6.000000  \n",
                            "max       4.010000     2.000000    14.900000     8.000000  "
                        ],
                        "text/html": [
                            "<div>\n",
                            "<style scoped>\n",
                            "    .dataframe tbody tr th:only-of-type {\n",
                            "        vertical-align: middle;\n",
                            "    }\n",
                            "\n",
                            "    .dataframe tbody tr th {\n",
                            "        vertical-align: top;\n",
                            "    }\n",
                            "\n",
                            "    .dataframe thead th {\n",
                            "        text-align: right;\n",
                            "    }\n",
                            "</style>\n",
                            "<table border=\"1\" class=\"dataframe\">\n",
                            "  <thead>\n",
                            "    <tr style=\"text-align: right;\">\n",
                            "      <th></th>\n",
                            "      <th>fixed acidity</th>\n",
                            "      <th>volatile acidity</th>\n",
                            "      <th>citric acid</th>\n",
                            "      <th>residual sugar</th>\n",
                            "      <th>chlorides</th>\n",
                            "      <th>free sulfur dioxide</th>\n",
                            "      <th>total sulfur dioxide</th>\n",
                            "      <th>density</th>\n",
                            "      <th>pH</th>\n",
                            "      <th>sulphates</th>\n",
                            "      <th>alcohol</th>\n",
                            "      <th>quality</th>\n",
                            "    </tr>\n",
                            "  </thead>\n",
                            "  <tbody>\n",
                            "    <tr>\n",
                            "      <th>count</th>\n",
                            "      <td>1599.000000</td>\n",
                            "      <td>1599.000000</td>\n",
                            "      <td>1599.000000</td>\n",
                            "      <td>1599.000000</td>\n",
                            "      <td>1599.000000</td>\n",
                            "      <td>1599.000000</td>\n",
                            "      <td>1599.000000</td>\n",
                            "      <td>1599.000000</td>\n",
                            "      <td>1599.000000</td>\n",
                            "      <td>1599.000000</td>\n",
                            "      <td>1599.000000</td>\n",
                            "      <td>1599.000000</td>\n",
                            "    </tr>\n",
                            "    <tr>\n",
                            "      <th>mean</th>\n",
                            "      <td>8.319637</td>\n",
                            "      <td>0.527821</td>\n",
                            "      <td>0.270976</td>\n",
                            "      <td>2.538806</td>\n",
                            "      <td>0.087467</td>\n",
                            "      <td>15.874922</td>\n",
                            "      <td>46.467792</td>\n",
                            "      <td>0.996747</td>\n",
                            "      <td>3.311113</td>\n",
                            "      <td>0.658149</td>\n",
                            "      <td>10.422983</td>\n",
                            "      <td>5.636023</td>\n",
                            "    </tr>\n",
                            "    <tr>\n",
                            "      <th>std</th>\n",
                            "      <td>1.741096</td>\n",
                            "      <td>0.179060</td>\n",
                            "      <td>0.194801</td>\n",
                            "      <td>1.409928</td>\n",
                            "      <td>0.047065</td>\n",
                            "      <td>10.460157</td>\n",
                            "      <td>32.895324</td>\n",
                            "      <td>0.001887</td>\n",
                            "      <td>0.154386</td>\n",
                            "      <td>0.169507</td>\n",
                            "      <td>1.065668</td>\n",
                            "      <td>0.807569</td>\n",
                            "    </tr>\n",
                            "    <tr>\n",
                            "      <th>min</th>\n",
                            "      <td>4.600000</td>\n",
                            "      <td>0.120000</td>\n",
                            "      <td>0.000000</td>\n",
                            "      <td>0.900000</td>\n",
                            "      <td>0.012000</td>\n",
                            "      <td>1.000000</td>\n",
                            "      <td>6.000000</td>\n",
                            "      <td>0.990070</td>\n",
                            "      <td>2.740000</td>\n",
                            "      <td>0.330000</td>\n",
                            "      <td>8.400000</td>\n",
                            "      <td>3.000000</td>\n",
                            "    </tr>\n",
                            "    <tr>\n",
                            "      <th>25%</th>\n",
                            "      <td>7.100000</td>\n",
                            "      <td>0.390000</td>\n",
                            "      <td>0.090000</td>\n",
                            "      <td>1.900000</td>\n",
                            "      <td>0.070000</td>\n",
                            "      <td>7.000000</td>\n",
                            "      <td>22.000000</td>\n",
                            "      <td>0.995600</td>\n",
                            "      <td>3.210000</td>\n",
                            "      <td>0.550000</td>\n",
                            "      <td>9.500000</td>\n",
                            "      <td>5.000000</td>\n",
                            "    </tr>\n",
                            "    <tr>\n",
                            "      <th>50%</th>\n",
                            "      <td>7.900000</td>\n",
                            "      <td>0.520000</td>\n",
                            "      <td>0.260000</td>\n",
                            "      <td>2.200000</td>\n",
                            "      <td>0.079000</td>\n",
                            "      <td>14.000000</td>\n",
                            "      <td>38.000000</td>\n",
                            "      <td>0.996750</td>\n",
                            "      <td>3.310000</td>\n",
                            "      <td>0.620000</td>\n",
                            "      <td>10.200000</td>\n",
                            "      <td>6.000000</td>\n",
                            "    </tr>\n",
                            "    <tr>\n",
                            "      <th>75%</th>\n",
                            "      <td>9.200000</td>\n",
                            "      <td>0.640000</td>\n",
                            "      <td>0.420000</td>\n",
                            "      <td>2.600000</td>\n",
                            "      <td>0.090000</td>\n",
                            "      <td>21.000000</td>\n",
                            "      <td>62.000000</td>\n",
                            "      <td>0.997835</td>\n",
                            "      <td>3.400000</td>\n",
                            "      <td>0.730000</td>\n",
                            "      <td>11.100000</td>\n",
                            "      <td>6.000000</td>\n",
                            "    </tr>\n",
                            "    <tr>\n",
                            "      <th>max</th>\n",
                            "      <td>15.900000</td>\n",
                            "      <td>1.580000</td>\n",
                            "      <td>1.000000</td>\n",
                            "      <td>15.500000</td>\n",
                            "      <td>0.611000</td>\n",
                            "      <td>72.000000</td>\n",
                            "      <td>289.000000</td>\n",
                            "      <td>1.003690</td>\n",
                            "      <td>4.010000</td>\n",
                            "      <td>2.000000</td>\n",
                            "      <td>14.900000</td>\n",
                            "      <td>8.000000</td>\n",
                            "    </tr>\n",
                            "  </tbody>\n",
                            "</table>\n",
                            "</div>"
                        ]
                    },
                    "metadata": {},
                    "execution_count": 17
                }
            ],
            "metadata": {}
        },
        {
            "cell_type": "markdown",
            "source": [
                "Data refining"
            ],
            "metadata": {}
        },
        {
            "cell_type": "code",
            "execution_count": 44,
            "source": [
                "data.isnull().sum() "
            ],
            "outputs": [
                {
                    "output_type": "execute_result",
                    "data": {
                        "text/plain": [
                            "fixed acidity           0\n",
                            "volatile acidity        0\n",
                            "citric acid             0\n",
                            "residual sugar          0\n",
                            "chlorides               0\n",
                            "free sulfur dioxide     0\n",
                            "total sulfur dioxide    0\n",
                            "density                 0\n",
                            "pH                      0\n",
                            "sulphates               0\n",
                            "alcohol                 0\n",
                            "quality                 0\n",
                            "dtype: int64"
                        ]
                    },
                    "metadata": {},
                    "execution_count": 44
                }
            ],
            "metadata": {}
        },
        {
            "cell_type": "markdown",
            "source": [
                "Dividing Data"
            ],
            "metadata": {}
        },
        {
            "cell_type": "code",
            "execution_count": 46,
            "source": [
                "x = data.drop('quality',axis= 1)\r\n",
                "y = data['quality'] "
            ],
            "outputs": [],
            "metadata": {}
        },
        {
            "cell_type": "code",
            "execution_count": 47,
            "source": [
                "x.head()"
            ],
            "outputs": [
                {
                    "output_type": "execute_result",
                    "data": {
                        "text/plain": [
                            "   fixed acidity  volatile acidity  citric acid  residual sugar  chlorides  \\\n",
                            "0            7.4              0.70         0.00             1.9      0.076   \n",
                            "1            7.8              0.88         0.00             2.6      0.098   \n",
                            "2            7.8              0.76         0.04             2.3      0.092   \n",
                            "3           11.2              0.28         0.56             1.9      0.075   \n",
                            "4            7.4              0.70         0.00             1.9      0.076   \n",
                            "\n",
                            "   free sulfur dioxide  total sulfur dioxide  density    pH  sulphates  \\\n",
                            "0                 11.0                  34.0   0.9978  3.51       0.56   \n",
                            "1                 25.0                  67.0   0.9968  3.20       0.68   \n",
                            "2                 15.0                  54.0   0.9970  3.26       0.65   \n",
                            "3                 17.0                  60.0   0.9980  3.16       0.58   \n",
                            "4                 11.0                  34.0   0.9978  3.51       0.56   \n",
                            "\n",
                            "   alcohol  \n",
                            "0      9.4  \n",
                            "1      9.8  \n",
                            "2      9.8  \n",
                            "3      9.8  \n",
                            "4      9.4  "
                        ],
                        "text/html": [
                            "<div>\n",
                            "<style scoped>\n",
                            "    .dataframe tbody tr th:only-of-type {\n",
                            "        vertical-align: middle;\n",
                            "    }\n",
                            "\n",
                            "    .dataframe tbody tr th {\n",
                            "        vertical-align: top;\n",
                            "    }\n",
                            "\n",
                            "    .dataframe thead th {\n",
                            "        text-align: right;\n",
                            "    }\n",
                            "</style>\n",
                            "<table border=\"1\" class=\"dataframe\">\n",
                            "  <thead>\n",
                            "    <tr style=\"text-align: right;\">\n",
                            "      <th></th>\n",
                            "      <th>fixed acidity</th>\n",
                            "      <th>volatile acidity</th>\n",
                            "      <th>citric acid</th>\n",
                            "      <th>residual sugar</th>\n",
                            "      <th>chlorides</th>\n",
                            "      <th>free sulfur dioxide</th>\n",
                            "      <th>total sulfur dioxide</th>\n",
                            "      <th>density</th>\n",
                            "      <th>pH</th>\n",
                            "      <th>sulphates</th>\n",
                            "      <th>alcohol</th>\n",
                            "    </tr>\n",
                            "  </thead>\n",
                            "  <tbody>\n",
                            "    <tr>\n",
                            "      <th>0</th>\n",
                            "      <td>7.4</td>\n",
                            "      <td>0.70</td>\n",
                            "      <td>0.00</td>\n",
                            "      <td>1.9</td>\n",
                            "      <td>0.076</td>\n",
                            "      <td>11.0</td>\n",
                            "      <td>34.0</td>\n",
                            "      <td>0.9978</td>\n",
                            "      <td>3.51</td>\n",
                            "      <td>0.56</td>\n",
                            "      <td>9.4</td>\n",
                            "    </tr>\n",
                            "    <tr>\n",
                            "      <th>1</th>\n",
                            "      <td>7.8</td>\n",
                            "      <td>0.88</td>\n",
                            "      <td>0.00</td>\n",
                            "      <td>2.6</td>\n",
                            "      <td>0.098</td>\n",
                            "      <td>25.0</td>\n",
                            "      <td>67.0</td>\n",
                            "      <td>0.9968</td>\n",
                            "      <td>3.20</td>\n",
                            "      <td>0.68</td>\n",
                            "      <td>9.8</td>\n",
                            "    </tr>\n",
                            "    <tr>\n",
                            "      <th>2</th>\n",
                            "      <td>7.8</td>\n",
                            "      <td>0.76</td>\n",
                            "      <td>0.04</td>\n",
                            "      <td>2.3</td>\n",
                            "      <td>0.092</td>\n",
                            "      <td>15.0</td>\n",
                            "      <td>54.0</td>\n",
                            "      <td>0.9970</td>\n",
                            "      <td>3.26</td>\n",
                            "      <td>0.65</td>\n",
                            "      <td>9.8</td>\n",
                            "    </tr>\n",
                            "    <tr>\n",
                            "      <th>3</th>\n",
                            "      <td>11.2</td>\n",
                            "      <td>0.28</td>\n",
                            "      <td>0.56</td>\n",
                            "      <td>1.9</td>\n",
                            "      <td>0.075</td>\n",
                            "      <td>17.0</td>\n",
                            "      <td>60.0</td>\n",
                            "      <td>0.9980</td>\n",
                            "      <td>3.16</td>\n",
                            "      <td>0.58</td>\n",
                            "      <td>9.8</td>\n",
                            "    </tr>\n",
                            "    <tr>\n",
                            "      <th>4</th>\n",
                            "      <td>7.4</td>\n",
                            "      <td>0.70</td>\n",
                            "      <td>0.00</td>\n",
                            "      <td>1.9</td>\n",
                            "      <td>0.076</td>\n",
                            "      <td>11.0</td>\n",
                            "      <td>34.0</td>\n",
                            "      <td>0.9978</td>\n",
                            "      <td>3.51</td>\n",
                            "      <td>0.56</td>\n",
                            "      <td>9.4</td>\n",
                            "    </tr>\n",
                            "  </tbody>\n",
                            "</table>\n",
                            "</div>"
                        ]
                    },
                    "metadata": {},
                    "execution_count": 47
                }
            ],
            "metadata": {}
        },
        {
            "cell_type": "code",
            "execution_count": 48,
            "source": [
                "y.head() "
            ],
            "outputs": [
                {
                    "output_type": "execute_result",
                    "data": {
                        "text/plain": [
                            "0    5\n",
                            "1    5\n",
                            "2    5\n",
                            "3    6\n",
                            "4    5\n",
                            "Name: quality, dtype: int64"
                        ]
                    },
                    "metadata": {},
                    "execution_count": 48
                }
            ],
            "metadata": {}
        },
        {
            "cell_type": "markdown",
            "source": [
                "Normalizing \r\n"
            ],
            "metadata": {}
        },
        {
            "cell_type": "code",
            "execution_count": 49,
            "source": [
                "nor = Normalizer()\r\n",
                "x = nor.fit_transform(x) "
            ],
            "outputs": [],
            "metadata": {}
        },
        {
            "cell_type": "markdown",
            "source": [
                "Data Splliting"
            ],
            "metadata": {}
        },
        {
            "cell_type": "code",
            "execution_count": 50,
            "source": [
                "xtrain, xtest, ytrain, ytest = train_test_split(x,y,test_size=0.3) "
            ],
            "outputs": [],
            "metadata": {}
        },
        {
            "cell_type": "code",
            "execution_count": 51,
            "source": [
                "print(xtrain.shape)\r\n",
                "print(ytrain.shape)\r\n",
                "print(xtest.shape)\r\n",
                "print(ytest.shape) "
            ],
            "outputs": [
                {
                    "output_type": "stream",
                    "name": "stdout",
                    "text": [
                        "(1119, 11)\n",
                        "(1119,)\n",
                        "(480, 11)\n",
                        "(480,)\n"
                    ]
                }
            ],
            "metadata": {}
        },
        {
            "cell_type": "markdown",
            "source": [
                "Models"
            ],
            "metadata": {}
        },
        {
            "cell_type": "code",
            "execution_count": 53,
            "source": [
                "knn = KNeighborsClassifier(n_neighbors=5)\r\n",
                "lgs = LogisticRegression()\r\n",
                "dts = DecisionTreeClassifier()\r\n",
                "rfs = RandomForestClassifier(n_estimators=1000)  "
            ],
            "outputs": [],
            "metadata": {}
        },
        {
            "cell_type": "markdown",
            "source": [
                "Training"
            ],
            "metadata": {}
        },
        {
            "cell_type": "code",
            "execution_count": 54,
            "source": [
                "knn.fit(xtrain,ytrain)\r\n",
                "lgs.fit(xtrain,ytrain)\r\n",
                "dts.fit(xtrain,ytrain)\r\n",
                "rfs.fit(xtrain,ytrain) "
            ],
            "outputs": [
                {
                    "output_type": "execute_result",
                    "data": {
                        "text/plain": [
                            "RandomForestClassifier(n_estimators=1000)"
                        ]
                    },
                    "metadata": {},
                    "execution_count": 54
                }
            ],
            "metadata": {}
        },
        {
            "cell_type": "markdown",
            "source": [
                "Prediction"
            ],
            "metadata": {}
        },
        {
            "cell_type": "code",
            "execution_count": 55,
            "source": [
                "knnp = knn.predict(xtest)\r\n",
                "lgsp = lgs.predict(xtest)\r\n",
                "dtsp = dts.predict(xtest)\r\n",
                "rfsp = rfs.predict(xtest) "
            ],
            "outputs": [],
            "metadata": {}
        },
        {
            "cell_type": "markdown",
            "source": [
                "Model Evaluation"
            ],
            "metadata": {}
        },
        {
            "cell_type": "code",
            "execution_count": 57,
            "source": [
                "knnacc = accuracy_score(ytest,knnp)\r\n",
                "lgsacc = accuracy_score(ytest,lgsp)\r\n",
                "dtsacc = accuracy_score(ytest,dtsp)\r\n",
                "rfsacc = accuracy_score(ytest,rfsp) "
            ],
            "outputs": [],
            "metadata": {}
        },
        {
            "cell_type": "markdown",
            "source": [
                "Time for Result"
            ],
            "metadata": {}
        },
        {
            "cell_type": "code",
            "execution_count": 60,
            "source": [
                "print(\"Model              : \",\"Accuracy Percentage\") \r\n",
                "print(\"KNeighbors         : \",round(knnacc*100,2)) \r\n",
                "print(\"Logistic Regresion : \",round(knnacc*100,2)) \r\n",
                "print(\"Decision Tree      : \",round(knnacc*100,2)) \r\n",
                "print(\"Random Forest      : \",round(knnacc*100,2)) "
            ],
            "outputs": [
                {
                    "output_type": "stream",
                    "name": "stdout",
                    "text": [
                        "Model              :  Accuracy Percentage\n",
                        "KNeighbors         :  51.25\n",
                        "Logistic Regresion :  51.25\n",
                        "Decision Tree      :  51.25\n",
                        "Random Forest      :  51.25\n"
                    ]
                }
            ],
            "metadata": {}
        }
    ],
    "metadata": {
        "orig_nbformat": 4,
        "language_info": {
            "name": "python"
        }
    },
    "nbformat": 4,
    "nbformat_minor": 2
}