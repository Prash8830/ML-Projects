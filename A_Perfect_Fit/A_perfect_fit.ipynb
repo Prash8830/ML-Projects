{
    "cells": [
        {
            "cell_type": "markdown",
            "source": [
                "<h1 style='color: gold; text-align: center; font-family: cursive;font-size: 30px;'>Hire the perfect candidate</h1>"
            ],
            "metadata": {}
        },
        {
            "cell_type": "markdown",
            "source": [
                "<h1 style='color: rgb(77, 229, 240); text-align: left; font-family: cursive;font-size: 20px;'>A Perfect Fit : HackerEarth Machine Learning Challenge</h1>"
            ],
            "metadata": {}
        },
        {
            "cell_type": "markdown",
            "source": [
                "<h1 style='color: #8f7be9; text-align: left; font-family: cursive;font-size: 20px;'>                            <p>Hiring employees effectively is vital to the survival of any organization. The hiring process consists of soliciting potential candidates during the recruitment and then determining the best candidates to be employees during the selection process.</p>\r\n",
                "\r\n",
                "<p>The selection process, in particular, enables organizations to build and maintain a productive and motivated workforce that will be the key to their success.&nbsp;</p>\r\n",
                "\r\n",
                "<p><strong>Task</strong></p>\r\n",
                "\r\n",
                "<p>You want to hire a Machine Learning engineer for your team. Your manager has provided a job description and&nbsp;resumes of various candidates. You are given the responsibility to filter the candidates that fit the most based on the provided job description for the first interview round.</p>\r\n",
                "\r\n",
                "<p>You are given a dataset that contains the resumes of various candidates. Your task is to determine the percentage that a candidate fits the job role based on the job description.</p>\r\n",
                "\r\n",
                "<p><strong>Data description</strong></p>\r\n",
                "\r\n",
                "<p>The <em>dataset</em> folder contains the following files:</p>\r\n",
                "\r\n",
                "<ul>\r\n",
                "\t<li><em>train.csv</em>: 90 x 2</li>\r\n",
                "\t<li><em>trainResumes</em>: 90 resumes that you must use for training your model</li>\r\n",
                "\t<li><em>test.csv</em>: 60 x 1</li>\r\n",
                "\t<li><em>testResumes</em>: 90 resumes that you must use for testing&nbsp;your model</li>\r\n",
                "\t<li><em>sample_submission.csv</em>: 5 x 2</li>\r\n",
                "\t<li><em>Job description.pdf</em>: PDF file that represents the job description of a Machine Learning engineer</li>\r\n",
                "</ul>\r\n",
                "\r\n",
                "<p>The dataset contains the following columns:</p>\r\n",
                "\r\n",
                "<table border=\"1\">\r\n",
                "\t<tbody>\r\n",
                "\t\t<tr>\r\n",
                "\t\t\t<td style=\"text-align:center\"><strong>Column name&nbsp;</strong></td>\r\n",
                "\t\t\t<td style=\"text-align:center\"><strong>Column description</strong></td>\r\n",
                "\t\t</tr>\r\n",
                "\t\t<tr>\r\n",
                "\t\t\t<td style=\"text-align:center\">CandidateID</td>\r\n",
                "\t\t\t<td>Represents the unique identification number of a candidate</td>\r\n",
                "\t\t</tr>\r\n",
                "\t\t<tr>\r\n",
                "\t\t\t<td style=\"text-align:center\">Match Percentage</td>\r\n",
                "\t\t\t<td>Represents the percentage that a candidate fits based on the job description</td>\r\n",
                "\t\t</tr>\r\n",
                "\t</tbody>\r\n",
                "</table>\r\n",
                "\r\n",
                "<p><strong>Evaluation metric</strong></p>\r\n",
                "\r\n",
                "<pre class=\"prettyprint\">\r\n",
                "<code>score = 100*max(0, 1 - metrics.mean_squared_log_error(actual, predicted))</code></pre>\r\n",
                "\r\n",
                "<p><strong>Result submission guidelines</strong></p>\r\n",
                "\r\n",
                "<ul>\r\n",
                "\t<li>The index&nbsp;is the&nbsp;<em>CandidateID</em><em><strong> </strong></em>column.&nbsp;</li>\r\n",
                "\t<li>The target&nbsp;is the <em>Match Percentage</em>&nbsp;column.&nbsp;</li>\r\n",
                "\t<li>The submission file must be submitted in <strong>.csv</strong> format only.</li>\r\n",
                "\t<li>The size of this submission file must be&nbsp;60 x 2.</li>\r\n",
                "</ul>\r\n",
                "\r\n",
                "<p><em>Notes</em>&nbsp;</p>\r\n",
                "\r\n",
                "<p>Ensure that your submission file contains the following:</p>\r\n",
                "\r\n",
                "<ul>\r\n",
                "\t<li>Correct index values as per the test file</li>\r\n",
                "\t<li>Correct names of&nbsp;columns as provided in the <em>sample_submission.csv</em> file</li>\r\n",
                "</ul></h1>"
            ],
            "metadata": {}
        },
        {
            "cell_type": "markdown",
            "source": [
                "<h1 style='color: rgb(77, 229, 240); text-align: left; font-family: cursive;font-size: 20px;'>Importing Liabrary...</h1>"
            ],
            "metadata": {}
        },
        {
            "cell_type": "code",
            "execution_count": 83,
            "source": [
                "# basic modules\r\n",
                "import numpy as np\r\n",
                "import pandas as pd\r\n",
                "\r\n",
                "# modules to read pdf files\r\n",
                "from io import StringIO\r\n",
                "from pdfminer.pdfinterp import PDFResourceManager, PDFPageInterpreter\r\n",
                "from pdfminer.converter import TextConverter\r\n",
                "from pdfminer.layout import LAParams\r\n",
                "from pdfminer.pdfpage import PDFPage\r\n",
                "\r\n",
                "# ignore warning\r\n",
                "import warnings \r\n",
                "warnings.simplefilter('ignore') "
            ],
            "outputs": [],
            "metadata": {}
        },
        {
            "cell_type": "markdown",
            "source": [
                "<h1 style='color: red; text-align: left; font-family: cursive;font-size: 20px;'>Major challenge --> How to read data from pdf file becuase pandas don't support pdf files</h1>"
            ],
            "metadata": {}
        },
        {
            "cell_type": "markdown",
            "source": [
                "<h1 style='color: lightgreen; text-align: left; font-family: cursive;font-size: 20px;'>Solution --> pdf_reader function</h1>"
            ],
            "metadata": {}
        },
        {
            "cell_type": "markdown",
            "source": [
                "<h1 style='color: rgb(77, 229, 240); text-align: left; font-family: cursive;font-size: 20px;'>Function to read 'one page' of pdf file</h1>"
            ],
            "metadata": {}
        },
        {
            "cell_type": "code",
            "execution_count": 68,
            "source": [
                "'''\r\n",
                "### Read in PDF complicated text using Pdfminer\r\n",
                "'''      \r\n",
                "\r\n",
                "\r\n",
                "def pdf_text_reader(pdf_file_name, pages=None):\r\n",
                "    if pages:\r\n",
                "        pagenums = set(pages)\r\n",
                "    else:\r\n",
                "        pagenums = set()\r\n",
                "\r\n",
                "    ## 1) Initiate the Pdf text converter and interpreter\r\n",
                "    textOutput = StringIO()\r\n",
                "    manager = PDFResourceManager()\r\n",
                "    converter = TextConverter(manager, textOutput, laparams=LAParams())\r\n",
                "    interpreter = PDFPageInterpreter(manager, converter)\r\n",
                "\r\n",
                "    ## 2) Extract text from file using the interpreter\r\n",
                "    infile = open(pdf_file_name, 'rb')\r\n",
                "    for page in PDFPage.get_pages(infile, pagenums):\r\n",
                "        interpreter.process_page(page)        \r\n",
                "    infile.close()\r\n",
                "    \r\n",
                "    ## 3) Extract the paragraphs and close the connections\r\n",
                "    paras = textOutput.getvalue()   \r\n",
                "    converter.close()\r\n",
                "    textOutput.close\r\n",
                "    \r\n",
                "    return paras\r\n"
            ],
            "outputs": [],
            "metadata": {}
        },
        {
            "cell_type": "markdown",
            "source": [
                "<h1 style='color: rgb(77, 229, 240); text-align: left; font-family: cursive;font-size: 20px;'>Function to read 'whole' pdf file</h1>"
            ],
            "metadata": {}
        },
        {
            "cell_type": "code",
            "execution_count": 69,
            "source": [
                "def pdf_reader(file_name):\r\n",
                "\r\n",
                "    file = pdf_text_reader(file_name, pages=[0]) #start from page no 0\r\n",
                "    page_no=1\r\n",
                "    while True:\r\n",
                "      another_page = pdf_text_reader(file_name, pages=[page_no])\r\n",
                "\r\n",
                "      if(len(another_page)==0): #add pages untill pages ends\r\n",
                "            break \r\n",
                "      file = file+another_page\r\n",
                "      page_no+=1\r\n",
                "\r\n",
                "    file = [i.lower() for i in file.split('\\n') if i] #splliting context of file for better handling \r\n",
                "    return file #it returns list containing lines of pdf pages as strings"
            ],
            "outputs": [],
            "metadata": {}
        },
        {
            "cell_type": "markdown",
            "source": [
                "<h1 style='color: rgb(77, 229, 240); text-align: left; font-family: cursive;font-size: 20px;'>Loading Data...</h1>"
            ],
            "metadata": {}
        },
        {
            "cell_type": "markdown",
            "source": [
                "<h1 style='color: rgb(77, 229, 240); text-align: left; font-family: cursive;font-size: 20px;'>1) Reading training and testing data</h1>"
            ],
            "metadata": {}
        },
        {
            "cell_type": "code",
            "execution_count": 70,
            "source": [
                "#training data\r\n",
                "train = pd.read_csv('dataset/train.csv')\r\n",
                "print(\"Train Data :\") \r\n",
                "train.head(3) #printing first 3 entries\r\n"
            ],
            "outputs": [
                {
                    "output_type": "stream",
                    "name": "stdout",
                    "text": [
                        "Train Data :\n"
                    ]
                },
                {
                    "output_type": "execute_result",
                    "data": {
                        "text/plain": [
                            "     CandidateID  Match Percentage\n",
                            "0  candidate_011             13.60\n",
                            "1  candidate_113             36.63\n",
                            "2  candidate_123             54.93"
                        ],
                        "text/html": [
                            "<div>\n",
                            "<style scoped>\n",
                            "    .dataframe tbody tr th:only-of-type {\n",
                            "        vertical-align: middle;\n",
                            "    }\n",
                            "\n",
                            "    .dataframe tbody tr th {\n",
                            "        vertical-align: top;\n",
                            "    }\n",
                            "\n",
                            "    .dataframe thead th {\n",
                            "        text-align: right;\n",
                            "    }\n",
                            "</style>\n",
                            "<table border=\"1\" class=\"dataframe\">\n",
                            "  <thead>\n",
                            "    <tr style=\"text-align: right;\">\n",
                            "      <th></th>\n",
                            "      <th>CandidateID</th>\n",
                            "      <th>Match Percentage</th>\n",
                            "    </tr>\n",
                            "  </thead>\n",
                            "  <tbody>\n",
                            "    <tr>\n",
                            "      <th>0</th>\n",
                            "      <td>candidate_011</td>\n",
                            "      <td>13.60</td>\n",
                            "    </tr>\n",
                            "    <tr>\n",
                            "      <th>1</th>\n",
                            "      <td>candidate_113</td>\n",
                            "      <td>36.63</td>\n",
                            "    </tr>\n",
                            "    <tr>\n",
                            "      <th>2</th>\n",
                            "      <td>candidate_123</td>\n",
                            "      <td>54.93</td>\n",
                            "    </tr>\n",
                            "  </tbody>\n",
                            "</table>\n",
                            "</div>"
                        ]
                    },
                    "metadata": {},
                    "execution_count": 70
                }
            ],
            "metadata": {}
        },
        {
            "cell_type": "code",
            "execution_count": 71,
            "source": [
                "#testing data \r\n",
                "test = pd.read_csv('dataset/test.csv')  \r\n",
                "print(\"Test Data :\") \r\n",
                "test.head(3) #printing first 3 entries "
            ],
            "outputs": [
                {
                    "output_type": "stream",
                    "name": "stdout",
                    "text": [
                        "Test Data :\n"
                    ]
                },
                {
                    "output_type": "execute_result",
                    "data": {
                        "text/plain": [
                            "     CandidateID\n",
                            "0  candidate_014\n",
                            "1  candidate_098\n",
                            "2  candidate_075"
                        ],
                        "text/html": [
                            "<div>\n",
                            "<style scoped>\n",
                            "    .dataframe tbody tr th:only-of-type {\n",
                            "        vertical-align: middle;\n",
                            "    }\n",
                            "\n",
                            "    .dataframe tbody tr th {\n",
                            "        vertical-align: top;\n",
                            "    }\n",
                            "\n",
                            "    .dataframe thead th {\n",
                            "        text-align: right;\n",
                            "    }\n",
                            "</style>\n",
                            "<table border=\"1\" class=\"dataframe\">\n",
                            "  <thead>\n",
                            "    <tr style=\"text-align: right;\">\n",
                            "      <th></th>\n",
                            "      <th>CandidateID</th>\n",
                            "    </tr>\n",
                            "  </thead>\n",
                            "  <tbody>\n",
                            "    <tr>\n",
                            "      <th>0</th>\n",
                            "      <td>candidate_014</td>\n",
                            "    </tr>\n",
                            "    <tr>\n",
                            "      <th>1</th>\n",
                            "      <td>candidate_098</td>\n",
                            "    </tr>\n",
                            "    <tr>\n",
                            "      <th>2</th>\n",
                            "      <td>candidate_075</td>\n",
                            "    </tr>\n",
                            "  </tbody>\n",
                            "</table>\n",
                            "</div>"
                        ]
                    },
                    "metadata": {},
                    "execution_count": 71
                }
            ],
            "metadata": {}
        },
        {
            "cell_type": "markdown",
            "source": [
                "<h1 style='color: rgb(77, 229, 240); text-align: left; font-family: cursive;font-size: 20px;'>Check if any missing entry</h1>"
            ],
            "metadata": {}
        },
        {
            "cell_type": "code",
            "execution_count": 72,
            "source": [
                "train.isnull().sum() "
            ],
            "outputs": [
                {
                    "output_type": "execute_result",
                    "data": {
                        "text/plain": [
                            "CandidateID         0\n",
                            "Match Percentage    0\n",
                            "dtype: int64"
                        ]
                    },
                    "metadata": {},
                    "execution_count": 72
                }
            ],
            "metadata": {}
        },
        {
            "cell_type": "code",
            "execution_count": 73,
            "source": [
                "test.isnull().sum() "
            ],
            "outputs": [
                {
                    "output_type": "execute_result",
                    "data": {
                        "text/plain": [
                            "CandidateID    0\n",
                            "dtype: int64"
                        ]
                    },
                    "metadata": {},
                    "execution_count": 73
                }
            ],
            "metadata": {}
        },
        {
            "cell_type": "markdown",
            "source": [
                "<h1 style='color: rgb(77, 229, 240); text-align: left; font-family: cursive;font-size: 15px;'>Observation --> hence there is no missing values in train and test dataset and also from train and test folder it is confirm that it contains all 90 and 60 resumes respectively</h1>"
            ],
            "metadata": {}
        },
        {
            "cell_type": "markdown",
            "source": [
                "<h1 style='color: red; text-align: left; font-family: cursive;font-size: 20px;'>Challenge --> CandidateId's are shuffled so we can't use them directly</h1>"
            ],
            "metadata": {}
        },
        {
            "cell_type": "markdown",
            "source": [
                "<h1 style='color: lightgreen; text-align: left; font-family: cursive;font-size: 20px;'>Solution --> we will sort dataframe based on candidateID's </h1>"
            ],
            "metadata": {}
        },
        {
            "cell_type": "code",
            "execution_count": 74,
            "source": [
                "#sort dataframe based on candidateId\r\n",
                "train.sort_values(by ='CandidateID', inplace =True)\r\n",
                "\r\n",
                "#reset index\r\n",
                "train.reset_index(inplace=True)\r\n",
                "train.drop('index',axis=1,inplace=True)\r\n",
                "\r\n",
                "#print sorted train dataset\r\n",
                "train.head() "
            ],
            "outputs": [
                {
                    "output_type": "execute_result",
                    "data": {
                        "text/plain": [
                            "     CandidateID  Match Percentage\n",
                            "0  candidate_000             13.70\n",
                            "1  candidate_001             40.09\n",
                            "2  candidate_002             48.91\n",
                            "3  candidate_003             36.89\n",
                            "4  candidate_006             44.96"
                        ],
                        "text/html": [
                            "<div>\n",
                            "<style scoped>\n",
                            "    .dataframe tbody tr th:only-of-type {\n",
                            "        vertical-align: middle;\n",
                            "    }\n",
                            "\n",
                            "    .dataframe tbody tr th {\n",
                            "        vertical-align: top;\n",
                            "    }\n",
                            "\n",
                            "    .dataframe thead th {\n",
                            "        text-align: right;\n",
                            "    }\n",
                            "</style>\n",
                            "<table border=\"1\" class=\"dataframe\">\n",
                            "  <thead>\n",
                            "    <tr style=\"text-align: right;\">\n",
                            "      <th></th>\n",
                            "      <th>CandidateID</th>\n",
                            "      <th>Match Percentage</th>\n",
                            "    </tr>\n",
                            "  </thead>\n",
                            "  <tbody>\n",
                            "    <tr>\n",
                            "      <th>0</th>\n",
                            "      <td>candidate_000</td>\n",
                            "      <td>13.70</td>\n",
                            "    </tr>\n",
                            "    <tr>\n",
                            "      <th>1</th>\n",
                            "      <td>candidate_001</td>\n",
                            "      <td>40.09</td>\n",
                            "    </tr>\n",
                            "    <tr>\n",
                            "      <th>2</th>\n",
                            "      <td>candidate_002</td>\n",
                            "      <td>48.91</td>\n",
                            "    </tr>\n",
                            "    <tr>\n",
                            "      <th>3</th>\n",
                            "      <td>candidate_003</td>\n",
                            "      <td>36.89</td>\n",
                            "    </tr>\n",
                            "    <tr>\n",
                            "      <th>4</th>\n",
                            "      <td>candidate_006</td>\n",
                            "      <td>44.96</td>\n",
                            "    </tr>\n",
                            "  </tbody>\n",
                            "</table>\n",
                            "</div>"
                        ]
                    },
                    "metadata": {},
                    "execution_count": 74
                }
            ],
            "metadata": {}
        },
        {
            "cell_type": "code",
            "execution_count": 75,
            "source": [
                "#sort dataframe based on candidateId\r\n",
                "test.sort_values(by ='CandidateID', inplace =True)\r\n",
                "\r\n",
                "#reset index\r\n",
                "test.reset_index(inplace=True)\r\n",
                "test.drop('index',axis=1,inplace=True)\r\n",
                "\r\n",
                "#print sorted test dataset\r\n",
                "test.head() "
            ],
            "outputs": [
                {
                    "output_type": "execute_result",
                    "data": {
                        "text/plain": [
                            "     CandidateID\n",
                            "0  candidate_004\n",
                            "1  candidate_005\n",
                            "2  candidate_014\n",
                            "3  candidate_016\n",
                            "4  candidate_017"
                        ],
                        "text/html": [
                            "<div>\n",
                            "<style scoped>\n",
                            "    .dataframe tbody tr th:only-of-type {\n",
                            "        vertical-align: middle;\n",
                            "    }\n",
                            "\n",
                            "    .dataframe tbody tr th {\n",
                            "        vertical-align: top;\n",
                            "    }\n",
                            "\n",
                            "    .dataframe thead th {\n",
                            "        text-align: right;\n",
                            "    }\n",
                            "</style>\n",
                            "<table border=\"1\" class=\"dataframe\">\n",
                            "  <thead>\n",
                            "    <tr style=\"text-align: right;\">\n",
                            "      <th></th>\n",
                            "      <th>CandidateID</th>\n",
                            "    </tr>\n",
                            "  </thead>\n",
                            "  <tbody>\n",
                            "    <tr>\n",
                            "      <th>0</th>\n",
                            "      <td>candidate_004</td>\n",
                            "    </tr>\n",
                            "    <tr>\n",
                            "      <th>1</th>\n",
                            "      <td>candidate_005</td>\n",
                            "    </tr>\n",
                            "    <tr>\n",
                            "      <th>2</th>\n",
                            "      <td>candidate_014</td>\n",
                            "    </tr>\n",
                            "    <tr>\n",
                            "      <th>3</th>\n",
                            "      <td>candidate_016</td>\n",
                            "    </tr>\n",
                            "    <tr>\n",
                            "      <th>4</th>\n",
                            "      <td>candidate_017</td>\n",
                            "    </tr>\n",
                            "  </tbody>\n",
                            "</table>\n",
                            "</div>"
                        ]
                    },
                    "metadata": {},
                    "execution_count": 75
                }
            ],
            "metadata": {}
        },
        {
            "cell_type": "markdown",
            "source": [
                "<h1 style='color: red; text-align: left; font-family: cursive;font-size: 20px;'>Challenge --> Cv's are in pdf format and but we need them in dataframe</h1>"
            ],
            "metadata": {}
        },
        {
            "cell_type": "markdown",
            "source": [
                "<h1 style='color: lightgreen; text-align: left; font-family: cursive;font-size: 20px;'>Solution --> Loop through Cv's read them by using pdf_reader function and add to dataframe</h1>"
            ],
            "metadata": {}
        },
        {
            "cell_type": "markdown",
            "source": [
                "<h1 style='color: rgb(77, 229, 240); text-align: left; font-family: cursive;font-size: 20px;'>2) Reading CV's</h1>"
            ],
            "metadata": {}
        },
        {
            "cell_type": "code",
            "execution_count": 89,
            "source": [
                "train[\"CV\"] = 0\r\n",
                "for i in range(90):\r\n",
                "    train[\"CV\"][i] = pdf_reader(\"dataset/trainResumes/\"+str(train[\"CandidateID\"][i])+\".pdf\")\r\n",
                "\r\n",
                "train.head(3)     "
            ],
            "outputs": [
                {
                    "output_type": "execute_result",
                    "data": {
                        "text/plain": [
                            "     CandidateID  Match Percentage  \\\n",
                            "0  candidate_000             13.70   \n",
                            "1  candidate_001             40.09   \n",
                            "2  candidate_002             48.91   \n",
                            "\n",
                            "                                                  CV  \n",
                            "0  [jacob smith, f r e s h e r, personal profile,...  \n",
                            "1  [brianna williams, j uni or  developer, work e...  \n",
                            "2  [mason quadrado, associate analyst, about, cer...  "
                        ],
                        "text/html": [
                            "<div>\n",
                            "<style scoped>\n",
                            "    .dataframe tbody tr th:only-of-type {\n",
                            "        vertical-align: middle;\n",
                            "    }\n",
                            "\n",
                            "    .dataframe tbody tr th {\n",
                            "        vertical-align: top;\n",
                            "    }\n",
                            "\n",
                            "    .dataframe thead th {\n",
                            "        text-align: right;\n",
                            "    }\n",
                            "</style>\n",
                            "<table border=\"1\" class=\"dataframe\">\n",
                            "  <thead>\n",
                            "    <tr style=\"text-align: right;\">\n",
                            "      <th></th>\n",
                            "      <th>CandidateID</th>\n",
                            "      <th>Match Percentage</th>\n",
                            "      <th>CV</th>\n",
                            "    </tr>\n",
                            "  </thead>\n",
                            "  <tbody>\n",
                            "    <tr>\n",
                            "      <th>0</th>\n",
                            "      <td>candidate_000</td>\n",
                            "      <td>13.70</td>\n",
                            "      <td>[jacob smith, f r e s h e r, personal profile,...</td>\n",
                            "    </tr>\n",
                            "    <tr>\n",
                            "      <th>1</th>\n",
                            "      <td>candidate_001</td>\n",
                            "      <td>40.09</td>\n",
                            "      <td>[brianna williams, j uni or  developer, work e...</td>\n",
                            "    </tr>\n",
                            "    <tr>\n",
                            "      <th>2</th>\n",
                            "      <td>candidate_002</td>\n",
                            "      <td>48.91</td>\n",
                            "      <td>[mason quadrado, associate analyst, about, cer...</td>\n",
                            "    </tr>\n",
                            "  </tbody>\n",
                            "</table>\n",
                            "</div>"
                        ]
                    },
                    "metadata": {},
                    "execution_count": 89
                }
            ],
            "metadata": {}
        },
        {
            "cell_type": "code",
            "execution_count": 90,
            "source": [
                "test[\"CV\"] = 0\r\n",
                "for i in range(60):\r\n",
                "    test[\"CV\"][i] = pdf_reader(\"dataset/testResumes/\"+str(test[\"CandidateID\"][i])+\".pdf\")\r\n",
                "\r\n",
                "test.head(3)    "
            ],
            "outputs": [
                {
                    "output_type": "execute_result",
                    "data": {
                        "text/plain": [
                            "     CandidateID                                                 CV\n",
                            "0  candidate_004  [olivia santos, consultant analyst, executive,...\n",
                            "1  candidate_005  [armin fitzgerald, d a   t   a     m   a   n  ...\n",
                            "2  candidate_014  [grace bailry, m a c h i n e   l e a r n i n g..."
                        ],
                        "text/html": [
                            "<div>\n",
                            "<style scoped>\n",
                            "    .dataframe tbody tr th:only-of-type {\n",
                            "        vertical-align: middle;\n",
                            "    }\n",
                            "\n",
                            "    .dataframe tbody tr th {\n",
                            "        vertical-align: top;\n",
                            "    }\n",
                            "\n",
                            "    .dataframe thead th {\n",
                            "        text-align: right;\n",
                            "    }\n",
                            "</style>\n",
                            "<table border=\"1\" class=\"dataframe\">\n",
                            "  <thead>\n",
                            "    <tr style=\"text-align: right;\">\n",
                            "      <th></th>\n",
                            "      <th>CandidateID</th>\n",
                            "      <th>CV</th>\n",
                            "    </tr>\n",
                            "  </thead>\n",
                            "  <tbody>\n",
                            "    <tr>\n",
                            "      <th>0</th>\n",
                            "      <td>candidate_004</td>\n",
                            "      <td>[olivia santos, consultant analyst, executive,...</td>\n",
                            "    </tr>\n",
                            "    <tr>\n",
                            "      <th>1</th>\n",
                            "      <td>candidate_005</td>\n",
                            "      <td>[armin fitzgerald, d a   t   a     m   a   n  ...</td>\n",
                            "    </tr>\n",
                            "    <tr>\n",
                            "      <th>2</th>\n",
                            "      <td>candidate_014</td>\n",
                            "      <td>[grace bailry, m a c h i n e   l e a r n i n g...</td>\n",
                            "    </tr>\n",
                            "  </tbody>\n",
                            "</table>\n",
                            "</div>"
                        ]
                    },
                    "metadata": {},
                    "execution_count": 90
                }
            ],
            "metadata": {}
        },
        {
            "cell_type": "markdown",
            "source": [
                "<h1 style='color: rgb(77, 229, 240); text-align: left; font-family: cursive;font-size: 20px;'>3) Reading Job Description</h1>"
            ],
            "metadata": {}
        },
        {
            "cell_type": "code",
            "execution_count": 88,
            "source": [
                "jd = pdf_reader(\"dataset/Job description.pdf\")\r\n",
                "jd[:5] #print first 5 lines"
            ],
            "outputs": [
                {
                    "output_type": "execute_result",
                    "data": {
                        "text/plain": [
                            "['machine learning engineering',\n",
                            " '13585abc',\n",
                            " 'knowledge and innovation',\n",
                            " 'what you’ll do',\n",
                            " 'you will focus on researching, building, and designing self-running artificial intelligence (ai)']"
                        ]
                    },
                    "metadata": {},
                    "execution_count": 88
                }
            ],
            "metadata": {}
        }
    ],
    "metadata": {
        "orig_nbformat": 4,
        "language_info": {
            "name": "python",
            "version": "3.9.2",
            "mimetype": "text/x-python",
            "codemirror_mode": {
                "name": "ipython",
                "version": 3
            },
            "pygments_lexer": "ipython3",
            "nbconvert_exporter": "python",
            "file_extension": ".py"
        },
        "kernelspec": {
            "name": "python3",
            "display_name": "Python 3.9.2 64-bit"
        },
        "interpreter": {
            "hash": "ac59ebe37160ed0dfa835113d9b8498d9f09ceb179beaac4002f036b9467c963"
        }
    },
    "nbformat": 4,
    "nbformat_minor": 2
}