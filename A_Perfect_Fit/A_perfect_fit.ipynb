{
    "cells": [
        {
            "cell_type": "markdown",
            "source": [
                "<h1 style='color: gold; text-align: center; font-family: cursive;font-size: 30px;'>Hire the perfect candidate</h1>"
            ],
            "metadata": {}
        },
        {
            "cell_type": "markdown",
            "source": [
                "<h1 style='color: rgb(77, 229, 240); text-align: left; font-family: cursive;font-size: 20px;'>A Perfect Fit : HackerEarth Machine Learning Challenge</h1>"
            ],
            "metadata": {}
        },
        {
            "cell_type": "markdown",
            "source": [
                "<h1 style='color: #8f7be9; text-align: left; font-family: cursive;font-size: 20px;'>                            <p>Hiring employees effectively is vital to the survival of any organization. The hiring process consists of soliciting potential candidates during the recruitment and then determining the best candidates to be employees during the selection process.</p>\r\n",
                "\r\n",
                "<p>The selection process, in particular, enables organizations to build and maintain a productive and motivated workforce that will be the key to their success.&nbsp;</p>\r\n",
                "\r\n",
                "<p><strong>Task</strong></p>\r\n",
                "\r\n",
                "<p>You want to hire a Machine Learning engineer for your team. Your manager has provided a job description and&nbsp;resumes of various candidates. You are given the responsibility to filter the candidates that fit the most based on the provided job description for the first interview round.</p>\r\n",
                "\r\n",
                "<p>You are given a dataset that contains the resumes of various candidates. Your task is to determine the percentage that a candidate fits the job role based on the job description.</p>\r\n",
                "\r\n",
                "<p><strong>Data description</strong></p>\r\n",
                "\r\n",
                "<p>The <em>dataset</em> folder contains the following files:</p>\r\n",
                "\r\n",
                "<ul>\r\n",
                "\t<li><em>train.csv</em>: 90 x 2</li>\r\n",
                "\t<li><em>trainResumes</em>: 90 resumes that you must use for training your model</li>\r\n",
                "\t<li><em>test.csv</em>: 60 x 1</li>\r\n",
                "\t<li><em>testResumes</em>: 90 resumes that you must use for testing&nbsp;your model</li>\r\n",
                "\t<li><em>sample_submission.csv</em>: 5 x 2</li>\r\n",
                "\t<li><em>Job description.pdf</em>: PDF file that represents the job description of a Machine Learning engineer</li>\r\n",
                "</ul>\r\n",
                "\r\n",
                "<p>The dataset contains the following columns:</p>\r\n",
                "\r\n",
                "<table border=\"1\">\r\n",
                "\t<tbody>\r\n",
                "\t\t<tr>\r\n",
                "\t\t\t<td style=\"text-align:center\"><strong>Column name&nbsp;</strong></td>\r\n",
                "\t\t\t<td style=\"text-align:center\"><strong>Column description</strong></td>\r\n",
                "\t\t</tr>\r\n",
                "\t\t<tr>\r\n",
                "\t\t\t<td style=\"text-align:center\">CandidateID</td>\r\n",
                "\t\t\t<td>Represents the unique identification number of a candidate</td>\r\n",
                "\t\t</tr>\r\n",
                "\t\t<tr>\r\n",
                "\t\t\t<td style=\"text-align:center\">Match Percentage</td>\r\n",
                "\t\t\t<td>Represents the percentage that a candidate fits based on the job description</td>\r\n",
                "\t\t</tr>\r\n",
                "\t</tbody>\r\n",
                "</table>\r\n",
                "\r\n",
                "<p><strong>Evaluation metric</strong></p>\r\n",
                "\r\n",
                "<pre class=\"prettyprint\">\r\n",
                "<code>score = 100*max(0, 1 - metrics.mean_squared_log_error(actual, predicted))</code></pre>\r\n",
                "\r\n",
                "<p><strong>Result submission guidelines</strong></p>\r\n",
                "\r\n",
                "<ul>\r\n",
                "\t<li>The index&nbsp;is the&nbsp;<em>CandidateID</em><em><strong> </strong></em>column.&nbsp;</li>\r\n",
                "\t<li>The target&nbsp;is the <em>Match Percentage</em>&nbsp;column.&nbsp;</li>\r\n",
                "\t<li>The submission file must be submitted in <strong>.csv</strong> format only.</li>\r\n",
                "\t<li>The size of this submission file must be&nbsp;60 x 2.</li>\r\n",
                "</ul>\r\n",
                "\r\n",
                "<p><em>Notes</em>&nbsp;</p>\r\n",
                "\r\n",
                "<p>Ensure that your submission file contains the following:</p>\r\n",
                "\r\n",
                "<ul>\r\n",
                "\t<li>Correct index values as per the test file</li>\r\n",
                "\t<li>Correct names of&nbsp;columns as provided in the <em>sample_submission.csv</em> file</li>\r\n",
                "</ul></h1>"
            ],
            "metadata": {}
        },
        {
            "cell_type": "markdown",
            "source": [
                "<h1 style='color: rgb(77, 229, 240); text-align: left; font-family: cursive;font-size: 20px;'>Importing Liabrary...</h1>"
            ],
            "metadata": {}
        },
        {
            "cell_type": "code",
            "execution_count": 100,
            "source": [
                "# basic modules\r\n",
                "import numpy as np\r\n",
                "import pandas as pd\r\n",
                "\r\n",
                "# modules to read pdf files\r\n",
                "from io import StringIO\r\n",
                "from pdfminer.pdfinterp import PDFResourceManager, PDFPageInterpreter\r\n",
                "from pdfminer.converter import TextConverter\r\n",
                "from pdfminer.layout import LAParams\r\n",
                "from pdfminer.pdfpage import PDFPage\r\n",
                "\r\n",
                "# ignore warning\r\n",
                "import warnings \r\n",
                "warnings.simplefilter('ignore') \r\n",
                "\r\n",
                "# for visualization\r\n",
                "import seaborn as sns\r\n",
                "\r\n",
                "# moduels require for machine learning\r\n",
                "from sklearn.linear_model import LinearRegression\r\n",
                "from sklearn.tree import DecisionTreeRegressor\r\n",
                "from sklearn.ensemble import RandomForestRegressor\r\n",
                "from sklearn.svm import SVR\r\n",
                "from sklearn.ensemble import GradientBoostingRegressor\r\n",
                "\r\n",
                "# for evaluation of model\r\n",
                "from sklearn.metrics import mean_squared_log_error\r\n",
                "from sklearn.metrics import mean_squared_error"
            ],
            "outputs": [],
            "metadata": {}
        },
        {
            "cell_type": "markdown",
            "source": [
                "<h1 style='color: red; text-align: left; font-family: cursive;font-size: 20px;'>Major challenge --> How to read data from pdf file becuase pandas don't support pdf files</h1>"
            ],
            "metadata": {}
        },
        {
            "cell_type": "markdown",
            "source": [
                "<h1 style='color: lightgreen; text-align: left; font-family: cursive;font-size: 20px;'>Solution --> pdf_reader function</h1>"
            ],
            "metadata": {}
        },
        {
            "cell_type": "markdown",
            "source": [
                "<h1 style='color: rgb(77, 229, 240); text-align: left; font-family: cursive;font-size: 20px;'>Function to read 'one page' of pdf file</h1>"
            ],
            "metadata": {}
        },
        {
            "cell_type": "code",
            "execution_count": 2,
            "source": [
                "'''\r\n",
                "### Read in PDF complicated text using Pdfminer\r\n",
                "'''      \r\n",
                "\r\n",
                "\r\n",
                "def pdf_text_reader(pdf_file_name, pages=None):\r\n",
                "    if pages:\r\n",
                "        pagenums = set(pages)\r\n",
                "    else:\r\n",
                "        pagenums = set()\r\n",
                "\r\n",
                "    ## 1) Initiate the Pdf text converter and interpreter\r\n",
                "    textOutput = StringIO()\r\n",
                "    manager = PDFResourceManager()\r\n",
                "    converter = TextConverter(manager, textOutput, laparams=LAParams())\r\n",
                "    interpreter = PDFPageInterpreter(manager, converter)\r\n",
                "\r\n",
                "    ## 2) Extract text from file using the interpreter\r\n",
                "    infile = open(pdf_file_name, 'rb')\r\n",
                "    for page in PDFPage.get_pages(infile, pagenums):\r\n",
                "        interpreter.process_page(page)        \r\n",
                "    infile.close()\r\n",
                "    \r\n",
                "    ## 3) Extract the paragraphs and close the connections\r\n",
                "    paras = textOutput.getvalue()   \r\n",
                "    converter.close()\r\n",
                "    textOutput.close\r\n",
                "    \r\n",
                "    return paras\r\n"
            ],
            "outputs": [],
            "metadata": {}
        },
        {
            "cell_type": "markdown",
            "source": [
                "<h1 style='color: rgb(77, 229, 240); text-align: left; font-family: cursive;font-size: 20px;'>Function to read 'whole' pdf file</h1>"
            ],
            "metadata": {}
        },
        {
            "cell_type": "code",
            "execution_count": 3,
            "source": [
                "def pdf_reader(file_name):\r\n",
                "\r\n",
                "    file = pdf_text_reader(file_name, pages=[0]) #start from page no 0\r\n",
                "    page_no=1\r\n",
                "    while True:\r\n",
                "      another_page = pdf_text_reader(file_name, pages=[page_no])\r\n",
                "\r\n",
                "      if(len(another_page)==0): #add pages untill pages ends\r\n",
                "            break \r\n",
                "      file = file+another_page\r\n",
                "      page_no+=1\r\n",
                "    #converting text to lower case \r\n",
                "    #file = [i.lower() for i in file.split('\\n') if i] #splliting context of file for better handling \r\n",
                "    return file #it returns list containing lines of pdf pages as strings"
            ],
            "outputs": [],
            "metadata": {}
        },
        {
            "cell_type": "markdown",
            "source": [
                "<h1 style='color: rgb(77, 229, 240); text-align: left; font-family: cursive;font-size: 20px;'>Loading Data...</h1>"
            ],
            "metadata": {}
        },
        {
            "cell_type": "markdown",
            "source": [
                "<h1 style='color: rgb(77, 229, 240); text-align: left; font-family: cursive;font-size: 20px;'>1) Reading training and testing data</h1>"
            ],
            "metadata": {}
        },
        {
            "cell_type": "code",
            "execution_count": 4,
            "source": [
                "#training data\r\n",
                "train = pd.read_csv('dataset/train.csv')\r\n",
                "print(\"Train Data :\") \r\n",
                "train.head(3) #printing first 3 entries\r\n"
            ],
            "outputs": [
                {
                    "output_type": "stream",
                    "name": "stdout",
                    "text": [
                        "Train Data :\n"
                    ]
                },
                {
                    "output_type": "execute_result",
                    "data": {
                        "text/plain": [
                            "     CandidateID  Match Percentage\n",
                            "0  candidate_011             13.60\n",
                            "1  candidate_113             36.63\n",
                            "2  candidate_123             54.93"
                        ],
                        "text/html": [
                            "<div>\n",
                            "<style scoped>\n",
                            "    .dataframe tbody tr th:only-of-type {\n",
                            "        vertical-align: middle;\n",
                            "    }\n",
                            "\n",
                            "    .dataframe tbody tr th {\n",
                            "        vertical-align: top;\n",
                            "    }\n",
                            "\n",
                            "    .dataframe thead th {\n",
                            "        text-align: right;\n",
                            "    }\n",
                            "</style>\n",
                            "<table border=\"1\" class=\"dataframe\">\n",
                            "  <thead>\n",
                            "    <tr style=\"text-align: right;\">\n",
                            "      <th></th>\n",
                            "      <th>CandidateID</th>\n",
                            "      <th>Match Percentage</th>\n",
                            "    </tr>\n",
                            "  </thead>\n",
                            "  <tbody>\n",
                            "    <tr>\n",
                            "      <th>0</th>\n",
                            "      <td>candidate_011</td>\n",
                            "      <td>13.60</td>\n",
                            "    </tr>\n",
                            "    <tr>\n",
                            "      <th>1</th>\n",
                            "      <td>candidate_113</td>\n",
                            "      <td>36.63</td>\n",
                            "    </tr>\n",
                            "    <tr>\n",
                            "      <th>2</th>\n",
                            "      <td>candidate_123</td>\n",
                            "      <td>54.93</td>\n",
                            "    </tr>\n",
                            "  </tbody>\n",
                            "</table>\n",
                            "</div>"
                        ]
                    },
                    "metadata": {},
                    "execution_count": 4
                }
            ],
            "metadata": {}
        },
        {
            "cell_type": "code",
            "execution_count": 5,
            "source": [
                "#testing data \r\n",
                "test = pd.read_csv('dataset/test.csv')  \r\n",
                "print(\"Test Data :\") \r\n",
                "test.head(3) #printing first 3 entries "
            ],
            "outputs": [
                {
                    "output_type": "stream",
                    "name": "stdout",
                    "text": [
                        "Test Data :\n"
                    ]
                },
                {
                    "output_type": "execute_result",
                    "data": {
                        "text/plain": [
                            "     CandidateID\n",
                            "0  candidate_014\n",
                            "1  candidate_098\n",
                            "2  candidate_075"
                        ],
                        "text/html": [
                            "<div>\n",
                            "<style scoped>\n",
                            "    .dataframe tbody tr th:only-of-type {\n",
                            "        vertical-align: middle;\n",
                            "    }\n",
                            "\n",
                            "    .dataframe tbody tr th {\n",
                            "        vertical-align: top;\n",
                            "    }\n",
                            "\n",
                            "    .dataframe thead th {\n",
                            "        text-align: right;\n",
                            "    }\n",
                            "</style>\n",
                            "<table border=\"1\" class=\"dataframe\">\n",
                            "  <thead>\n",
                            "    <tr style=\"text-align: right;\">\n",
                            "      <th></th>\n",
                            "      <th>CandidateID</th>\n",
                            "    </tr>\n",
                            "  </thead>\n",
                            "  <tbody>\n",
                            "    <tr>\n",
                            "      <th>0</th>\n",
                            "      <td>candidate_014</td>\n",
                            "    </tr>\n",
                            "    <tr>\n",
                            "      <th>1</th>\n",
                            "      <td>candidate_098</td>\n",
                            "    </tr>\n",
                            "    <tr>\n",
                            "      <th>2</th>\n",
                            "      <td>candidate_075</td>\n",
                            "    </tr>\n",
                            "  </tbody>\n",
                            "</table>\n",
                            "</div>"
                        ]
                    },
                    "metadata": {},
                    "execution_count": 5
                }
            ],
            "metadata": {}
        },
        {
            "cell_type": "markdown",
            "source": [
                "<h1 style='color: rgb(77, 229, 240); text-align: left; font-family: cursive;font-size: 20px;'>Check if any missing entry</h1>"
            ],
            "metadata": {}
        },
        {
            "cell_type": "code",
            "execution_count": 6,
            "source": [
                "train.isnull().sum() "
            ],
            "outputs": [
                {
                    "output_type": "execute_result",
                    "data": {
                        "text/plain": [
                            "CandidateID         0\n",
                            "Match Percentage    0\n",
                            "dtype: int64"
                        ]
                    },
                    "metadata": {},
                    "execution_count": 6
                }
            ],
            "metadata": {}
        },
        {
            "cell_type": "code",
            "execution_count": 7,
            "source": [
                "test.isnull().sum() "
            ],
            "outputs": [
                {
                    "output_type": "execute_result",
                    "data": {
                        "text/plain": [
                            "CandidateID    0\n",
                            "dtype: int64"
                        ]
                    },
                    "metadata": {},
                    "execution_count": 7
                }
            ],
            "metadata": {}
        },
        {
            "cell_type": "markdown",
            "source": [
                "<h1 style='color: rgb(77, 229, 240); text-align: left; font-family: cursive;font-size: 15px;'>Observation --> hence there is no missing values in train and test dataset and also from train and test folder it is confirm that it contains all 90 and 60 resumes respectively</h1>"
            ],
            "metadata": {}
        },
        {
            "cell_type": "markdown",
            "source": [
                "<h1 style='color: red; text-align: left; font-family: cursive;font-size: 20px;'>Challenge --> CandidateId's are shuffled so we can't use them directly</h1>"
            ],
            "metadata": {}
        },
        {
            "cell_type": "markdown",
            "source": [
                "<h1 style='color: lightgreen; text-align: left; font-family: cursive;font-size: 20px;'>Solution --> we will sort dataframe based on candidateID's </h1>"
            ],
            "metadata": {}
        },
        {
            "cell_type": "code",
            "execution_count": 8,
            "source": [
                "#sort dataframe based on candidateId\r\n",
                "train.sort_values(by ='CandidateID', inplace =True)\r\n",
                "\r\n",
                "#reset index\r\n",
                "train.reset_index(inplace=True)\r\n",
                "train.drop('index',axis=1,inplace=True)\r\n",
                "\r\n",
                "#print sorted train dataset\r\n",
                "train.head() "
            ],
            "outputs": [
                {
                    "output_type": "execute_result",
                    "data": {
                        "text/plain": [
                            "     CandidateID  Match Percentage\n",
                            "0  candidate_000             13.70\n",
                            "1  candidate_001             40.09\n",
                            "2  candidate_002             48.91\n",
                            "3  candidate_003             36.89\n",
                            "4  candidate_006             44.96"
                        ],
                        "text/html": [
                            "<div>\n",
                            "<style scoped>\n",
                            "    .dataframe tbody tr th:only-of-type {\n",
                            "        vertical-align: middle;\n",
                            "    }\n",
                            "\n",
                            "    .dataframe tbody tr th {\n",
                            "        vertical-align: top;\n",
                            "    }\n",
                            "\n",
                            "    .dataframe thead th {\n",
                            "        text-align: right;\n",
                            "    }\n",
                            "</style>\n",
                            "<table border=\"1\" class=\"dataframe\">\n",
                            "  <thead>\n",
                            "    <tr style=\"text-align: right;\">\n",
                            "      <th></th>\n",
                            "      <th>CandidateID</th>\n",
                            "      <th>Match Percentage</th>\n",
                            "    </tr>\n",
                            "  </thead>\n",
                            "  <tbody>\n",
                            "    <tr>\n",
                            "      <th>0</th>\n",
                            "      <td>candidate_000</td>\n",
                            "      <td>13.70</td>\n",
                            "    </tr>\n",
                            "    <tr>\n",
                            "      <th>1</th>\n",
                            "      <td>candidate_001</td>\n",
                            "      <td>40.09</td>\n",
                            "    </tr>\n",
                            "    <tr>\n",
                            "      <th>2</th>\n",
                            "      <td>candidate_002</td>\n",
                            "      <td>48.91</td>\n",
                            "    </tr>\n",
                            "    <tr>\n",
                            "      <th>3</th>\n",
                            "      <td>candidate_003</td>\n",
                            "      <td>36.89</td>\n",
                            "    </tr>\n",
                            "    <tr>\n",
                            "      <th>4</th>\n",
                            "      <td>candidate_006</td>\n",
                            "      <td>44.96</td>\n",
                            "    </tr>\n",
                            "  </tbody>\n",
                            "</table>\n",
                            "</div>"
                        ]
                    },
                    "metadata": {},
                    "execution_count": 8
                }
            ],
            "metadata": {}
        },
        {
            "cell_type": "code",
            "execution_count": 9,
            "source": [
                "#sort dataframe based on candidateId\r\n",
                "test.sort_values(by ='CandidateID', inplace =True)\r\n",
                "\r\n",
                "#reset index\r\n",
                "test.reset_index(inplace=True)\r\n",
                "test.drop('index',axis=1,inplace=True)\r\n",
                "\r\n",
                "#print sorted test dataset\r\n",
                "test.head() "
            ],
            "outputs": [
                {
                    "output_type": "execute_result",
                    "data": {
                        "text/plain": [
                            "     CandidateID\n",
                            "0  candidate_004\n",
                            "1  candidate_005\n",
                            "2  candidate_014\n",
                            "3  candidate_016\n",
                            "4  candidate_017"
                        ],
                        "text/html": [
                            "<div>\n",
                            "<style scoped>\n",
                            "    .dataframe tbody tr th:only-of-type {\n",
                            "        vertical-align: middle;\n",
                            "    }\n",
                            "\n",
                            "    .dataframe tbody tr th {\n",
                            "        vertical-align: top;\n",
                            "    }\n",
                            "\n",
                            "    .dataframe thead th {\n",
                            "        text-align: right;\n",
                            "    }\n",
                            "</style>\n",
                            "<table border=\"1\" class=\"dataframe\">\n",
                            "  <thead>\n",
                            "    <tr style=\"text-align: right;\">\n",
                            "      <th></th>\n",
                            "      <th>CandidateID</th>\n",
                            "    </tr>\n",
                            "  </thead>\n",
                            "  <tbody>\n",
                            "    <tr>\n",
                            "      <th>0</th>\n",
                            "      <td>candidate_004</td>\n",
                            "    </tr>\n",
                            "    <tr>\n",
                            "      <th>1</th>\n",
                            "      <td>candidate_005</td>\n",
                            "    </tr>\n",
                            "    <tr>\n",
                            "      <th>2</th>\n",
                            "      <td>candidate_014</td>\n",
                            "    </tr>\n",
                            "    <tr>\n",
                            "      <th>3</th>\n",
                            "      <td>candidate_016</td>\n",
                            "    </tr>\n",
                            "    <tr>\n",
                            "      <th>4</th>\n",
                            "      <td>candidate_017</td>\n",
                            "    </tr>\n",
                            "  </tbody>\n",
                            "</table>\n",
                            "</div>"
                        ]
                    },
                    "metadata": {},
                    "execution_count": 9
                }
            ],
            "metadata": {}
        },
        {
            "cell_type": "markdown",
            "source": [
                "<h1 style='color: red; text-align: left; font-family: cursive;font-size: 20px;'>Challenge --> Cv's are in pdf format and but we need them in dataframe</h1>"
            ],
            "metadata": {}
        },
        {
            "cell_type": "markdown",
            "source": [
                "<h1 style='color: lightgreen; text-align: left; font-family: cursive;font-size: 20px;'>Solution --> Loop through Cv's read them by using pdf_reader function and add to dataframe</h1>"
            ],
            "metadata": {}
        },
        {
            "cell_type": "markdown",
            "source": [
                "<h1 style='color: rgb(77, 229, 240); text-align: left; font-family: cursive;font-size: 20px;'>2) Reading CV's</h1>"
            ],
            "metadata": {}
        },
        {
            "cell_type": "code",
            "execution_count": 10,
            "source": [
                "train[\"CV\"] = 0\r\n",
                "for i in range(90):\r\n",
                "    train[\"CV\"][i] = pdf_reader(\"dataset/trainResumes/\"+str(train[\"CandidateID\"][i])+\".pdf\")\r\n",
                "\r\n",
                "train.head(3)     "
            ],
            "outputs": [
                {
                    "output_type": "execute_result",
                    "data": {
                        "text/plain": [
                            "     CandidateID  Match Percentage  \\\n",
                            "0  candidate_000             13.70   \n",
                            "1  candidate_001             40.09   \n",
                            "2  candidate_002             48.91   \n",
                            "\n",
                            "                                                  CV  \n",
                            "0  JACOB SMITH\\n\\nF R E S H E R\\n\\nPERSONAL PROFI...  \n",
                            "1  Brianna Williams\\n\\nJ UNI OR  DEVELOPER\\n\\nWor...  \n",
                            "2  MASON QUADRADO\\n\\nASSOCIATE ANALYST\\n\\nABOUT\\n...  "
                        ],
                        "text/html": [
                            "<div>\n",
                            "<style scoped>\n",
                            "    .dataframe tbody tr th:only-of-type {\n",
                            "        vertical-align: middle;\n",
                            "    }\n",
                            "\n",
                            "    .dataframe tbody tr th {\n",
                            "        vertical-align: top;\n",
                            "    }\n",
                            "\n",
                            "    .dataframe thead th {\n",
                            "        text-align: right;\n",
                            "    }\n",
                            "</style>\n",
                            "<table border=\"1\" class=\"dataframe\">\n",
                            "  <thead>\n",
                            "    <tr style=\"text-align: right;\">\n",
                            "      <th></th>\n",
                            "      <th>CandidateID</th>\n",
                            "      <th>Match Percentage</th>\n",
                            "      <th>CV</th>\n",
                            "    </tr>\n",
                            "  </thead>\n",
                            "  <tbody>\n",
                            "    <tr>\n",
                            "      <th>0</th>\n",
                            "      <td>candidate_000</td>\n",
                            "      <td>13.70</td>\n",
                            "      <td>JACOB SMITH\\n\\nF R E S H E R\\n\\nPERSONAL PROFI...</td>\n",
                            "    </tr>\n",
                            "    <tr>\n",
                            "      <th>1</th>\n",
                            "      <td>candidate_001</td>\n",
                            "      <td>40.09</td>\n",
                            "      <td>Brianna Williams\\n\\nJ UNI OR  DEVELOPER\\n\\nWor...</td>\n",
                            "    </tr>\n",
                            "    <tr>\n",
                            "      <th>2</th>\n",
                            "      <td>candidate_002</td>\n",
                            "      <td>48.91</td>\n",
                            "      <td>MASON QUADRADO\\n\\nASSOCIATE ANALYST\\n\\nABOUT\\n...</td>\n",
                            "    </tr>\n",
                            "  </tbody>\n",
                            "</table>\n",
                            "</div>"
                        ]
                    },
                    "metadata": {},
                    "execution_count": 10
                }
            ],
            "metadata": {}
        },
        {
            "cell_type": "code",
            "execution_count": 11,
            "source": [
                "test[\"CV\"] = 0\r\n",
                "for i in range(60):\r\n",
                "    test[\"CV\"][i] = pdf_reader(\"dataset/testResumes/\"+str(test[\"CandidateID\"][i])+\".pdf\")\r\n",
                "\r\n",
                "test.head(3)    "
            ],
            "outputs": [
                {
                    "output_type": "execute_result",
                    "data": {
                        "text/plain": [
                            "     CandidateID                                                 CV\n",
                            "0  candidate_004  OLIVIA SANTOS\\n\\nCONSULTANT ANALYST\\n\\nEXECUTI...\n",
                            "1  candidate_005  ARMIN FITZGERALD\\n\\nD A   T   A     M   A   N ...\n",
                            "2  candidate_014  GRACE BAILRY\\n\\nM A C H I N E   L E A R N I N ..."
                        ],
                        "text/html": [
                            "<div>\n",
                            "<style scoped>\n",
                            "    .dataframe tbody tr th:only-of-type {\n",
                            "        vertical-align: middle;\n",
                            "    }\n",
                            "\n",
                            "    .dataframe tbody tr th {\n",
                            "        vertical-align: top;\n",
                            "    }\n",
                            "\n",
                            "    .dataframe thead th {\n",
                            "        text-align: right;\n",
                            "    }\n",
                            "</style>\n",
                            "<table border=\"1\" class=\"dataframe\">\n",
                            "  <thead>\n",
                            "    <tr style=\"text-align: right;\">\n",
                            "      <th></th>\n",
                            "      <th>CandidateID</th>\n",
                            "      <th>CV</th>\n",
                            "    </tr>\n",
                            "  </thead>\n",
                            "  <tbody>\n",
                            "    <tr>\n",
                            "      <th>0</th>\n",
                            "      <td>candidate_004</td>\n",
                            "      <td>OLIVIA SANTOS\\n\\nCONSULTANT ANALYST\\n\\nEXECUTI...</td>\n",
                            "    </tr>\n",
                            "    <tr>\n",
                            "      <th>1</th>\n",
                            "      <td>candidate_005</td>\n",
                            "      <td>ARMIN FITZGERALD\\n\\nD A   T   A     M   A   N ...</td>\n",
                            "    </tr>\n",
                            "    <tr>\n",
                            "      <th>2</th>\n",
                            "      <td>candidate_014</td>\n",
                            "      <td>GRACE BAILRY\\n\\nM A C H I N E   L E A R N I N ...</td>\n",
                            "    </tr>\n",
                            "  </tbody>\n",
                            "</table>\n",
                            "</div>"
                        ]
                    },
                    "metadata": {},
                    "execution_count": 11
                }
            ],
            "metadata": {}
        },
        {
            "cell_type": "markdown",
            "source": [
                "<h1 style='color: rgb(77, 229, 240); text-align: left; font-family: cursive;font-size: 20px;'>3) Reading Job Description</h1>"
            ],
            "metadata": {}
        },
        {
            "cell_type": "code",
            "execution_count": 12,
            "source": [
                "jd = pdf_reader(\"dataset/Job description.pdf\")\r\n",
                "jd #print first 5 lines"
            ],
            "outputs": [
                {
                    "output_type": "execute_result",
                    "data": {
                        "text/plain": [
                            "\"Machine Learning Engineering\\n\\n13585ABC\\nKnowledge and Innovation\\n\\nWhat you’ll do\\n\\nYou will focus on researching, building, and designing self-running artificial intelligence (AI)\\nsystems to automate predictive models. You are responsible to design and create the AI\\nalgorithms capable of learning and making predictions that define machine learning (ML).\\n\\nExperience and qualifications\\n\\n● Bachelor's or Master's degree (mention the course as per requirement)\\n● 0-2 years of work experience providing analytics solutions in a commercial setting\\n\\nTechnical expertise\\nMust have\\n\\n● Machine Learning, Clustering, Logistic Regression, Classification\\n● Different libraries such as SciKit Learn, NumPy, Pandas, Matplotlib, Seaborn\\n● Deep learning frameworks such as Tensorflow, Keras, PyTorch and application of Neural\\n\\nNetworks and models. CNN, RNN, GANs\\n\\n● Familiar with Natural Language Processing and associated libraries like NLTK, SpaCy,\\n\\nBeautiful Soup\\n\\n● PySpark, Hadoop, and Big Data Pipelines\\n● Data science methodology from exploratory data analysis, feature engineering, model\\n\\nselection, deployment of the model at scale, and model evaluation\\n\\n● Deploying NLP architectures and Computer Vision Models in production\\n\\nConsidered as a plus\\n\\n● Transformers and other advance techniques in NLP\\n● Familiar with Computer Vision models and object detection, OCR, OpenCV\\n● Analytical Tools as it will reduce any medium for data transfers\\n\\n\\x0c● Web frameworks like Django and databases like MongoDB, NoSQL, GraphQL\\n● SQL, Firebase, AWS, Azure, Google Cloud Platform\\n\\nYour job type\\nFull time\\n\\n\\x0c\""
                        ]
                    },
                    "metadata": {},
                    "execution_count": 12
                }
            ],
            "metadata": {}
        },
        {
            "cell_type": "markdown",
            "source": [
                "<h1 style='color: gold; text-align: center; font-family: cursive;font-size: 25px;'>Approach NO - 01</h1>"
            ],
            "metadata": {}
        },
        {
            "cell_type": "markdown",
            "source": [
                "<h1 style='color: #8f7be9; text-align: left; font-family: cursive;font-size: 20px;'>\r\n",
                "1) We will \"manually\" find important keywords from jd which will improve efficeincy<br>\r\n",
                "2) Then we will do \"string matching\" and give score to that candidate<br>\r\n",
                "3) After that we will predict match percentage for candidate \"from score\"</h1>"
            ],
            "metadata": {}
        },
        {
            "cell_type": "markdown",
            "source": [
                "<h1 style='color: rgb(77, 229, 240); text-align: left; font-family: cursive;font-size: 20px;'>Remove spaces from string of resume to remove complexity from string matching</h1>"
            ],
            "metadata": {}
        },
        {
            "cell_type": "markdown",
            "source": [
                "<h1 style='color: rgb(77, 229, 240); text-align: left; font-family: cursive;font-size: 20px;'>make new train and test sets</h1>"
            ],
            "metadata": {}
        },
        {
            "cell_type": "code",
            "execution_count": 13,
            "source": [
                "# train1 for approach1\r\n",
                "train1=train \r\n",
                "train1.head()"
            ],
            "outputs": [
                {
                    "output_type": "execute_result",
                    "data": {
                        "text/plain": [
                            "     CandidateID  Match Percentage  \\\n",
                            "0  candidate_000             13.70   \n",
                            "1  candidate_001             40.09   \n",
                            "2  candidate_002             48.91   \n",
                            "3  candidate_003             36.89   \n",
                            "4  candidate_006             44.96   \n",
                            "\n",
                            "                                                  CV  \n",
                            "0  JACOB SMITH\\n\\nF R E S H E R\\n\\nPERSONAL PROFI...  \n",
                            "1  Brianna Williams\\n\\nJ UNI OR  DEVELOPER\\n\\nWor...  \n",
                            "2  MASON QUADRADO\\n\\nASSOCIATE ANALYST\\n\\nABOUT\\n...  \n",
                            "3  RODNEY MICHAELS\\n\\nA S S O C I A T E   S O F T...  \n",
                            "4  J\\nE\\nN\\nN\\nI\\nF\\nE\\nR\\n \\nA\\nR\\nM\\nS\\nT\\nR\\nO...  "
                        ],
                        "text/html": [
                            "<div>\n",
                            "<style scoped>\n",
                            "    .dataframe tbody tr th:only-of-type {\n",
                            "        vertical-align: middle;\n",
                            "    }\n",
                            "\n",
                            "    .dataframe tbody tr th {\n",
                            "        vertical-align: top;\n",
                            "    }\n",
                            "\n",
                            "    .dataframe thead th {\n",
                            "        text-align: right;\n",
                            "    }\n",
                            "</style>\n",
                            "<table border=\"1\" class=\"dataframe\">\n",
                            "  <thead>\n",
                            "    <tr style=\"text-align: right;\">\n",
                            "      <th></th>\n",
                            "      <th>CandidateID</th>\n",
                            "      <th>Match Percentage</th>\n",
                            "      <th>CV</th>\n",
                            "    </tr>\n",
                            "  </thead>\n",
                            "  <tbody>\n",
                            "    <tr>\n",
                            "      <th>0</th>\n",
                            "      <td>candidate_000</td>\n",
                            "      <td>13.70</td>\n",
                            "      <td>JACOB SMITH\\n\\nF R E S H E R\\n\\nPERSONAL PROFI...</td>\n",
                            "    </tr>\n",
                            "    <tr>\n",
                            "      <th>1</th>\n",
                            "      <td>candidate_001</td>\n",
                            "      <td>40.09</td>\n",
                            "      <td>Brianna Williams\\n\\nJ UNI OR  DEVELOPER\\n\\nWor...</td>\n",
                            "    </tr>\n",
                            "    <tr>\n",
                            "      <th>2</th>\n",
                            "      <td>candidate_002</td>\n",
                            "      <td>48.91</td>\n",
                            "      <td>MASON QUADRADO\\n\\nASSOCIATE ANALYST\\n\\nABOUT\\n...</td>\n",
                            "    </tr>\n",
                            "    <tr>\n",
                            "      <th>3</th>\n",
                            "      <td>candidate_003</td>\n",
                            "      <td>36.89</td>\n",
                            "      <td>RODNEY MICHAELS\\n\\nA S S O C I A T E   S O F T...</td>\n",
                            "    </tr>\n",
                            "    <tr>\n",
                            "      <th>4</th>\n",
                            "      <td>candidate_006</td>\n",
                            "      <td>44.96</td>\n",
                            "      <td>J\\nE\\nN\\nN\\nI\\nF\\nE\\nR\\n \\nA\\nR\\nM\\nS\\nT\\nR\\nO...</td>\n",
                            "    </tr>\n",
                            "  </tbody>\n",
                            "</table>\n",
                            "</div>"
                        ]
                    },
                    "metadata": {},
                    "execution_count": 13
                }
            ],
            "metadata": {}
        },
        {
            "cell_type": "code",
            "execution_count": 14,
            "source": [
                "# test1 for approach1\r\n",
                "test1=test \r\n",
                "test1.head()"
            ],
            "outputs": [
                {
                    "output_type": "execute_result",
                    "data": {
                        "text/plain": [
                            "     CandidateID                                                 CV\n",
                            "0  candidate_004  OLIVIA SANTOS\\n\\nCONSULTANT ANALYST\\n\\nEXECUTI...\n",
                            "1  candidate_005  ARMIN FITZGERALD\\n\\nD A   T   A     M   A   N ...\n",
                            "2  candidate_014  GRACE BAILRY\\n\\nM A C H I N E   L E A R N I N ...\n",
                            "3  candidate_016  AMELIA MARTIN\\n\\nDATA SCIENCE MAJOR\\n\\nWORK EX...\n",
                            "4  candidate_017  JONATHAN HILL\\n\\nJ U N I O R   M A C H I N E  ..."
                        ],
                        "text/html": [
                            "<div>\n",
                            "<style scoped>\n",
                            "    .dataframe tbody tr th:only-of-type {\n",
                            "        vertical-align: middle;\n",
                            "    }\n",
                            "\n",
                            "    .dataframe tbody tr th {\n",
                            "        vertical-align: top;\n",
                            "    }\n",
                            "\n",
                            "    .dataframe thead th {\n",
                            "        text-align: right;\n",
                            "    }\n",
                            "</style>\n",
                            "<table border=\"1\" class=\"dataframe\">\n",
                            "  <thead>\n",
                            "    <tr style=\"text-align: right;\">\n",
                            "      <th></th>\n",
                            "      <th>CandidateID</th>\n",
                            "      <th>CV</th>\n",
                            "    </tr>\n",
                            "  </thead>\n",
                            "  <tbody>\n",
                            "    <tr>\n",
                            "      <th>0</th>\n",
                            "      <td>candidate_004</td>\n",
                            "      <td>OLIVIA SANTOS\\n\\nCONSULTANT ANALYST\\n\\nEXECUTI...</td>\n",
                            "    </tr>\n",
                            "    <tr>\n",
                            "      <th>1</th>\n",
                            "      <td>candidate_005</td>\n",
                            "      <td>ARMIN FITZGERALD\\n\\nD A   T   A     M   A   N ...</td>\n",
                            "    </tr>\n",
                            "    <tr>\n",
                            "      <th>2</th>\n",
                            "      <td>candidate_014</td>\n",
                            "      <td>GRACE BAILRY\\n\\nM A C H I N E   L E A R N I N ...</td>\n",
                            "    </tr>\n",
                            "    <tr>\n",
                            "      <th>3</th>\n",
                            "      <td>candidate_016</td>\n",
                            "      <td>AMELIA MARTIN\\n\\nDATA SCIENCE MAJOR\\n\\nWORK EX...</td>\n",
                            "    </tr>\n",
                            "    <tr>\n",
                            "      <th>4</th>\n",
                            "      <td>candidate_017</td>\n",
                            "      <td>JONATHAN HILL\\n\\nJ U N I O R   M A C H I N E  ...</td>\n",
                            "    </tr>\n",
                            "  </tbody>\n",
                            "</table>\n",
                            "</div>"
                        ]
                    },
                    "metadata": {},
                    "execution_count": 14
                }
            ],
            "metadata": {}
        },
        {
            "cell_type": "code",
            "execution_count": 15,
            "source": [
                "#remove spaces \\n as well as convert it to lower case\r\n",
                "for i in range(90):\r\n",
                "    train1[\"CV\"][i]=train1[\"CV\"][i].replace(\" \",\"\")\r\n",
                "    train1[\"CV\"][i]=train1[\"CV\"][i].replace(\"\\n\",\"\")\r\n",
                "    train1[\"CV\"][i]=train1[\"CV\"][i].lower()\r\n",
                "\r\n",
                "train1.head()"
            ],
            "outputs": [
                {
                    "output_type": "execute_result",
                    "data": {
                        "text/plain": [
                            "     CandidateID  Match Percentage  \\\n",
                            "0  candidate_000             13.70   \n",
                            "1  candidate_001             40.09   \n",
                            "2  candidate_002             48.91   \n",
                            "3  candidate_003             36.89   \n",
                            "4  candidate_006             44.96   \n",
                            "\n",
                            "                                                  CV  \n",
                            "0  jacobsmithfresherpersonalprofileiamactivelysee...  \n",
                            "1  briannawilliamsjuniordeveloperworkexperiencekp...  \n",
                            "2  masonquadradoassociateanalystaboutcertifieddat...  \n",
                            "3  rodneymichaelsassociatesoftwareengineerskillsp...  \n",
                            "4  jenniferarmstrongprofilefreshercomputervisiona...  "
                        ],
                        "text/html": [
                            "<div>\n",
                            "<style scoped>\n",
                            "    .dataframe tbody tr th:only-of-type {\n",
                            "        vertical-align: middle;\n",
                            "    }\n",
                            "\n",
                            "    .dataframe tbody tr th {\n",
                            "        vertical-align: top;\n",
                            "    }\n",
                            "\n",
                            "    .dataframe thead th {\n",
                            "        text-align: right;\n",
                            "    }\n",
                            "</style>\n",
                            "<table border=\"1\" class=\"dataframe\">\n",
                            "  <thead>\n",
                            "    <tr style=\"text-align: right;\">\n",
                            "      <th></th>\n",
                            "      <th>CandidateID</th>\n",
                            "      <th>Match Percentage</th>\n",
                            "      <th>CV</th>\n",
                            "    </tr>\n",
                            "  </thead>\n",
                            "  <tbody>\n",
                            "    <tr>\n",
                            "      <th>0</th>\n",
                            "      <td>candidate_000</td>\n",
                            "      <td>13.70</td>\n",
                            "      <td>jacobsmithfresherpersonalprofileiamactivelysee...</td>\n",
                            "    </tr>\n",
                            "    <tr>\n",
                            "      <th>1</th>\n",
                            "      <td>candidate_001</td>\n",
                            "      <td>40.09</td>\n",
                            "      <td>briannawilliamsjuniordeveloperworkexperiencekp...</td>\n",
                            "    </tr>\n",
                            "    <tr>\n",
                            "      <th>2</th>\n",
                            "      <td>candidate_002</td>\n",
                            "      <td>48.91</td>\n",
                            "      <td>masonquadradoassociateanalystaboutcertifieddat...</td>\n",
                            "    </tr>\n",
                            "    <tr>\n",
                            "      <th>3</th>\n",
                            "      <td>candidate_003</td>\n",
                            "      <td>36.89</td>\n",
                            "      <td>rodneymichaelsassociatesoftwareengineerskillsp...</td>\n",
                            "    </tr>\n",
                            "    <tr>\n",
                            "      <th>4</th>\n",
                            "      <td>candidate_006</td>\n",
                            "      <td>44.96</td>\n",
                            "      <td>jenniferarmstrongprofilefreshercomputervisiona...</td>\n",
                            "    </tr>\n",
                            "  </tbody>\n",
                            "</table>\n",
                            "</div>"
                        ]
                    },
                    "metadata": {},
                    "execution_count": 15
                }
            ],
            "metadata": {}
        },
        {
            "cell_type": "code",
            "execution_count": 16,
            "source": [
                "#remove spaces \\n as well as convert it to lower case\r\n",
                "for i in range(60):\r\n",
                "    test1[\"CV\"][i]=test1[\"CV\"][i].replace(\" \",\"\")\r\n",
                "    test1[\"CV\"][i]=test1[\"CV\"][i].replace(\"\\n\",\"\")\r\n",
                "    test1[\"CV\"][i]=test1[\"CV\"][i].lower()\r\n",
                "\r\n",
                "test1.head()"
            ],
            "outputs": [
                {
                    "output_type": "execute_result",
                    "data": {
                        "text/plain": [
                            "     CandidateID                                                 CV\n",
                            "0  candidate_004  oliviasantosconsultantanalystexecutivesummaryd...\n",
                            "1  candidate_005  arminfitzgeralddatamanagerprofessionalprofilee...\n",
                            "2  candidate_014  gracebailrymachinelearningdevelopmentanddeploy...\n",
                            "3  candidate_016  ameliamartindatasciencemajorworkexperiencenaac...\n",
                            "4  candidate_017  jonathanhilljuniormachinelearningengineerskill..."
                        ],
                        "text/html": [
                            "<div>\n",
                            "<style scoped>\n",
                            "    .dataframe tbody tr th:only-of-type {\n",
                            "        vertical-align: middle;\n",
                            "    }\n",
                            "\n",
                            "    .dataframe tbody tr th {\n",
                            "        vertical-align: top;\n",
                            "    }\n",
                            "\n",
                            "    .dataframe thead th {\n",
                            "        text-align: right;\n",
                            "    }\n",
                            "</style>\n",
                            "<table border=\"1\" class=\"dataframe\">\n",
                            "  <thead>\n",
                            "    <tr style=\"text-align: right;\">\n",
                            "      <th></th>\n",
                            "      <th>CandidateID</th>\n",
                            "      <th>CV</th>\n",
                            "    </tr>\n",
                            "  </thead>\n",
                            "  <tbody>\n",
                            "    <tr>\n",
                            "      <th>0</th>\n",
                            "      <td>candidate_004</td>\n",
                            "      <td>oliviasantosconsultantanalystexecutivesummaryd...</td>\n",
                            "    </tr>\n",
                            "    <tr>\n",
                            "      <th>1</th>\n",
                            "      <td>candidate_005</td>\n",
                            "      <td>arminfitzgeralddatamanagerprofessionalprofilee...</td>\n",
                            "    </tr>\n",
                            "    <tr>\n",
                            "      <th>2</th>\n",
                            "      <td>candidate_014</td>\n",
                            "      <td>gracebailrymachinelearningdevelopmentanddeploy...</td>\n",
                            "    </tr>\n",
                            "    <tr>\n",
                            "      <th>3</th>\n",
                            "      <td>candidate_016</td>\n",
                            "      <td>ameliamartindatasciencemajorworkexperiencenaac...</td>\n",
                            "    </tr>\n",
                            "    <tr>\n",
                            "      <th>4</th>\n",
                            "      <td>candidate_017</td>\n",
                            "      <td>jonathanhilljuniormachinelearningengineerskill...</td>\n",
                            "    </tr>\n",
                            "  </tbody>\n",
                            "</table>\n",
                            "</div>"
                        ]
                    },
                    "metadata": {},
                    "execution_count": 16
                }
            ],
            "metadata": {}
        },
        {
            "cell_type": "markdown",
            "source": [
                "<h1 style='color: rgb(77, 229, 240); text-align: left; font-family: cursive;font-size: 20px;'>Let's make list of keywords</h1>"
            ],
            "metadata": {}
        },
        {
            "cell_type": "code",
            "execution_count": 107,
            "source": [
                "keywords = [\"machinelearning\",\"ml\",\"artificialintelligence\",\"ai\",\"predict\",\"model\",\"algorithm\",\"bachelor\",\"master\",\"degree\",\"year\",\"experience\",\"analy\",\"solution\",\"cluster\",\"regression\",\"classification\",\"librar\",\"sklearn\",\"scikit\",\"numpy\",\"pandas\",\"matplot\",\"seaborn\",\"deeplearn\",\"framework\",\"tensorflow\",\"keras\",\"pytorch\",\"neuralnetwork\",\"cnn\",\"rnn\",\"gans\",\"naturallanguageprocessing\",\"nlp\",\"nltk\",\"spacy\",\"beutifulsoup\",\"pyspark\",\"hadoop\",\"bigdata\",\"datascience\",\"data\",\"featureengineering\",\"model\",\"evaluation\",\"computervision\",\"transformer\",\"advance\",\"technique\",\"objectdetection\",\"ocr\",\"opencv\",\"django\",\"database\",\"mangodb\",\"sql\",\"graphql\",\"firebase\",\"aws\",\"azure\",\"googlecloud\",\"project\",\"work\",\"c++\",\"java\",\"python\",\"r\",\"develop\",\"imageproce\",\"tableau\",\"tech\",\"medal\",\"award\",\"matlab\"]"
            ],
            "outputs": [],
            "metadata": {}
        },
        {
            "cell_type": "code",
            "execution_count": 18,
            "source": [
                "len(keywords) "
            ],
            "outputs": [
                {
                    "output_type": "execute_result",
                    "data": {
                        "text/plain": [
                            "75"
                        ]
                    },
                    "metadata": {},
                    "execution_count": 18
                }
            ],
            "metadata": {}
        },
        {
            "cell_type": "markdown",
            "source": [
                "<h1 style='color: rgb(77, 229, 240); text-align: left; font-family: cursive;font-size: 20px;'>Check for keywords and allocate score</h1>"
            ],
            "metadata": {}
        },
        {
            "cell_type": "code",
            "execution_count": 108,
            "source": [
                "train1[\"score\"]=0\r\n",
                "for i in range(90):\r\n",
                "    s=0\r\n",
                "    for k in keywords:\r\n",
                "        if k in train1[\"CV\"][i]:\r\n",
                "            s+=1\r\n",
                "\r\n",
                "    train1[\"score\"][i]=s\r\n",
                "\r\n",
                "train1.head()"
            ],
            "outputs": [
                {
                    "output_type": "execute_result",
                    "data": {
                        "text/plain": [
                            "     CandidateID  Match Percentage  \\\n",
                            "0  candidate_000             13.70   \n",
                            "1  candidate_001             40.09   \n",
                            "2  candidate_002             48.91   \n",
                            "3  candidate_003             36.89   \n",
                            "4  candidate_006             44.96   \n",
                            "\n",
                            "                                                  CV  score  \n",
                            "0  jacobsmithfresherpersonalprofileiamactivelysee...     19  \n",
                            "1  briannawilliamsjuniordeveloperworkexperiencekp...     21  \n",
                            "2  masonquadradoassociateanalystaboutcertifieddat...     21  \n",
                            "3  rodneymichaelsassociatesoftwareengineerskillsp...     20  \n",
                            "4  jenniferarmstrongprofilefreshercomputervisiona...     14  "
                        ],
                        "text/html": [
                            "<div>\n",
                            "<style scoped>\n",
                            "    .dataframe tbody tr th:only-of-type {\n",
                            "        vertical-align: middle;\n",
                            "    }\n",
                            "\n",
                            "    .dataframe tbody tr th {\n",
                            "        vertical-align: top;\n",
                            "    }\n",
                            "\n",
                            "    .dataframe thead th {\n",
                            "        text-align: right;\n",
                            "    }\n",
                            "</style>\n",
                            "<table border=\"1\" class=\"dataframe\">\n",
                            "  <thead>\n",
                            "    <tr style=\"text-align: right;\">\n",
                            "      <th></th>\n",
                            "      <th>CandidateID</th>\n",
                            "      <th>Match Percentage</th>\n",
                            "      <th>CV</th>\n",
                            "      <th>score</th>\n",
                            "    </tr>\n",
                            "  </thead>\n",
                            "  <tbody>\n",
                            "    <tr>\n",
                            "      <th>0</th>\n",
                            "      <td>candidate_000</td>\n",
                            "      <td>13.70</td>\n",
                            "      <td>jacobsmithfresherpersonalprofileiamactivelysee...</td>\n",
                            "      <td>19</td>\n",
                            "    </tr>\n",
                            "    <tr>\n",
                            "      <th>1</th>\n",
                            "      <td>candidate_001</td>\n",
                            "      <td>40.09</td>\n",
                            "      <td>briannawilliamsjuniordeveloperworkexperiencekp...</td>\n",
                            "      <td>21</td>\n",
                            "    </tr>\n",
                            "    <tr>\n",
                            "      <th>2</th>\n",
                            "      <td>candidate_002</td>\n",
                            "      <td>48.91</td>\n",
                            "      <td>masonquadradoassociateanalystaboutcertifieddat...</td>\n",
                            "      <td>21</td>\n",
                            "    </tr>\n",
                            "    <tr>\n",
                            "      <th>3</th>\n",
                            "      <td>candidate_003</td>\n",
                            "      <td>36.89</td>\n",
                            "      <td>rodneymichaelsassociatesoftwareengineerskillsp...</td>\n",
                            "      <td>20</td>\n",
                            "    </tr>\n",
                            "    <tr>\n",
                            "      <th>4</th>\n",
                            "      <td>candidate_006</td>\n",
                            "      <td>44.96</td>\n",
                            "      <td>jenniferarmstrongprofilefreshercomputervisiona...</td>\n",
                            "      <td>14</td>\n",
                            "    </tr>\n",
                            "  </tbody>\n",
                            "</table>\n",
                            "</div>"
                        ]
                    },
                    "metadata": {},
                    "execution_count": 108
                }
            ],
            "metadata": {}
        },
        {
            "cell_type": "markdown",
            "source": [
                "<h1 style='color: rgb(77, 229, 240); text-align: left; font-family: cursive;font-size: 20px;'>heatmap to show corelation between score and match percentage</h1>"
            ],
            "metadata": {}
        },
        {
            "cell_type": "code",
            "execution_count": 109,
            "source": [
                "sns.heatmap(train1.corr(),annot=True) "
            ],
            "outputs": [
                {
                    "output_type": "execute_result",
                    "data": {
                        "text/plain": [
                            "<AxesSubplot:>"
                        ]
                    },
                    "metadata": {},
                    "execution_count": 109
                },
                {
                    "output_type": "display_data",
                    "data": {
                        "text/plain": [
                            "<Figure size 432x288 with 2 Axes>"
                        ],
                        "image/svg+xml": "<?xml version=\"1.0\" encoding=\"utf-8\" standalone=\"no\"?>\r\n<!DOCTYPE svg PUBLIC \"-//W3C//DTD SVG 1.1//EN\"\r\n  \"http://www.w3.org/Graphics/SVG/1.1/DTD/svg11.dtd\">\r\n<svg height=\"252.317344pt\" version=\"1.1\" viewBox=\"0 0 349.43325 252.317344\" width=\"349.43325pt\" xmlns=\"http://www.w3.org/2000/svg\" xmlns:xlink=\"http://www.w3.org/1999/xlink\">\r\n <metadata>\r\n  <rdf:RDF xmlns:cc=\"http://creativecommons.org/ns#\" xmlns:dc=\"http://purl.org/dc/elements/1.1/\" xmlns:rdf=\"http://www.w3.org/1999/02/22-rdf-syntax-ns#\">\r\n   <cc:Work>\r\n    <dc:type rdf:resource=\"http://purl.org/dc/dcmitype/StillImage\"/>\r\n    <dc:date>2021-08-12T14:14:59.589213</dc:date>\r\n    <dc:format>image/svg+xml</dc:format>\r\n    <dc:creator>\r\n     <cc:Agent>\r\n      <dc:title>Matplotlib v3.4.2, https://matplotlib.org/</dc:title>\r\n     </cc:Agent>\r\n    </dc:creator>\r\n   </cc:Work>\r\n  </rdf:RDF>\r\n </metadata>\r\n <defs>\r\n  <style type=\"text/css\">*{stroke-linecap:butt;stroke-linejoin:round;}</style>\r\n </defs>\r\n <g id=\"figure_1\">\r\n  <g id=\"patch_1\">\r\n   <path d=\"M 0 252.317344 \r\nL 349.43325 252.317344 \r\nL 349.43325 0 \r\nL 0 0 \r\nz\r\n\" style=\"fill:none;\"/>\r\n  </g>\r\n  <g id=\"axes_1\">\r\n   <g id=\"patch_2\">\r\n    <path d=\"M 23.878125 228.439219 \r\nL 291.718125 228.439219 \r\nL 291.718125 10.999219 \r\nL 23.878125 10.999219 \r\nz\r\n\" style=\"fill:#ffffff;\"/>\r\n   </g>\r\n   <g id=\"QuadMesh_1\">\r\n    <path clip-path=\"url(#pfd91acbb68)\" d=\"M 23.878125 10.999219 \r\nL 157.798125 10.999219 \r\nL 157.798125 119.719219 \r\nL 23.878125 119.719219 \r\nL 23.878125 10.999219 \r\n\" style=\"fill:#faebdd;\"/>\r\n    <path clip-path=\"url(#pfd91acbb68)\" d=\"M 157.798125 10.999219 \r\nL 291.718125 10.999219 \r\nL 291.718125 119.719219 \r\nL 157.798125 119.719219 \r\nL 157.798125 10.999219 \r\n\" style=\"fill:#03051a;\"/>\r\n    <path clip-path=\"url(#pfd91acbb68)\" d=\"M 23.878125 119.719219 \r\nL 157.798125 119.719219 \r\nL 157.798125 228.439219 \r\nL 23.878125 228.439219 \r\nL 23.878125 119.719219 \r\n\" style=\"fill:#03051a;\"/>\r\n    <path clip-path=\"url(#pfd91acbb68)\" d=\"M 157.798125 119.719219 \r\nL 291.718125 119.719219 \r\nL 291.718125 228.439219 \r\nL 157.798125 228.439219 \r\nL 157.798125 119.719219 \r\n\" style=\"fill:#faebdd;\"/>\r\n   </g>\r\n   <g id=\"matplotlib.axis_1\">\r\n    <g id=\"xtick_1\">\r\n     <g id=\"line2d_1\">\r\n      <defs>\r\n       <path d=\"M 0 0 \r\nL 0 3.5 \r\n\" id=\"mf4cebb9baf\" style=\"stroke:#000000;stroke-width:0.8;\"/>\r\n      </defs>\r\n      <g>\r\n       <use style=\"stroke:#000000;stroke-width:0.8;\" x=\"90.838125\" xlink:href=\"#mf4cebb9baf\" y=\"228.439219\"/>\r\n      </g>\r\n     </g>\r\n     <g id=\"text_1\">\r\n      <!-- Match Percentage -->\r\n      <g transform=\"translate(45.870156 243.037656)scale(0.1 -0.1)\">\r\n       <defs>\r\n        <path d=\"M 628 4666 \r\nL 1569 4666 \r\nL 2759 1491 \r\nL 3956 4666 \r\nL 4897 4666 \r\nL 4897 0 \r\nL 4281 0 \r\nL 4281 4097 \r\nL 3078 897 \r\nL 2444 897 \r\nL 1241 4097 \r\nL 1241 0 \r\nL 628 0 \r\nL 628 4666 \r\nz\r\n\" id=\"DejaVuSans-4d\" transform=\"scale(0.015625)\"/>\r\n        <path d=\"M 2194 1759 \r\nQ 1497 1759 1228 1600 \r\nQ 959 1441 959 1056 \r\nQ 959 750 1161 570 \r\nQ 1363 391 1709 391 \r\nQ 2188 391 2477 730 \r\nQ 2766 1069 2766 1631 \r\nL 2766 1759 \r\nL 2194 1759 \r\nz\r\nM 3341 1997 \r\nL 3341 0 \r\nL 2766 0 \r\nL 2766 531 \r\nQ 2569 213 2275 61 \r\nQ 1981 -91 1556 -91 \r\nQ 1019 -91 701 211 \r\nQ 384 513 384 1019 \r\nQ 384 1609 779 1909 \r\nQ 1175 2209 1959 2209 \r\nL 2766 2209 \r\nL 2766 2266 \r\nQ 2766 2663 2505 2880 \r\nQ 2244 3097 1772 3097 \r\nQ 1472 3097 1187 3025 \r\nQ 903 2953 641 2809 \r\nL 641 3341 \r\nQ 956 3463 1253 3523 \r\nQ 1550 3584 1831 3584 \r\nQ 2591 3584 2966 3190 \r\nQ 3341 2797 3341 1997 \r\nz\r\n\" id=\"DejaVuSans-61\" transform=\"scale(0.015625)\"/>\r\n        <path d=\"M 1172 4494 \r\nL 1172 3500 \r\nL 2356 3500 \r\nL 2356 3053 \r\nL 1172 3053 \r\nL 1172 1153 \r\nQ 1172 725 1289 603 \r\nQ 1406 481 1766 481 \r\nL 2356 481 \r\nL 2356 0 \r\nL 1766 0 \r\nQ 1100 0 847 248 \r\nQ 594 497 594 1153 \r\nL 594 3053 \r\nL 172 3053 \r\nL 172 3500 \r\nL 594 3500 \r\nL 594 4494 \r\nL 1172 4494 \r\nz\r\n\" id=\"DejaVuSans-74\" transform=\"scale(0.015625)\"/>\r\n        <path d=\"M 3122 3366 \r\nL 3122 2828 \r\nQ 2878 2963 2633 3030 \r\nQ 2388 3097 2138 3097 \r\nQ 1578 3097 1268 2742 \r\nQ 959 2388 959 1747 \r\nQ 959 1106 1268 751 \r\nQ 1578 397 2138 397 \r\nQ 2388 397 2633 464 \r\nQ 2878 531 3122 666 \r\nL 3122 134 \r\nQ 2881 22 2623 -34 \r\nQ 2366 -91 2075 -91 \r\nQ 1284 -91 818 406 \r\nQ 353 903 353 1747 \r\nQ 353 2603 823 3093 \r\nQ 1294 3584 2113 3584 \r\nQ 2378 3584 2631 3529 \r\nQ 2884 3475 3122 3366 \r\nz\r\n\" id=\"DejaVuSans-63\" transform=\"scale(0.015625)\"/>\r\n        <path d=\"M 3513 2113 \r\nL 3513 0 \r\nL 2938 0 \r\nL 2938 2094 \r\nQ 2938 2591 2744 2837 \r\nQ 2550 3084 2163 3084 \r\nQ 1697 3084 1428 2787 \r\nQ 1159 2491 1159 1978 \r\nL 1159 0 \r\nL 581 0 \r\nL 581 4863 \r\nL 1159 4863 \r\nL 1159 2956 \r\nQ 1366 3272 1645 3428 \r\nQ 1925 3584 2291 3584 \r\nQ 2894 3584 3203 3211 \r\nQ 3513 2838 3513 2113 \r\nz\r\n\" id=\"DejaVuSans-68\" transform=\"scale(0.015625)\"/>\r\n        <path id=\"DejaVuSans-20\" transform=\"scale(0.015625)\"/>\r\n        <path d=\"M 1259 4147 \r\nL 1259 2394 \r\nL 2053 2394 \r\nQ 2494 2394 2734 2622 \r\nQ 2975 2850 2975 3272 \r\nQ 2975 3691 2734 3919 \r\nQ 2494 4147 2053 4147 \r\nL 1259 4147 \r\nz\r\nM 628 4666 \r\nL 2053 4666 \r\nQ 2838 4666 3239 4311 \r\nQ 3641 3956 3641 3272 \r\nQ 3641 2581 3239 2228 \r\nQ 2838 1875 2053 1875 \r\nL 1259 1875 \r\nL 1259 0 \r\nL 628 0 \r\nL 628 4666 \r\nz\r\n\" id=\"DejaVuSans-50\" transform=\"scale(0.015625)\"/>\r\n        <path d=\"M 3597 1894 \r\nL 3597 1613 \r\nL 953 1613 \r\nQ 991 1019 1311 708 \r\nQ 1631 397 2203 397 \r\nQ 2534 397 2845 478 \r\nQ 3156 559 3463 722 \r\nL 3463 178 \r\nQ 3153 47 2828 -22 \r\nQ 2503 -91 2169 -91 \r\nQ 1331 -91 842 396 \r\nQ 353 884 353 1716 \r\nQ 353 2575 817 3079 \r\nQ 1281 3584 2069 3584 \r\nQ 2775 3584 3186 3129 \r\nQ 3597 2675 3597 1894 \r\nz\r\nM 3022 2063 \r\nQ 3016 2534 2758 2815 \r\nQ 2500 3097 2075 3097 \r\nQ 1594 3097 1305 2825 \r\nQ 1016 2553 972 2059 \r\nL 3022 2063 \r\nz\r\n\" id=\"DejaVuSans-65\" transform=\"scale(0.015625)\"/>\r\n        <path d=\"M 2631 2963 \r\nQ 2534 3019 2420 3045 \r\nQ 2306 3072 2169 3072 \r\nQ 1681 3072 1420 2755 \r\nQ 1159 2438 1159 1844 \r\nL 1159 0 \r\nL 581 0 \r\nL 581 3500 \r\nL 1159 3500 \r\nL 1159 2956 \r\nQ 1341 3275 1631 3429 \r\nQ 1922 3584 2338 3584 \r\nQ 2397 3584 2469 3576 \r\nQ 2541 3569 2628 3553 \r\nL 2631 2963 \r\nz\r\n\" id=\"DejaVuSans-72\" transform=\"scale(0.015625)\"/>\r\n        <path d=\"M 3513 2113 \r\nL 3513 0 \r\nL 2938 0 \r\nL 2938 2094 \r\nQ 2938 2591 2744 2837 \r\nQ 2550 3084 2163 3084 \r\nQ 1697 3084 1428 2787 \r\nQ 1159 2491 1159 1978 \r\nL 1159 0 \r\nL 581 0 \r\nL 581 3500 \r\nL 1159 3500 \r\nL 1159 2956 \r\nQ 1366 3272 1645 3428 \r\nQ 1925 3584 2291 3584 \r\nQ 2894 3584 3203 3211 \r\nQ 3513 2838 3513 2113 \r\nz\r\n\" id=\"DejaVuSans-6e\" transform=\"scale(0.015625)\"/>\r\n        <path d=\"M 2906 1791 \r\nQ 2906 2416 2648 2759 \r\nQ 2391 3103 1925 3103 \r\nQ 1463 3103 1205 2759 \r\nQ 947 2416 947 1791 \r\nQ 947 1169 1205 825 \r\nQ 1463 481 1925 481 \r\nQ 2391 481 2648 825 \r\nQ 2906 1169 2906 1791 \r\nz\r\nM 3481 434 \r\nQ 3481 -459 3084 -895 \r\nQ 2688 -1331 1869 -1331 \r\nQ 1566 -1331 1297 -1286 \r\nQ 1028 -1241 775 -1147 \r\nL 775 -588 \r\nQ 1028 -725 1275 -790 \r\nQ 1522 -856 1778 -856 \r\nQ 2344 -856 2625 -561 \r\nQ 2906 -266 2906 331 \r\nL 2906 616 \r\nQ 2728 306 2450 153 \r\nQ 2172 0 1784 0 \r\nQ 1141 0 747 490 \r\nQ 353 981 353 1791 \r\nQ 353 2603 747 3093 \r\nQ 1141 3584 1784 3584 \r\nQ 2172 3584 2450 3431 \r\nQ 2728 3278 2906 2969 \r\nL 2906 3500 \r\nL 3481 3500 \r\nL 3481 434 \r\nz\r\n\" id=\"DejaVuSans-67\" transform=\"scale(0.015625)\"/>\r\n       </defs>\r\n       <use xlink:href=\"#DejaVuSans-4d\"/>\r\n       <use x=\"86.279297\" xlink:href=\"#DejaVuSans-61\"/>\r\n       <use x=\"147.558594\" xlink:href=\"#DejaVuSans-74\"/>\r\n       <use x=\"186.767578\" xlink:href=\"#DejaVuSans-63\"/>\r\n       <use x=\"241.748047\" xlink:href=\"#DejaVuSans-68\"/>\r\n       <use x=\"305.126953\" xlink:href=\"#DejaVuSans-20\"/>\r\n       <use x=\"336.914062\" xlink:href=\"#DejaVuSans-50\"/>\r\n       <use x=\"393.591797\" xlink:href=\"#DejaVuSans-65\"/>\r\n       <use x=\"455.115234\" xlink:href=\"#DejaVuSans-72\"/>\r\n       <use x=\"493.978516\" xlink:href=\"#DejaVuSans-63\"/>\r\n       <use x=\"548.958984\" xlink:href=\"#DejaVuSans-65\"/>\r\n       <use x=\"610.482422\" xlink:href=\"#DejaVuSans-6e\"/>\r\n       <use x=\"673.861328\" xlink:href=\"#DejaVuSans-74\"/>\r\n       <use x=\"713.070312\" xlink:href=\"#DejaVuSans-61\"/>\r\n       <use x=\"774.349609\" xlink:href=\"#DejaVuSans-67\"/>\r\n       <use x=\"837.826172\" xlink:href=\"#DejaVuSans-65\"/>\r\n      </g>\r\n     </g>\r\n    </g>\r\n    <g id=\"xtick_2\">\r\n     <g id=\"line2d_2\">\r\n      <g>\r\n       <use style=\"stroke:#000000;stroke-width:0.8;\" x=\"224.758125\" xlink:href=\"#mf4cebb9baf\" y=\"228.439219\"/>\r\n      </g>\r\n     </g>\r\n     <g id=\"text_2\">\r\n      <!-- score -->\r\n      <g transform=\"translate(211.325313 243.037656)scale(0.1 -0.1)\">\r\n       <defs>\r\n        <path d=\"M 2834 3397 \r\nL 2834 2853 \r\nQ 2591 2978 2328 3040 \r\nQ 2066 3103 1784 3103 \r\nQ 1356 3103 1142 2972 \r\nQ 928 2841 928 2578 \r\nQ 928 2378 1081 2264 \r\nQ 1234 2150 1697 2047 \r\nL 1894 2003 \r\nQ 2506 1872 2764 1633 \r\nQ 3022 1394 3022 966 \r\nQ 3022 478 2636 193 \r\nQ 2250 -91 1575 -91 \r\nQ 1294 -91 989 -36 \r\nQ 684 19 347 128 \r\nL 347 722 \r\nQ 666 556 975 473 \r\nQ 1284 391 1588 391 \r\nQ 1994 391 2212 530 \r\nQ 2431 669 2431 922 \r\nQ 2431 1156 2273 1281 \r\nQ 2116 1406 1581 1522 \r\nL 1381 1569 \r\nQ 847 1681 609 1914 \r\nQ 372 2147 372 2553 \r\nQ 372 3047 722 3315 \r\nQ 1072 3584 1716 3584 \r\nQ 2034 3584 2315 3537 \r\nQ 2597 3491 2834 3397 \r\nz\r\n\" id=\"DejaVuSans-73\" transform=\"scale(0.015625)\"/>\r\n        <path d=\"M 1959 3097 \r\nQ 1497 3097 1228 2736 \r\nQ 959 2375 959 1747 \r\nQ 959 1119 1226 758 \r\nQ 1494 397 1959 397 \r\nQ 2419 397 2687 759 \r\nQ 2956 1122 2956 1747 \r\nQ 2956 2369 2687 2733 \r\nQ 2419 3097 1959 3097 \r\nz\r\nM 1959 3584 \r\nQ 2709 3584 3137 3096 \r\nQ 3566 2609 3566 1747 \r\nQ 3566 888 3137 398 \r\nQ 2709 -91 1959 -91 \r\nQ 1206 -91 779 398 \r\nQ 353 888 353 1747 \r\nQ 353 2609 779 3096 \r\nQ 1206 3584 1959 3584 \r\nz\r\n\" id=\"DejaVuSans-6f\" transform=\"scale(0.015625)\"/>\r\n       </defs>\r\n       <use xlink:href=\"#DejaVuSans-73\"/>\r\n       <use x=\"52.099609\" xlink:href=\"#DejaVuSans-63\"/>\r\n       <use x=\"107.080078\" xlink:href=\"#DejaVuSans-6f\"/>\r\n       <use x=\"168.261719\" xlink:href=\"#DejaVuSans-72\"/>\r\n       <use x=\"207.125\" xlink:href=\"#DejaVuSans-65\"/>\r\n      </g>\r\n     </g>\r\n    </g>\r\n   </g>\r\n   <g id=\"matplotlib.axis_2\">\r\n    <g id=\"ytick_1\">\r\n     <g id=\"line2d_3\">\r\n      <defs>\r\n       <path d=\"M 0 0 \r\nL -3.5 0 \r\n\" id=\"m9e0a1065b2\" style=\"stroke:#000000;stroke-width:0.8;\"/>\r\n      </defs>\r\n      <g>\r\n       <use style=\"stroke:#000000;stroke-width:0.8;\" x=\"23.878125\" xlink:href=\"#m9e0a1065b2\" y=\"65.359219\"/>\r\n      </g>\r\n     </g>\r\n     <g id=\"text_3\">\r\n      <!-- Match Percentage -->\r\n      <g transform=\"translate(14.798438 151.495938)rotate(-90)scale(0.1 -0.1)\">\r\n       <use xlink:href=\"#DejaVuSans-4d\"/>\r\n       <use x=\"86.279297\" xlink:href=\"#DejaVuSans-61\"/>\r\n       <use x=\"147.558594\" xlink:href=\"#DejaVuSans-74\"/>\r\n       <use x=\"186.767578\" xlink:href=\"#DejaVuSans-63\"/>\r\n       <use x=\"241.748047\" xlink:href=\"#DejaVuSans-68\"/>\r\n       <use x=\"305.126953\" xlink:href=\"#DejaVuSans-20\"/>\r\n       <use x=\"336.914062\" xlink:href=\"#DejaVuSans-50\"/>\r\n       <use x=\"393.591797\" xlink:href=\"#DejaVuSans-65\"/>\r\n       <use x=\"455.115234\" xlink:href=\"#DejaVuSans-72\"/>\r\n       <use x=\"493.978516\" xlink:href=\"#DejaVuSans-63\"/>\r\n       <use x=\"548.958984\" xlink:href=\"#DejaVuSans-65\"/>\r\n       <use x=\"610.482422\" xlink:href=\"#DejaVuSans-6e\"/>\r\n       <use x=\"673.861328\" xlink:href=\"#DejaVuSans-74\"/>\r\n       <use x=\"713.070312\" xlink:href=\"#DejaVuSans-61\"/>\r\n       <use x=\"774.349609\" xlink:href=\"#DejaVuSans-67\"/>\r\n       <use x=\"837.826172\" xlink:href=\"#DejaVuSans-65\"/>\r\n      </g>\r\n     </g>\r\n    </g>\r\n    <g id=\"ytick_2\">\r\n     <g id=\"line2d_4\">\r\n      <g>\r\n       <use style=\"stroke:#000000;stroke-width:0.8;\" x=\"23.878125\" xlink:href=\"#m9e0a1065b2\" y=\"174.079219\"/>\r\n      </g>\r\n     </g>\r\n     <g id=\"text_4\">\r\n      <!-- score -->\r\n      <g transform=\"translate(14.798438 197.145625)rotate(-90)scale(0.1 -0.1)\">\r\n       <use xlink:href=\"#DejaVuSans-73\"/>\r\n       <use x=\"52.099609\" xlink:href=\"#DejaVuSans-63\"/>\r\n       <use x=\"107.080078\" xlink:href=\"#DejaVuSans-6f\"/>\r\n       <use x=\"168.261719\" xlink:href=\"#DejaVuSans-72\"/>\r\n       <use x=\"207.125\" xlink:href=\"#DejaVuSans-65\"/>\r\n      </g>\r\n     </g>\r\n    </g>\r\n   </g>\r\n   <g id=\"text_5\">\r\n    <!-- 1 -->\r\n    <g style=\"fill:#262626;\" transform=\"translate(87.656875 68.118594)scale(0.1 -0.1)\">\r\n     <defs>\r\n      <path d=\"M 794 531 \r\nL 1825 531 \r\nL 1825 4091 \r\nL 703 3866 \r\nL 703 4441 \r\nL 1819 4666 \r\nL 2450 4666 \r\nL 2450 531 \r\nL 3481 531 \r\nL 3481 0 \r\nL 794 0 \r\nL 794 531 \r\nz\r\n\" id=\"DejaVuSans-31\" transform=\"scale(0.015625)\"/>\r\n     </defs>\r\n     <use xlink:href=\"#DejaVuSans-31\"/>\r\n    </g>\r\n   </g>\r\n   <g id=\"text_6\">\r\n    <!-- 0.47 -->\r\n    <g style=\"fill:#ffffff;\" transform=\"translate(213.625313 68.118594)scale(0.1 -0.1)\">\r\n     <defs>\r\n      <path d=\"M 2034 4250 \r\nQ 1547 4250 1301 3770 \r\nQ 1056 3291 1056 2328 \r\nQ 1056 1369 1301 889 \r\nQ 1547 409 2034 409 \r\nQ 2525 409 2770 889 \r\nQ 3016 1369 3016 2328 \r\nQ 3016 3291 2770 3770 \r\nQ 2525 4250 2034 4250 \r\nz\r\nM 2034 4750 \r\nQ 2819 4750 3233 4129 \r\nQ 3647 3509 3647 2328 \r\nQ 3647 1150 3233 529 \r\nQ 2819 -91 2034 -91 \r\nQ 1250 -91 836 529 \r\nQ 422 1150 422 2328 \r\nQ 422 3509 836 4129 \r\nQ 1250 4750 2034 4750 \r\nz\r\n\" id=\"DejaVuSans-30\" transform=\"scale(0.015625)\"/>\r\n      <path d=\"M 684 794 \r\nL 1344 794 \r\nL 1344 0 \r\nL 684 0 \r\nL 684 794 \r\nz\r\n\" id=\"DejaVuSans-2e\" transform=\"scale(0.015625)\"/>\r\n      <path d=\"M 2419 4116 \r\nL 825 1625 \r\nL 2419 1625 \r\nL 2419 4116 \r\nz\r\nM 2253 4666 \r\nL 3047 4666 \r\nL 3047 1625 \r\nL 3713 1625 \r\nL 3713 1100 \r\nL 3047 1100 \r\nL 3047 0 \r\nL 2419 0 \r\nL 2419 1100 \r\nL 313 1100 \r\nL 313 1709 \r\nL 2253 4666 \r\nz\r\n\" id=\"DejaVuSans-34\" transform=\"scale(0.015625)\"/>\r\n      <path d=\"M 525 4666 \r\nL 3525 4666 \r\nL 3525 4397 \r\nL 1831 0 \r\nL 1172 0 \r\nL 2766 4134 \r\nL 525 4134 \r\nL 525 4666 \r\nz\r\n\" id=\"DejaVuSans-37\" transform=\"scale(0.015625)\"/>\r\n     </defs>\r\n     <use xlink:href=\"#DejaVuSans-30\"/>\r\n     <use x=\"63.623047\" xlink:href=\"#DejaVuSans-2e\"/>\r\n     <use x=\"95.410156\" xlink:href=\"#DejaVuSans-34\"/>\r\n     <use x=\"159.033203\" xlink:href=\"#DejaVuSans-37\"/>\r\n    </g>\r\n   </g>\r\n   <g id=\"text_7\">\r\n    <!-- 0.47 -->\r\n    <g style=\"fill:#ffffff;\" transform=\"translate(79.705313 176.838594)scale(0.1 -0.1)\">\r\n     <use xlink:href=\"#DejaVuSans-30\"/>\r\n     <use x=\"63.623047\" xlink:href=\"#DejaVuSans-2e\"/>\r\n     <use x=\"95.410156\" xlink:href=\"#DejaVuSans-34\"/>\r\n     <use x=\"159.033203\" xlink:href=\"#DejaVuSans-37\"/>\r\n    </g>\r\n   </g>\r\n   <g id=\"text_8\">\r\n    <!-- 1 -->\r\n    <g style=\"fill:#262626;\" transform=\"translate(221.576875 176.838594)scale(0.1 -0.1)\">\r\n     <use xlink:href=\"#DejaVuSans-31\"/>\r\n    </g>\r\n   </g>\r\n  </g>\r\n  <g id=\"axes_2\">\r\n   <g id=\"patch_3\">\r\n    <path d=\"M 308.458125 228.439219 \r\nL 319.330125 228.439219 \r\nL 319.330125 10.999219 \r\nL 308.458125 10.999219 \r\nz\r\n\" style=\"fill:#ffffff;\"/>\r\n   </g>\r\n   <g id=\"patch_4\">\r\n    <path clip-path=\"url(#p0b6addd13b)\" d=\"M 308.458125 228.439219 \r\nL 308.458125 227.589844 \r\nL 308.458125 11.848594 \r\nL 308.458125 10.999219 \r\nL 319.330125 10.999219 \r\nL 319.330125 11.848594 \r\nL 319.330125 227.589844 \r\nL 319.330125 228.439219 \r\nL 319.330125 228.439219 \r\nz\r\n\" style=\"fill:#ffffff;stroke:#ffffff;stroke-linejoin:miter;stroke-width:0.01;\"/>\r\n   </g>\r\n   <image height=\"217\" id=\"imageb612ac7dd5\" transform=\"scale(1 -1)translate(0 -217)\" width=\"11\" x=\"308\" xlink:href=\"data:image/png;base64,\r\niVBORw0KGgoAAAANSUhEUgAAAAsAAADZCAYAAAD2WsoCAAABYUlEQVR4nO3aQW4DMQwDQMtyPtH/vzPptUfPgYA2aM4EQVK0duOk+vXzWZefU7fItdbZe9+Da91znyoAbwGTDGLukjRyBonZ0gCDQzQn02gBj6jolPKTjCnjlvIP0UwyrqE67iFpUOt6hoz7lKM5d6x1ZDC4N0TGya1ckZFjfua4iRnAJ1akZHQpGef6u4TLIHDsdE8xKOCY5iPgEhmPTCPYjXtqM2ib/yMyhHlIGiXMVn7SHGQWMEzltDAX7IKzBWxFEubeb5Ah0QXTiMnojqUBJzYY3W6RYZqvscock7Hh2WZDgasCTgOYF3UDVj/KsDRizGYQXrbRYIp5CXPBUwWZzWBMhlxZyOvJWfIb0JToGq7uUXMqjSU3rsZ8JI2YjCnRWRpU0RHHavX96sczaN2IgWkoksYUzcScM5gbd475P40/4OpXiHlKGjMMlvxVIJkGlT/3VkDR5VaBdOPLDf4CdO8rI5K+A88AAAAASUVORK5CYII=\" y=\"-11\"/>\r\n   <g id=\"matplotlib.axis_3\"/>\r\n   <g id=\"matplotlib.axis_4\">\r\n    <g id=\"ytick_3\">\r\n     <g id=\"line2d_5\">\r\n      <defs>\r\n       <path d=\"M 0 0 \r\nL 3.5 0 \r\n\" id=\"mc8d86ef8eb\" style=\"stroke:#000000;stroke-width:0.8;\"/>\r\n      </defs>\r\n      <g>\r\n       <use style=\"stroke:#000000;stroke-width:0.8;\" x=\"319.330125\" xlink:href=\"#mc8d86ef8eb\" y=\"215.039263\"/>\r\n      </g>\r\n     </g>\r\n     <g id=\"text_9\">\r\n      <!-- 0.5 -->\r\n      <g transform=\"translate(326.330125 218.838482)scale(0.1 -0.1)\">\r\n       <defs>\r\n        <path d=\"M 691 4666 \r\nL 3169 4666 \r\nL 3169 4134 \r\nL 1269 4134 \r\nL 1269 2991 \r\nQ 1406 3038 1543 3061 \r\nQ 1681 3084 1819 3084 \r\nQ 2600 3084 3056 2656 \r\nQ 3513 2228 3513 1497 \r\nQ 3513 744 3044 326 \r\nQ 2575 -91 1722 -91 \r\nQ 1428 -91 1123 -41 \r\nQ 819 9 494 109 \r\nL 494 744 \r\nQ 775 591 1075 516 \r\nQ 1375 441 1709 441 \r\nQ 2250 441 2565 725 \r\nQ 2881 1009 2881 1497 \r\nQ 2881 1984 2565 2268 \r\nQ 2250 2553 1709 2553 \r\nQ 1456 2553 1204 2497 \r\nQ 953 2441 691 2322 \r\nL 691 4666 \r\nz\r\n\" id=\"DejaVuSans-35\" transform=\"scale(0.015625)\"/>\r\n       </defs>\r\n       <use xlink:href=\"#DejaVuSans-30\"/>\r\n       <use x=\"63.623047\" xlink:href=\"#DejaVuSans-2e\"/>\r\n       <use x=\"95.410156\" xlink:href=\"#DejaVuSans-35\"/>\r\n      </g>\r\n     </g>\r\n    </g>\r\n    <g id=\"ytick_4\">\r\n     <g id=\"line2d_6\">\r\n      <g>\r\n       <use style=\"stroke:#000000;stroke-width:0.8;\" x=\"319.330125\" xlink:href=\"#mc8d86ef8eb\" y=\"174.231254\"/>\r\n      </g>\r\n     </g>\r\n     <g id=\"text_10\">\r\n      <!-- 0.6 -->\r\n      <g transform=\"translate(326.330125 178.030473)scale(0.1 -0.1)\">\r\n       <defs>\r\n        <path d=\"M 2113 2584 \r\nQ 1688 2584 1439 2293 \r\nQ 1191 2003 1191 1497 \r\nQ 1191 994 1439 701 \r\nQ 1688 409 2113 409 \r\nQ 2538 409 2786 701 \r\nQ 3034 994 3034 1497 \r\nQ 3034 2003 2786 2293 \r\nQ 2538 2584 2113 2584 \r\nz\r\nM 3366 4563 \r\nL 3366 3988 \r\nQ 3128 4100 2886 4159 \r\nQ 2644 4219 2406 4219 \r\nQ 1781 4219 1451 3797 \r\nQ 1122 3375 1075 2522 \r\nQ 1259 2794 1537 2939 \r\nQ 1816 3084 2150 3084 \r\nQ 2853 3084 3261 2657 \r\nQ 3669 2231 3669 1497 \r\nQ 3669 778 3244 343 \r\nQ 2819 -91 2113 -91 \r\nQ 1303 -91 875 529 \r\nQ 447 1150 447 2328 \r\nQ 447 3434 972 4092 \r\nQ 1497 4750 2381 4750 \r\nQ 2619 4750 2861 4703 \r\nQ 3103 4656 3366 4563 \r\nz\r\n\" id=\"DejaVuSans-36\" transform=\"scale(0.015625)\"/>\r\n       </defs>\r\n       <use xlink:href=\"#DejaVuSans-30\"/>\r\n       <use x=\"63.623047\" xlink:href=\"#DejaVuSans-2e\"/>\r\n       <use x=\"95.410156\" xlink:href=\"#DejaVuSans-36\"/>\r\n      </g>\r\n     </g>\r\n    </g>\r\n    <g id=\"ytick_5\">\r\n     <g id=\"line2d_7\">\r\n      <g>\r\n       <use style=\"stroke:#000000;stroke-width:0.8;\" x=\"319.330125\" xlink:href=\"#mc8d86ef8eb\" y=\"133.423245\"/>\r\n      </g>\r\n     </g>\r\n     <g id=\"text_11\">\r\n      <!-- 0.7 -->\r\n      <g transform=\"translate(326.330125 137.222464)scale(0.1 -0.1)\">\r\n       <use xlink:href=\"#DejaVuSans-30\"/>\r\n       <use x=\"63.623047\" xlink:href=\"#DejaVuSans-2e\"/>\r\n       <use x=\"95.410156\" xlink:href=\"#DejaVuSans-37\"/>\r\n      </g>\r\n     </g>\r\n    </g>\r\n    <g id=\"ytick_6\">\r\n     <g id=\"line2d_8\">\r\n      <g>\r\n       <use style=\"stroke:#000000;stroke-width:0.8;\" x=\"319.330125\" xlink:href=\"#mc8d86ef8eb\" y=\"92.615236\"/>\r\n      </g>\r\n     </g>\r\n     <g id=\"text_12\">\r\n      <!-- 0.8 -->\r\n      <g transform=\"translate(326.330125 96.414455)scale(0.1 -0.1)\">\r\n       <defs>\r\n        <path d=\"M 2034 2216 \r\nQ 1584 2216 1326 1975 \r\nQ 1069 1734 1069 1313 \r\nQ 1069 891 1326 650 \r\nQ 1584 409 2034 409 \r\nQ 2484 409 2743 651 \r\nQ 3003 894 3003 1313 \r\nQ 3003 1734 2745 1975 \r\nQ 2488 2216 2034 2216 \r\nz\r\nM 1403 2484 \r\nQ 997 2584 770 2862 \r\nQ 544 3141 544 3541 \r\nQ 544 4100 942 4425 \r\nQ 1341 4750 2034 4750 \r\nQ 2731 4750 3128 4425 \r\nQ 3525 4100 3525 3541 \r\nQ 3525 3141 3298 2862 \r\nQ 3072 2584 2669 2484 \r\nQ 3125 2378 3379 2068 \r\nQ 3634 1759 3634 1313 \r\nQ 3634 634 3220 271 \r\nQ 2806 -91 2034 -91 \r\nQ 1263 -91 848 271 \r\nQ 434 634 434 1313 \r\nQ 434 1759 690 2068 \r\nQ 947 2378 1403 2484 \r\nz\r\nM 1172 3481 \r\nQ 1172 3119 1398 2916 \r\nQ 1625 2713 2034 2713 \r\nQ 2441 2713 2670 2916 \r\nQ 2900 3119 2900 3481 \r\nQ 2900 3844 2670 4047 \r\nQ 2441 4250 2034 4250 \r\nQ 1625 4250 1398 4047 \r\nQ 1172 3844 1172 3481 \r\nz\r\n\" id=\"DejaVuSans-38\" transform=\"scale(0.015625)\"/>\r\n       </defs>\r\n       <use xlink:href=\"#DejaVuSans-30\"/>\r\n       <use x=\"63.623047\" xlink:href=\"#DejaVuSans-2e\"/>\r\n       <use x=\"95.410156\" xlink:href=\"#DejaVuSans-38\"/>\r\n      </g>\r\n     </g>\r\n    </g>\r\n    <g id=\"ytick_7\">\r\n     <g id=\"line2d_9\">\r\n      <g>\r\n       <use style=\"stroke:#000000;stroke-width:0.8;\" x=\"319.330125\" xlink:href=\"#mc8d86ef8eb\" y=\"51.807228\"/>\r\n      </g>\r\n     </g>\r\n     <g id=\"text_13\">\r\n      <!-- 0.9 -->\r\n      <g transform=\"translate(326.330125 55.606446)scale(0.1 -0.1)\">\r\n       <defs>\r\n        <path d=\"M 703 97 \r\nL 703 672 \r\nQ 941 559 1184 500 \r\nQ 1428 441 1663 441 \r\nQ 2288 441 2617 861 \r\nQ 2947 1281 2994 2138 \r\nQ 2813 1869 2534 1725 \r\nQ 2256 1581 1919 1581 \r\nQ 1219 1581 811 2004 \r\nQ 403 2428 403 3163 \r\nQ 403 3881 828 4315 \r\nQ 1253 4750 1959 4750 \r\nQ 2769 4750 3195 4129 \r\nQ 3622 3509 3622 2328 \r\nQ 3622 1225 3098 567 \r\nQ 2575 -91 1691 -91 \r\nQ 1453 -91 1209 -44 \r\nQ 966 3 703 97 \r\nz\r\nM 1959 2075 \r\nQ 2384 2075 2632 2365 \r\nQ 2881 2656 2881 3163 \r\nQ 2881 3666 2632 3958 \r\nQ 2384 4250 1959 4250 \r\nQ 1534 4250 1286 3958 \r\nQ 1038 3666 1038 3163 \r\nQ 1038 2656 1286 2365 \r\nQ 1534 2075 1959 2075 \r\nz\r\n\" id=\"DejaVuSans-39\" transform=\"scale(0.015625)\"/>\r\n       </defs>\r\n       <use xlink:href=\"#DejaVuSans-30\"/>\r\n       <use x=\"63.623047\" xlink:href=\"#DejaVuSans-2e\"/>\r\n       <use x=\"95.410156\" xlink:href=\"#DejaVuSans-39\"/>\r\n      </g>\r\n     </g>\r\n    </g>\r\n    <g id=\"ytick_8\">\r\n     <g id=\"line2d_10\">\r\n      <g>\r\n       <use style=\"stroke:#000000;stroke-width:0.8;\" x=\"319.330125\" xlink:href=\"#mc8d86ef8eb\" y=\"10.999219\"/>\r\n      </g>\r\n     </g>\r\n     <g id=\"text_14\">\r\n      <!-- 1.0 -->\r\n      <g transform=\"translate(326.330125 14.798437)scale(0.1 -0.1)\">\r\n       <use xlink:href=\"#DejaVuSans-31\"/>\r\n       <use x=\"63.623047\" xlink:href=\"#DejaVuSans-2e\"/>\r\n       <use x=\"95.410156\" xlink:href=\"#DejaVuSans-30\"/>\r\n      </g>\r\n     </g>\r\n    </g>\r\n   </g>\r\n   <g id=\"LineCollection_1\"/>\r\n   <g id=\"patch_5\">\r\n    <path d=\"M 308.458125 228.439219 \r\nL 308.458125 227.589844 \r\nL 308.458125 11.848594 \r\nL 308.458125 10.999219 \r\nL 319.330125 10.999219 \r\nL 319.330125 11.848594 \r\nL 319.330125 227.589844 \r\nL 319.330125 228.439219 \r\nz\r\n\" style=\"fill:none;\"/>\r\n   </g>\r\n  </g>\r\n </g>\r\n <defs>\r\n  <clipPath id=\"pfd91acbb68\">\r\n   <rect height=\"217.44\" width=\"267.84\" x=\"23.878125\" y=\"10.999219\"/>\r\n  </clipPath>\r\n  <clipPath id=\"p0b6addd13b\">\r\n   <rect height=\"217.44\" width=\"10.872\" x=\"308.458125\" y=\"10.999219\"/>\r\n  </clipPath>\r\n </defs>\r\n</svg>\r\n",
                        "image/png": "[encoded data removed]"
                    },
                    "metadata": {
                        "needs_background": "light"
                    }
                }
            ],
            "metadata": {}
        },
        {
            "cell_type": "markdown",
            "source": [
                "<h1 style='color: rgb(77, 229, 240); text-align: left; font-family: cursive;font-size: 20px;'>same for test</h1>"
            ],
            "metadata": {}
        },
        {
            "cell_type": "code",
            "execution_count": 21,
            "source": [
                "test1[\"score\"]=0\r\n",
                "for i in range(60):\r\n",
                "    s=0\r\n",
                "    for k in keywords:\r\n",
                "        if k in test1[\"CV\"][i]:\r\n",
                "            s+=1\r\n",
                "\r\n",
                "    test1[\"score\"][i]=s\r\n",
                "\r\n",
                "test1.head()"
            ],
            "outputs": [
                {
                    "output_type": "execute_result",
                    "data": {
                        "text/plain": [
                            "     CandidateID                                                 CV  score\n",
                            "0  candidate_004  oliviasantosconsultantanalystexecutivesummaryd...     10\n",
                            "1  candidate_005  arminfitzgeralddatamanagerprofessionalprofilee...     14\n",
                            "2  candidate_014  gracebailrymachinelearningdevelopmentanddeploy...     15\n",
                            "3  candidate_016  ameliamartindatasciencemajorworkexperiencenaac...     16\n",
                            "4  candidate_017  jonathanhilljuniormachinelearningengineerskill...     25"
                        ],
                        "text/html": [
                            "<div>\n",
                            "<style scoped>\n",
                            "    .dataframe tbody tr th:only-of-type {\n",
                            "        vertical-align: middle;\n",
                            "    }\n",
                            "\n",
                            "    .dataframe tbody tr th {\n",
                            "        vertical-align: top;\n",
                            "    }\n",
                            "\n",
                            "    .dataframe thead th {\n",
                            "        text-align: right;\n",
                            "    }\n",
                            "</style>\n",
                            "<table border=\"1\" class=\"dataframe\">\n",
                            "  <thead>\n",
                            "    <tr style=\"text-align: right;\">\n",
                            "      <th></th>\n",
                            "      <th>CandidateID</th>\n",
                            "      <th>CV</th>\n",
                            "      <th>score</th>\n",
                            "    </tr>\n",
                            "  </thead>\n",
                            "  <tbody>\n",
                            "    <tr>\n",
                            "      <th>0</th>\n",
                            "      <td>candidate_004</td>\n",
                            "      <td>oliviasantosconsultantanalystexecutivesummaryd...</td>\n",
                            "      <td>10</td>\n",
                            "    </tr>\n",
                            "    <tr>\n",
                            "      <th>1</th>\n",
                            "      <td>candidate_005</td>\n",
                            "      <td>arminfitzgeralddatamanagerprofessionalprofilee...</td>\n",
                            "      <td>14</td>\n",
                            "    </tr>\n",
                            "    <tr>\n",
                            "      <th>2</th>\n",
                            "      <td>candidate_014</td>\n",
                            "      <td>gracebailrymachinelearningdevelopmentanddeploy...</td>\n",
                            "      <td>15</td>\n",
                            "    </tr>\n",
                            "    <tr>\n",
                            "      <th>3</th>\n",
                            "      <td>candidate_016</td>\n",
                            "      <td>ameliamartindatasciencemajorworkexperiencenaac...</td>\n",
                            "      <td>16</td>\n",
                            "    </tr>\n",
                            "    <tr>\n",
                            "      <th>4</th>\n",
                            "      <td>candidate_017</td>\n",
                            "      <td>jonathanhilljuniormachinelearningengineerskill...</td>\n",
                            "      <td>25</td>\n",
                            "    </tr>\n",
                            "  </tbody>\n",
                            "</table>\n",
                            "</div>"
                        ]
                    },
                    "metadata": {},
                    "execution_count": 21
                }
            ],
            "metadata": {}
        },
        {
            "cell_type": "markdown",
            "source": [
                "<h1 style='color: rgb(77, 229, 240); text-align: center; font-family: cursive;font-size: 20px;'>Training Phase</h1>"
            ],
            "metadata": {}
        },
        {
            "cell_type": "markdown",
            "source": [
                "<h1 style='color: rgb(77, 229, 240); text-align: left; font-family: cursive;font-size: 20px;'>Preparaion for training and testing phase</h1>"
            ],
            "metadata": {}
        },
        {
            "cell_type": "code",
            "execution_count": 76,
            "source": [
                "xtrain = np.array(train1[\"score\"])\r\n",
                "ytrain =  np.array(train1[\"Match Percentage\"])\r\n",
                "xtest =  np.array(test1[\"score\"])"
            ],
            "outputs": [],
            "metadata": {}
        },
        {
            "cell_type": "markdown",
            "source": [
                "<h1 style='color: rgb(77, 229, 240); text-align: left; font-family: cursive;font-size: 20px;'>reshape numpy array</h1>"
            ],
            "metadata": {}
        },
        {
            "cell_type": "code",
            "execution_count": 77,
            "source": [
                "xtrain = xtrain.reshape(-1,1)\r\n",
                "xtest = xtest.reshape(-1,1)\r\n",
                "ytrain = ytrain.reshape(-1,1)"
            ],
            "outputs": [],
            "metadata": {}
        },
        {
            "cell_type": "markdown",
            "source": [
                "<h1 style='color: rgb(77, 229, 240); text-align: left; font-family: cursive;font-size: 20px;'>1) Linear Regression = 60.15</h1>"
            ],
            "metadata": {}
        },
        {
            "cell_type": "code",
            "execution_count": 78,
            "source": [
                "lr = LinearRegression().fit(xtrain,ytrain)\r\n",
                "preL = lr.predict(xtest)\r\n",
                "#to create list\r\n",
                "pre=[]\r\n",
                "for i in range(60):\r\n",
                "    pre.append(preL[i][0])\r\n",
                "#create dictionary   \r\n",
                "res={\r\n",
                "    \"CandidateID\":list(test1.CandidateID),\r\n",
                "    \"Match Percentage\":pre\r\n",
                "}\r\n",
                "#create dataframe\r\n",
                "res=pd.DataFrame(res)\r\n",
                "#upload to csv file time for res\r\n",
                "res.to_csv(\"res.csv\",index=False)"
            ],
            "outputs": [],
            "metadata": {}
        },
        {
            "cell_type": "markdown",
            "source": [
                "<h1 style='color: rgb(77, 229, 240); text-align: left; font-family: cursive;font-size: 20px;'>2) Decision Tree = 68.07</h1>"
            ],
            "metadata": {}
        },
        {
            "cell_type": "code",
            "execution_count": 91,
            "source": [
                "dt=DecisionTreeRegressor()\r\n",
                "dt=dt.fit(xtrain,ytrain)\r\n",
                "preT=dt.predict(xtest)\r\n",
                "\r\n",
                "res={\r\n",
                "    \"CandidateID\":list(test1.CandidateID),\r\n",
                "    \"Match Percentage\":preT\r\n",
                "}\r\n",
                "\r\n",
                "res=pd.DataFrame(res)\r\n",
                "\r\n",
                "res.to_csv(\"res.csv\",index=False)"
            ],
            "outputs": [],
            "metadata": {}
        },
        {
            "cell_type": "markdown",
            "source": [
                "<h1 style='color: rgb(77, 229, 240); text-align: left; font-family: cursive;font-size: 20px;'>3) Random Forest = 71.66</h1>"
            ],
            "metadata": {}
        },
        {
            "cell_type": "code",
            "execution_count": 99,
            "source": [
                "rf =RandomForestRegressor(n_estimators=1000)\r\n",
                "rf.fit(xtrain,ytrain)\r\n",
                "preR=rf.predict(xtest)\r\n",
                "\r\n",
                "res={\r\n",
                "    \"CandidateID\":list(test1.CandidateID),\r\n",
                "    \"Match Percentage\":preR\r\n",
                "}\r\n",
                "\r\n",
                "res=pd.DataFrame(res)\r\n",
                "\r\n",
                "res.to_csv(\"res.csv\",index=False)"
            ],
            "outputs": [],
            "metadata": {}
        },
        {
            "cell_type": "markdown",
            "source": [
                "<h1 style='color: rgb(77, 229, 240); text-align: left; font-family: cursive;font-size: 20px;'>4) Support vector = 46.88</h1>"
            ],
            "metadata": {}
        },
        {
            "cell_type": "code",
            "execution_count": 93,
            "source": [
                "sv = SVR()\r\n",
                "sv.fit(xtrain,ytrain)\r\n",
                "svP=sv.predict(xtest)\r\n",
                "\r\n",
                "res={\r\n",
                "    \"CandidateID\":list(test1.CandidateID),\r\n",
                "    \"Match Percentage\":svP\r\n",
                "}\r\n",
                "\r\n",
                "res=pd.DataFrame(res)\r\n",
                "\r\n",
                "res.to_csv(\"res.csv\",index=False)"
            ],
            "outputs": [],
            "metadata": {}
        },
        {
            "cell_type": "markdown",
            "source": [
                "<h1 style='color: rgb(77, 229, 240); text-align: left; font-family: cursive;font-size: 20px;'>5) Boosting = 68.29</h1>"
            ],
            "metadata": {}
        },
        {
            "cell_type": "code",
            "execution_count": 103,
            "source": [
                "reg= GradientBoostingRegressor(random_state=0)\r\n",
                "reg.fit(xtrain,ytrain)\r\n",
                "regP=reg.predict(xtest)\r\n",
                "\r\n",
                "res={\r\n",
                "    \"CandidateID\":list(test1.CandidateID),\r\n",
                "    \"Match Percentage\":regP\r\n",
                "}\r\n",
                "\r\n",
                "res=pd.DataFrame(res)\r\n",
                "\r\n",
                "res.to_csv(\"res.csv\",index=False)"
            ],
            "outputs": [],
            "metadata": {}
        }
    ],
    "metadata": {
        "orig_nbformat": 4,
        "language_info": {
            "name": "python",
            "version": "3.9.2",
            "mimetype": "text/x-python",
            "codemirror_mode": {
                "name": "ipython",
                "version": 3
            },
            "pygments_lexer": "ipython3",
            "nbconvert_exporter": "python",
            "file_extension": ".py"
        },
        "kernelspec": {
            "name": "python3",
            "display_name": "Python 3.9.2 64-bit"
        },
        "interpreter": {
            "hash": "ac59ebe37160ed0dfa835113d9b8498d9f09ceb179beaac4002f036b9467c963"
        }
    },
    "nbformat": 4,
    "nbformat_minor": 2
}