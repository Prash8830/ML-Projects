{
 "cells": [
  {
   "cell_type": "markdown",
   "source": [
    "<h1 style='color: gold; text-align: center; font-family: cursive;font-size: 30px;'>NLP Approach</h1>"
   ],
   "metadata": {}
  },
  {
   "cell_type": "markdown",
   "source": [
    "<h1 style='color: rgb(77, 229, 240); text-align: left; font-family: cursive;font-size: 20px;'>importing liabrary</h1>"
   ],
   "metadata": {}
  },
  {
   "cell_type": "code",
   "execution_count": 1,
   "source": [
    "# basic modules\r\n",
    "import pandas as pd\r\n",
    "import numpy as np\r\n",
    "\r\n",
    "#nlp modules\r\n",
    "import nltk \r\n",
    "from sklearn.feature_extraction.text import CountVectorizer \r\n",
    "from nltk.corpus import stopwords\r\n",
    "from nltk.stem.porter import PorterStemmer\r\n",
    "import re\r\n",
    "\r\n",
    "# modules to read pdf files\r\n",
    "from io import StringIO\r\n",
    "from pdfminer.pdfinterp import PDFResourceManager, PDFPageInterpreter\r\n",
    "from pdfminer.converter import TextConverter\r\n",
    "from pdfminer.layout import LAParams\r\n",
    "from pdfminer.pdfpage import PDFPage\r\n",
    "\r\n",
    "# ignore warning\r\n",
    "import warnings \r\n",
    "warnings.simplefilter('ignore') \r\n",
    "\r\n",
    "# moduels require for machine learning\r\n",
    "from sklearn.linear_model import LinearRegression\r\n",
    "from sklearn.tree import DecisionTreeRegressor\r\n",
    "from sklearn.ensemble import RandomForestRegressor\r\n",
    "from sklearn.svm import SVR\r\n",
    "from sklearn.ensemble import GradientBoostingRegressor \r\n",
    "\r\n",
    "# for evaluation of model\r\n",
    "from sklearn.metrics import mean_squared_log_error\r\n",
    "from sklearn.metrics import mean_squared_error\r\n",
    "\r\n",
    "#other modules\r\n",
    "from sklearn.preprocessing import LabelEncoder\r\n",
    "from sklearn.model_selection import train_test_split "
   ],
   "outputs": [],
   "metadata": {}
  },
  {
   "cell_type": "markdown",
   "source": [
    "<h1 style='color: rgb(77, 229, 240); text-align: left; font-family: cursive;font-size: 20px;'>data loading</h1>"
   ],
   "metadata": {}
  },
  {
   "cell_type": "code",
   "execution_count": 2,
   "source": [
    "'''\r\n",
    "### Read in PDF complicated text using Pdfminer\r\n",
    "'''      \r\n",
    "\r\n",
    "\r\n",
    "def pdf_text_reader(pdf_file_name, pages=None):\r\n",
    "    if pages:\r\n",
    "        pagenums = set(pages)\r\n",
    "    else:\r\n",
    "        pagenums = set()\r\n",
    "\r\n",
    "    ## 1) Initiate the Pdf text converter and interpreter\r\n",
    "    textOutput = StringIO()\r\n",
    "    manager = PDFResourceManager()\r\n",
    "    converter = TextConverter(manager, textOutput, laparams=LAParams())\r\n",
    "    interpreter = PDFPageInterpreter(manager, converter)\r\n",
    "\r\n",
    "    ## 2) Extract text from file using the interpreter\r\n",
    "    infile = open(pdf_file_name, 'rb')\r\n",
    "    for page in PDFPage.get_pages(infile, pagenums):\r\n",
    "        interpreter.process_page(page)        \r\n",
    "    infile.close()\r\n",
    "    \r\n",
    "    ## 3) Extract the paragraphs and close the connections\r\n",
    "    paras = textOutput.getvalue()   \r\n",
    "    converter.close()\r\n",
    "    textOutput.close\r\n",
    "    \r\n",
    "    return paras\r\n"
   ],
   "outputs": [],
   "metadata": {}
  },
  {
   "cell_type": "code",
   "execution_count": 3,
   "source": [
    "def pdf_reader(file_name):\r\n",
    "\r\n",
    "    file = pdf_text_reader(file_name, pages=[0]) #start from page no 0\r\n",
    "    page_no=1\r\n",
    "    while True:\r\n",
    "      another_page = pdf_text_reader(file_name, pages=[page_no])\r\n",
    "\r\n",
    "      if(len(another_page)==0): #add pages untill pages ends\r\n",
    "            break \r\n",
    "      file = file+another_page\r\n",
    "      page_no+=1\r\n",
    "    #converting text to lower case \r\n",
    "    #file = [i.lower() for i in file.split('\\n') if i] #splliting context of file for better handling \r\n",
    "    return file #it returns list containing lines of pdf pages as strings"
   ],
   "outputs": [],
   "metadata": {}
  },
  {
   "cell_type": "code",
   "execution_count": 4,
   "source": [
    "#training data\r\n",
    "train = pd.read_csv('dataset/train.csv')\r\n",
    "print(\"Train Data :\") \r\n",
    "train.head(3) #printing first 3 entries\r\n"
   ],
   "outputs": [
    {
     "output_type": "stream",
     "name": "stdout",
     "text": [
      "Train Data :\n"
     ]
    },
    {
     "output_type": "execute_result",
     "data": {
      "text/plain": [
       "     CandidateID  Match Percentage\n",
       "0  candidate_011             13.60\n",
       "1  candidate_113             36.63\n",
       "2  candidate_123             54.93"
      ],
      "text/html": [
       "<div>\n",
       "<style scoped>\n",
       "    .dataframe tbody tr th:only-of-type {\n",
       "        vertical-align: middle;\n",
       "    }\n",
       "\n",
       "    .dataframe tbody tr th {\n",
       "        vertical-align: top;\n",
       "    }\n",
       "\n",
       "    .dataframe thead th {\n",
       "        text-align: right;\n",
       "    }\n",
       "</style>\n",
       "<table border=\"1\" class=\"dataframe\">\n",
       "  <thead>\n",
       "    <tr style=\"text-align: right;\">\n",
       "      <th></th>\n",
       "      <th>CandidateID</th>\n",
       "      <th>Match Percentage</th>\n",
       "    </tr>\n",
       "  </thead>\n",
       "  <tbody>\n",
       "    <tr>\n",
       "      <th>0</th>\n",
       "      <td>candidate_011</td>\n",
       "      <td>13.60</td>\n",
       "    </tr>\n",
       "    <tr>\n",
       "      <th>1</th>\n",
       "      <td>candidate_113</td>\n",
       "      <td>36.63</td>\n",
       "    </tr>\n",
       "    <tr>\n",
       "      <th>2</th>\n",
       "      <td>candidate_123</td>\n",
       "      <td>54.93</td>\n",
       "    </tr>\n",
       "  </tbody>\n",
       "</table>\n",
       "</div>"
      ]
     },
     "metadata": {},
     "execution_count": 4
    }
   ],
   "metadata": {}
  },
  {
   "cell_type": "code",
   "execution_count": 5,
   "source": [
    "#testing data \r\n",
    "test = pd.read_csv('dataset/test.csv')  \r\n",
    "print(\"Test Data :\") \r\n",
    "test.head(3) #printing first 3 entries "
   ],
   "outputs": [
    {
     "output_type": "stream",
     "name": "stdout",
     "text": [
      "Test Data :\n"
     ]
    },
    {
     "output_type": "execute_result",
     "data": {
      "text/plain": [
       "     CandidateID\n",
       "0  candidate_014\n",
       "1  candidate_098\n",
       "2  candidate_075"
      ],
      "text/html": [
       "<div>\n",
       "<style scoped>\n",
       "    .dataframe tbody tr th:only-of-type {\n",
       "        vertical-align: middle;\n",
       "    }\n",
       "\n",
       "    .dataframe tbody tr th {\n",
       "        vertical-align: top;\n",
       "    }\n",
       "\n",
       "    .dataframe thead th {\n",
       "        text-align: right;\n",
       "    }\n",
       "</style>\n",
       "<table border=\"1\" class=\"dataframe\">\n",
       "  <thead>\n",
       "    <tr style=\"text-align: right;\">\n",
       "      <th></th>\n",
       "      <th>CandidateID</th>\n",
       "    </tr>\n",
       "  </thead>\n",
       "  <tbody>\n",
       "    <tr>\n",
       "      <th>0</th>\n",
       "      <td>candidate_014</td>\n",
       "    </tr>\n",
       "    <tr>\n",
       "      <th>1</th>\n",
       "      <td>candidate_098</td>\n",
       "    </tr>\n",
       "    <tr>\n",
       "      <th>2</th>\n",
       "      <td>candidate_075</td>\n",
       "    </tr>\n",
       "  </tbody>\n",
       "</table>\n",
       "</div>"
      ]
     },
     "metadata": {},
     "execution_count": 5
    }
   ],
   "metadata": {}
  },
  {
   "cell_type": "code",
   "execution_count": 6,
   "source": [
    "#sort dataframe based on candidateId\r\n",
    "train.sort_values(by ='CandidateID', inplace =True)\r\n",
    "\r\n",
    "#reset index\r\n",
    "train.reset_index(inplace=True)\r\n",
    "train.drop('index',axis=1,inplace=True)\r\n",
    "\r\n",
    "#print sorted train dataset\r\n",
    "train.head() "
   ],
   "outputs": [
    {
     "output_type": "execute_result",
     "data": {
      "text/plain": [
       "     CandidateID  Match Percentage\n",
       "0  candidate_000             13.70\n",
       "1  candidate_001             40.09\n",
       "2  candidate_002             48.91\n",
       "3  candidate_003             36.89\n",
       "4  candidate_006             44.96"
      ],
      "text/html": [
       "<div>\n",
       "<style scoped>\n",
       "    .dataframe tbody tr th:only-of-type {\n",
       "        vertical-align: middle;\n",
       "    }\n",
       "\n",
       "    .dataframe tbody tr th {\n",
       "        vertical-align: top;\n",
       "    }\n",
       "\n",
       "    .dataframe thead th {\n",
       "        text-align: right;\n",
       "    }\n",
       "</style>\n",
       "<table border=\"1\" class=\"dataframe\">\n",
       "  <thead>\n",
       "    <tr style=\"text-align: right;\">\n",
       "      <th></th>\n",
       "      <th>CandidateID</th>\n",
       "      <th>Match Percentage</th>\n",
       "    </tr>\n",
       "  </thead>\n",
       "  <tbody>\n",
       "    <tr>\n",
       "      <th>0</th>\n",
       "      <td>candidate_000</td>\n",
       "      <td>13.70</td>\n",
       "    </tr>\n",
       "    <tr>\n",
       "      <th>1</th>\n",
       "      <td>candidate_001</td>\n",
       "      <td>40.09</td>\n",
       "    </tr>\n",
       "    <tr>\n",
       "      <th>2</th>\n",
       "      <td>candidate_002</td>\n",
       "      <td>48.91</td>\n",
       "    </tr>\n",
       "    <tr>\n",
       "      <th>3</th>\n",
       "      <td>candidate_003</td>\n",
       "      <td>36.89</td>\n",
       "    </tr>\n",
       "    <tr>\n",
       "      <th>4</th>\n",
       "      <td>candidate_006</td>\n",
       "      <td>44.96</td>\n",
       "    </tr>\n",
       "  </tbody>\n",
       "</table>\n",
       "</div>"
      ]
     },
     "metadata": {},
     "execution_count": 6
    }
   ],
   "metadata": {}
  },
  {
   "cell_type": "code",
   "execution_count": 7,
   "source": [
    "#sort dataframe based on candidateId\r\n",
    "test.sort_values(by ='CandidateID', inplace =True)\r\n",
    "\r\n",
    "#reset index\r\n",
    "test.reset_index(inplace=True)\r\n",
    "test.drop('index',axis=1,inplace=True)\r\n",
    "\r\n",
    "#print sorted test dataset\r\n",
    "test.head() "
   ],
   "outputs": [
    {
     "output_type": "execute_result",
     "data": {
      "text/plain": [
       "     CandidateID\n",
       "0  candidate_004\n",
       "1  candidate_005\n",
       "2  candidate_014\n",
       "3  candidate_016\n",
       "4  candidate_017"
      ],
      "text/html": [
       "<div>\n",
       "<style scoped>\n",
       "    .dataframe tbody tr th:only-of-type {\n",
       "        vertical-align: middle;\n",
       "    }\n",
       "\n",
       "    .dataframe tbody tr th {\n",
       "        vertical-align: top;\n",
       "    }\n",
       "\n",
       "    .dataframe thead th {\n",
       "        text-align: right;\n",
       "    }\n",
       "</style>\n",
       "<table border=\"1\" class=\"dataframe\">\n",
       "  <thead>\n",
       "    <tr style=\"text-align: right;\">\n",
       "      <th></th>\n",
       "      <th>CandidateID</th>\n",
       "    </tr>\n",
       "  </thead>\n",
       "  <tbody>\n",
       "    <tr>\n",
       "      <th>0</th>\n",
       "      <td>candidate_004</td>\n",
       "    </tr>\n",
       "    <tr>\n",
       "      <th>1</th>\n",
       "      <td>candidate_005</td>\n",
       "    </tr>\n",
       "    <tr>\n",
       "      <th>2</th>\n",
       "      <td>candidate_014</td>\n",
       "    </tr>\n",
       "    <tr>\n",
       "      <th>3</th>\n",
       "      <td>candidate_016</td>\n",
       "    </tr>\n",
       "    <tr>\n",
       "      <th>4</th>\n",
       "      <td>candidate_017</td>\n",
       "    </tr>\n",
       "  </tbody>\n",
       "</table>\n",
       "</div>"
      ]
     },
     "metadata": {},
     "execution_count": 7
    }
   ],
   "metadata": {}
  },
  {
   "cell_type": "code",
   "execution_count": 8,
   "source": [
    "train[\"CV\"] = 0\r\n",
    "for i in range(90):\r\n",
    "    train[\"CV\"][i] = pdf_reader(\"dataset/trainResumes/\"+str(train[\"CandidateID\"][i])+\".pdf\")\r\n",
    "\r\n",
    "train.head(3)     "
   ],
   "outputs": [
    {
     "output_type": "execute_result",
     "data": {
      "text/plain": [
       "     CandidateID  Match Percentage  \\\n",
       "0  candidate_000             13.70   \n",
       "1  candidate_001             40.09   \n",
       "2  candidate_002             48.91   \n",
       "\n",
       "                                                  CV  \n",
       "0  JACOB SMITH\\n\\nF R E S H E R\\n\\nPERSONAL PROFI...  \n",
       "1  Brianna Williams\\n\\nJ UNI OR  DEVELOPER\\n\\nWor...  \n",
       "2  MASON QUADRADO\\n\\nASSOCIATE ANALYST\\n\\nABOUT\\n...  "
      ],
      "text/html": [
       "<div>\n",
       "<style scoped>\n",
       "    .dataframe tbody tr th:only-of-type {\n",
       "        vertical-align: middle;\n",
       "    }\n",
       "\n",
       "    .dataframe tbody tr th {\n",
       "        vertical-align: top;\n",
       "    }\n",
       "\n",
       "    .dataframe thead th {\n",
       "        text-align: right;\n",
       "    }\n",
       "</style>\n",
       "<table border=\"1\" class=\"dataframe\">\n",
       "  <thead>\n",
       "    <tr style=\"text-align: right;\">\n",
       "      <th></th>\n",
       "      <th>CandidateID</th>\n",
       "      <th>Match Percentage</th>\n",
       "      <th>CV</th>\n",
       "    </tr>\n",
       "  </thead>\n",
       "  <tbody>\n",
       "    <tr>\n",
       "      <th>0</th>\n",
       "      <td>candidate_000</td>\n",
       "      <td>13.70</td>\n",
       "      <td>JACOB SMITH\\n\\nF R E S H E R\\n\\nPERSONAL PROFI...</td>\n",
       "    </tr>\n",
       "    <tr>\n",
       "      <th>1</th>\n",
       "      <td>candidate_001</td>\n",
       "      <td>40.09</td>\n",
       "      <td>Brianna Williams\\n\\nJ UNI OR  DEVELOPER\\n\\nWor...</td>\n",
       "    </tr>\n",
       "    <tr>\n",
       "      <th>2</th>\n",
       "      <td>candidate_002</td>\n",
       "      <td>48.91</td>\n",
       "      <td>MASON QUADRADO\\n\\nASSOCIATE ANALYST\\n\\nABOUT\\n...</td>\n",
       "    </tr>\n",
       "  </tbody>\n",
       "</table>\n",
       "</div>"
      ]
     },
     "metadata": {},
     "execution_count": 8
    }
   ],
   "metadata": {}
  },
  {
   "cell_type": "code",
   "execution_count": 9,
   "source": [
    "test[\"CV\"] = 0\r\n",
    "for i in range(60):\r\n",
    "    test[\"CV\"][i] = pdf_reader(\"dataset/testResumes/\"+str(test[\"CandidateID\"][i])+\".pdf\")\r\n",
    "\r\n",
    "test.head(3)    "
   ],
   "outputs": [
    {
     "output_type": "execute_result",
     "data": {
      "text/plain": [
       "     CandidateID                                                 CV\n",
       "0  candidate_004  OLIVIA SANTOS\\n\\nCONSULTANT ANALYST\\n\\nEXECUTI...\n",
       "1  candidate_005  ARMIN FITZGERALD\\n\\nD A   T   A     M   A   N ...\n",
       "2  candidate_014  GRACE BAILRY\\n\\nM A C H I N E   L E A R N I N ..."
      ],
      "text/html": [
       "<div>\n",
       "<style scoped>\n",
       "    .dataframe tbody tr th:only-of-type {\n",
       "        vertical-align: middle;\n",
       "    }\n",
       "\n",
       "    .dataframe tbody tr th {\n",
       "        vertical-align: top;\n",
       "    }\n",
       "\n",
       "    .dataframe thead th {\n",
       "        text-align: right;\n",
       "    }\n",
       "</style>\n",
       "<table border=\"1\" class=\"dataframe\">\n",
       "  <thead>\n",
       "    <tr style=\"text-align: right;\">\n",
       "      <th></th>\n",
       "      <th>CandidateID</th>\n",
       "      <th>CV</th>\n",
       "    </tr>\n",
       "  </thead>\n",
       "  <tbody>\n",
       "    <tr>\n",
       "      <th>0</th>\n",
       "      <td>candidate_004</td>\n",
       "      <td>OLIVIA SANTOS\\n\\nCONSULTANT ANALYST\\n\\nEXECUTI...</td>\n",
       "    </tr>\n",
       "    <tr>\n",
       "      <th>1</th>\n",
       "      <td>candidate_005</td>\n",
       "      <td>ARMIN FITZGERALD\\n\\nD A   T   A     M   A   N ...</td>\n",
       "    </tr>\n",
       "    <tr>\n",
       "      <th>2</th>\n",
       "      <td>candidate_014</td>\n",
       "      <td>GRACE BAILRY\\n\\nM A C H I N E   L E A R N I N ...</td>\n",
       "    </tr>\n",
       "  </tbody>\n",
       "</table>\n",
       "</div>"
      ]
     },
     "metadata": {},
     "execution_count": 9
    }
   ],
   "metadata": {}
  },
  {
   "cell_type": "code",
   "execution_count": 10,
   "source": [
    "jd = pdf_reader(\"dataset/Job description.pdf\")\r\n",
    "jd=jd.replace(\"\\n\",\" \")\r\n",
    "jd=jd.lower()\r\n",
    "jd[0:250] #print first 5 lines"
   ],
   "outputs": [
    {
     "output_type": "execute_result",
     "data": {
      "text/plain": [
       "'machine learning engineering  13585abc knowledge and innovation  what you’ll do  you will focus on researching, building, and designing self-running artificial intelligence (ai) systems to automate predictive models. you are responsible to design and'"
      ]
     },
     "metadata": {},
     "execution_count": 10
    }
   ],
   "metadata": {}
  },
  {
   "cell_type": "code",
   "execution_count": 11,
   "source": [
    "#remove spaces \\n as well as convert it to lower case\r\n",
    "for i in range(90):\r\n",
    "    train[\"CV\"][i]=train[\"CV\"][i].replace(\"\\n\",\" \")\r\n",
    "    train[\"CV\"][i]=train[\"CV\"][i].lower()\r\n",
    "\r\n",
    "train.head()"
   ],
   "outputs": [
    {
     "output_type": "execute_result",
     "data": {
      "text/plain": [
       "     CandidateID  Match Percentage  \\\n",
       "0  candidate_000             13.70   \n",
       "1  candidate_001             40.09   \n",
       "2  candidate_002             48.91   \n",
       "3  candidate_003             36.89   \n",
       "4  candidate_006             44.96   \n",
       "\n",
       "                                                  CV  \n",
       "0  jacob smith  f r e s h e r  personal profile i...  \n",
       "1  brianna williams  j uni or  developer  work ex...  \n",
       "2  mason quadrado  associate analyst  about certi...  \n",
       "3  rodney michaels  a s s o c i a t e   s o f t w...  \n",
       "4  j e n n i f e r   a r m s t r o n g p r o f i ...  "
      ],
      "text/html": [
       "<div>\n",
       "<style scoped>\n",
       "    .dataframe tbody tr th:only-of-type {\n",
       "        vertical-align: middle;\n",
       "    }\n",
       "\n",
       "    .dataframe tbody tr th {\n",
       "        vertical-align: top;\n",
       "    }\n",
       "\n",
       "    .dataframe thead th {\n",
       "        text-align: right;\n",
       "    }\n",
       "</style>\n",
       "<table border=\"1\" class=\"dataframe\">\n",
       "  <thead>\n",
       "    <tr style=\"text-align: right;\">\n",
       "      <th></th>\n",
       "      <th>CandidateID</th>\n",
       "      <th>Match Percentage</th>\n",
       "      <th>CV</th>\n",
       "    </tr>\n",
       "  </thead>\n",
       "  <tbody>\n",
       "    <tr>\n",
       "      <th>0</th>\n",
       "      <td>candidate_000</td>\n",
       "      <td>13.70</td>\n",
       "      <td>jacob smith  f r e s h e r  personal profile i...</td>\n",
       "    </tr>\n",
       "    <tr>\n",
       "      <th>1</th>\n",
       "      <td>candidate_001</td>\n",
       "      <td>40.09</td>\n",
       "      <td>brianna williams  j uni or  developer  work ex...</td>\n",
       "    </tr>\n",
       "    <tr>\n",
       "      <th>2</th>\n",
       "      <td>candidate_002</td>\n",
       "      <td>48.91</td>\n",
       "      <td>mason quadrado  associate analyst  about certi...</td>\n",
       "    </tr>\n",
       "    <tr>\n",
       "      <th>3</th>\n",
       "      <td>candidate_003</td>\n",
       "      <td>36.89</td>\n",
       "      <td>rodney michaels  a s s o c i a t e   s o f t w...</td>\n",
       "    </tr>\n",
       "    <tr>\n",
       "      <th>4</th>\n",
       "      <td>candidate_006</td>\n",
       "      <td>44.96</td>\n",
       "      <td>j e n n i f e r   a r m s t r o n g p r o f i ...</td>\n",
       "    </tr>\n",
       "  </tbody>\n",
       "</table>\n",
       "</div>"
      ]
     },
     "metadata": {},
     "execution_count": 11
    }
   ],
   "metadata": {}
  },
  {
   "cell_type": "code",
   "execution_count": 12,
   "source": [
    "#remove spaces \\n as well as convert it to lower case\r\n",
    "for i in range(60):\r\n",
    "    test[\"CV\"][i]=test[\"CV\"][i].replace(\"\\n\",\" \")\r\n",
    "    test[\"CV\"][i]=test[\"CV\"][i].lower()\r\n",
    "\r\n",
    "test.head()"
   ],
   "outputs": [
    {
     "output_type": "execute_result",
     "data": {
      "text/plain": [
       "     CandidateID                                                 CV\n",
       "0  candidate_004  olivia santos  consultant analyst  executive s...\n",
       "1  candidate_005  armin fitzgerald  d a   t   a     m   a   n   ...\n",
       "2  candidate_014  grace bailry  m a c h i n e   l e a r n i n g ...\n",
       "3  candidate_016  amelia martin  data science major  work experi...\n",
       "4  candidate_017  jonathan hill  j u n i o r   m a c h i n e   l..."
      ],
      "text/html": [
       "<div>\n",
       "<style scoped>\n",
       "    .dataframe tbody tr th:only-of-type {\n",
       "        vertical-align: middle;\n",
       "    }\n",
       "\n",
       "    .dataframe tbody tr th {\n",
       "        vertical-align: top;\n",
       "    }\n",
       "\n",
       "    .dataframe thead th {\n",
       "        text-align: right;\n",
       "    }\n",
       "</style>\n",
       "<table border=\"1\" class=\"dataframe\">\n",
       "  <thead>\n",
       "    <tr style=\"text-align: right;\">\n",
       "      <th></th>\n",
       "      <th>CandidateID</th>\n",
       "      <th>CV</th>\n",
       "    </tr>\n",
       "  </thead>\n",
       "  <tbody>\n",
       "    <tr>\n",
       "      <th>0</th>\n",
       "      <td>candidate_004</td>\n",
       "      <td>olivia santos  consultant analyst  executive s...</td>\n",
       "    </tr>\n",
       "    <tr>\n",
       "      <th>1</th>\n",
       "      <td>candidate_005</td>\n",
       "      <td>armin fitzgerald  d a   t   a     m   a   n   ...</td>\n",
       "    </tr>\n",
       "    <tr>\n",
       "      <th>2</th>\n",
       "      <td>candidate_014</td>\n",
       "      <td>grace bailry  m a c h i n e   l e a r n i n g ...</td>\n",
       "    </tr>\n",
       "    <tr>\n",
       "      <th>3</th>\n",
       "      <td>candidate_016</td>\n",
       "      <td>amelia martin  data science major  work experi...</td>\n",
       "    </tr>\n",
       "    <tr>\n",
       "      <th>4</th>\n",
       "      <td>candidate_017</td>\n",
       "      <td>jonathan hill  j u n i o r   m a c h i n e   l...</td>\n",
       "    </tr>\n",
       "  </tbody>\n",
       "</table>\n",
       "</div>"
      ]
     },
     "metadata": {},
     "execution_count": 12
    }
   ],
   "metadata": {}
  },
  {
   "cell_type": "code",
   "execution_count": 13,
   "source": [
    "test.CV[2]"
   ],
   "outputs": [
    {
     "output_type": "execute_result",
     "data": {
      "text/plain": [
       "\"grace bailry  m a c h i n e   l e a r n i n g   d e v e l o p m e n t   a n d   d e p l o y m e n t    personal profile i am a software engineer who has worked on several computer vision projects and their end to end deployment. i am looking to join as a machine learning developer to closely work on problems and increase my grasp over the domain.   work background  eximius design pvt ltd company software development and deployment engineer apr 2019 to till date  implementing multiple components of a face identification system which include face alignment and landmark detection. improving the validation pipeline of face recognition: collected data under different lighting conditions. performed image manipulation operations on data to increase the accuracy of the pipeline.  skills  software engineer/developer, software development, project management, machine learning, computer vision, opencv, python, c++, ruby, learning algorithm.   education  b.tech in electronics & computers from dvr college of engineering & technology in 2017  post graduation in software development from cdac noida in 2019  projects  other activities  clustering of images based on feature management  creating a recommender system to understand false alarms on support side of real time services.  scalable projects and their deployment - sdlc pioneers  deployment of end to end ml projects - kvcc'20 workshop  \\x0c\""
      ]
     },
     "metadata": {},
     "execution_count": 13
    }
   ],
   "metadata": {}
  },
  {
   "cell_type": "markdown",
   "source": [
    "<h1 style='color: rgb(77, 229, 240); text-align: left; font-family: cursive;font-size: 20px;'>collection of all cv</h1>"
   ],
   "metadata": {}
  },
  {
   "cell_type": "code",
   "execution_count": 14,
   "source": [
    "cv=list(train.CV)\r\n",
    "len(cv)\r\n",
    "cv=cv+list(test.CV)\r\n",
    "len(cv)\r\n",
    "cv=cv+[jd]\r\n",
    "len(cv)"
   ],
   "outputs": [
    {
     "output_type": "execute_result",
     "data": {
      "text/plain": [
       "151"
      ]
     },
     "metadata": {},
     "execution_count": 14
    }
   ],
   "metadata": {}
  },
  {
   "cell_type": "markdown",
   "source": [
    "<h1 style='color: rgb(77, 229, 240); text-align: left; font-family: cursive;font-size: 20px;'>creating corpus</h1>"
   ],
   "metadata": {}
  },
  {
   "cell_type": "code",
   "execution_count": 15,
   "source": [
    "corpus = []\r\n",
    "ps = PorterStemmer()"
   ],
   "outputs": [],
   "metadata": {}
  },
  {
   "cell_type": "markdown",
   "source": [
    "<h1 style='color: rgb(77, 229, 240); text-align: left; font-family: cursive;font-size: 20px;'>tokanize</h1>"
   ],
   "metadata": {}
  },
  {
   "cell_type": "code",
   "execution_count": 16,
   "source": [
    "for i in range(0,151):\r\n",
    "    #Regular Expresion\r\n",
    "    '''\r\n",
    "    Replace email addresses with 'emailaddr'\r\n",
    "    Replace URLs with 'httpaddr'\r\n",
    "    Replace money symbols with 'moneysymb'\r\n",
    "    Replace phone numbers with 'phonenumbr'\r\n",
    "    Replace numbers with 'numbr'\r\n",
    "    '''\r\n",
    "    msg = cv[i] \r\n",
    "    msg = re.sub('\\b[\\w\\-.]+?@\\w+?\\.\\w{2,4}\\b', 'emailaddr', cv[i])\r\n",
    "    msg = re.sub('(http[s]?\\S+)|(\\w+\\.[A-Za-z]{2,4}\\S*)', 'httpaddr', cv[i])\r\n",
    "    msg = re.sub('([A-Z]{3}|[A-Z]?[\\$€¥])?\\s?(\\d{1,3}((,\\d{1,3})+)?(.\\d{1,3})?(.\\d{1,3})?(,\\d{1,3})?)', 'moneysymb', cv[i])\r\n",
    "    msg = re.sub('\\b(\\+\\d{1,2}\\s)?\\d?[\\-(.]?\\d{3}\\)?[\\s.-]?\\d{3}[\\s.-]?\\d{4}\\b', 'phonenumbr', cv[i])\r\n",
    "    msg = re.sub('\\d+(\\.\\d+)?', 'numbr', cv[i])\r\n",
    "\r\n",
    "    ''' Remove all punctuations '''\r\n",
    "    msg = re.sub('[^\\w\\d\\s]', ' ', cv[i])\r\n",
    "    \r\n",
    " \r\n",
    "\r\n",
    "    \r\n",
    "    # Each word to lower case\r\n",
    "    msg = msg.lower()    \r\n",
    "\r\n",
    "    \r\n",
    "    # Splitting words to Tokenize\r\n",
    "    msg = msg.split()    \r\n",
    "\r\n",
    "    \r\n",
    "    # Stemming with PorterStemmer handling Stop Words\r\n",
    "    msg = [ps.stem(word) for word in msg if not word in set(stopwords.words('english'))]\r\n",
    "\r\n",
    "    \r\n",
    "    # preparing Messages with Remaining Tokens\r\n",
    "    msg = ' '.join(msg)\r\n",
    "\r\n",
    "    \r\n",
    "    # Preparing WordVector Corpus\r\n",
    "    corpus.append(msg)\r\n"
   ],
   "outputs": [],
   "metadata": {}
  },
  {
   "cell_type": "markdown",
   "source": [
    "<h1 style='color: rgb(77, 229, 240); text-align: left; font-family: cursive;font-size: 20px;'>creating vectors</h1>"
   ],
   "metadata": {}
  },
  {
   "cell_type": "code",
   "execution_count": 17,
   "source": [
    "cv = CountVectorizer()\r\n",
    "x = cv.fit_transform(corpus).toarray() "
   ],
   "outputs": [],
   "metadata": {}
  },
  {
   "cell_type": "code",
   "execution_count": 18,
   "source": [
    "y=list(train[\"Match Percentage\"])"
   ],
   "outputs": [],
   "metadata": {}
  },
  {
   "cell_type": "code",
   "execution_count": 19,
   "source": [
    "xtrain = x[:90]\r\n",
    "xtest = x[90:150]"
   ],
   "outputs": [],
   "metadata": {}
  },
  {
   "cell_type": "markdown",
   "source": [
    "<h1 style='color: rgb(77, 229, 240); text-align: left; font-family: cursive;font-size: 20px;'>dscision tree = 56.17</h1>"
   ],
   "metadata": {}
  },
  {
   "cell_type": "code",
   "execution_count": 20,
   "source": [
    "sv = SVR()\r\n",
    "sv.fit(xtrain,y)\r\n",
    "svP=sv.predict(xtest)\r\n",
    "\r\n",
    "res={\r\n",
    "    \"CandidateID\":list(test.CandidateID),\r\n",
    "    \"Match Percentage\":svP\r\n",
    "}\r\n",
    "\r\n",
    "res=pd.DataFrame(res)\r\n",
    "\r\n",
    "res.to_csv(\"res.csv\",index=False)"
   ],
   "outputs": [],
   "metadata": {}
  }
 ],
 "metadata": {
  "orig_nbformat": 4,
  "language_info": {
   "name": "python",
   "version": "3.9.2",
   "mimetype": "text/x-python",
   "codemirror_mode": {
    "name": "ipython",
    "version": 3
   },
   "pygments_lexer": "ipython3",
   "nbconvert_exporter": "python",
   "file_extension": ".py"
  },
  "kernelspec": {
   "name": "python3",
   "display_name": "Python 3.9.2 64-bit"
  },
  "interpreter": {
   "hash": "ac59ebe37160ed0dfa835113d9b8498d9f09ceb179beaac4002f036b9467c963"
  }
 },
 "nbformat": 4,
 "nbformat_minor": 2
}