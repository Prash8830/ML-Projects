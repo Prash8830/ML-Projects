{
    "cells": [
        {
            "cell_type": "markdown",
            "source": [
                "Importing Liabrary"
            ],
            "metadata": {}
        },
        {
            "cell_type": "code",
            "execution_count": 41,
            "source": [
                "import pandas as pd\r\n",
                "import numpy as np\r\n",
                "import seaborn as sns"
            ],
            "outputs": [],
            "metadata": {}
        },
        {
            "cell_type": "markdown",
            "source": [
                "Loading Data ..."
            ],
            "metadata": {}
        },
        {
            "cell_type": "code",
            "execution_count": 42,
            "source": [
                "data = pd.read_csv(\"final_test.csv\") "
            ],
            "outputs": [],
            "metadata": {}
        },
        {
            "cell_type": "code",
            "execution_count": 43,
            "source": [
                "data.head() "
            ],
            "outputs": [
                {
                    "output_type": "execute_result",
                    "data": {
                        "text/plain": [
                            "   weight   age  height size\n",
                            "0      62  28.0  172.72   XL\n",
                            "1      59  36.0  167.64    L\n",
                            "2      61  34.0  165.10    M\n",
                            "3      65  27.0  175.26    L\n",
                            "4      62  45.0  172.72    M"
                        ],
                        "text/html": [
                            "<div>\n",
                            "<style scoped>\n",
                            "    .dataframe tbody tr th:only-of-type {\n",
                            "        vertical-align: middle;\n",
                            "    }\n",
                            "\n",
                            "    .dataframe tbody tr th {\n",
                            "        vertical-align: top;\n",
                            "    }\n",
                            "\n",
                            "    .dataframe thead th {\n",
                            "        text-align: right;\n",
                            "    }\n",
                            "</style>\n",
                            "<table border=\"1\" class=\"dataframe\">\n",
                            "  <thead>\n",
                            "    <tr style=\"text-align: right;\">\n",
                            "      <th></th>\n",
                            "      <th>weight</th>\n",
                            "      <th>age</th>\n",
                            "      <th>height</th>\n",
                            "      <th>size</th>\n",
                            "    </tr>\n",
                            "  </thead>\n",
                            "  <tbody>\n",
                            "    <tr>\n",
                            "      <th>0</th>\n",
                            "      <td>62</td>\n",
                            "      <td>28.0</td>\n",
                            "      <td>172.72</td>\n",
                            "      <td>XL</td>\n",
                            "    </tr>\n",
                            "    <tr>\n",
                            "      <th>1</th>\n",
                            "      <td>59</td>\n",
                            "      <td>36.0</td>\n",
                            "      <td>167.64</td>\n",
                            "      <td>L</td>\n",
                            "    </tr>\n",
                            "    <tr>\n",
                            "      <th>2</th>\n",
                            "      <td>61</td>\n",
                            "      <td>34.0</td>\n",
                            "      <td>165.10</td>\n",
                            "      <td>M</td>\n",
                            "    </tr>\n",
                            "    <tr>\n",
                            "      <th>3</th>\n",
                            "      <td>65</td>\n",
                            "      <td>27.0</td>\n",
                            "      <td>175.26</td>\n",
                            "      <td>L</td>\n",
                            "    </tr>\n",
                            "    <tr>\n",
                            "      <th>4</th>\n",
                            "      <td>62</td>\n",
                            "      <td>45.0</td>\n",
                            "      <td>172.72</td>\n",
                            "      <td>M</td>\n",
                            "    </tr>\n",
                            "  </tbody>\n",
                            "</table>\n",
                            "</div>"
                        ]
                    },
                    "metadata": {},
                    "execution_count": 43
                }
            ],
            "metadata": {}
        },
        {
            "cell_type": "markdown",
            "source": [
                "Data Refining"
            ],
            "metadata": {}
        },
        {
            "cell_type": "code",
            "execution_count": 44,
            "source": [
                "data.info() "
            ],
            "outputs": [
                {
                    "output_type": "stream",
                    "name": "stdout",
                    "text": [
                        "<class 'pandas.core.frame.DataFrame'>\n",
                        "RangeIndex: 119734 entries, 0 to 119733\n",
                        "Data columns (total 4 columns):\n",
                        " #   Column  Non-Null Count   Dtype  \n",
                        "---  ------  --------------   -----  \n",
                        " 0   weight  119734 non-null  int64  \n",
                        " 1   age     119477 non-null  float64\n",
                        " 2   height  119404 non-null  float64\n",
                        " 3   size    119734 non-null  object \n",
                        "dtypes: float64(2), int64(1), object(1)\n",
                        "memory usage: 3.7+ MB\n"
                    ]
                }
            ],
            "metadata": {}
        },
        {
            "cell_type": "code",
            "execution_count": 45,
            "source": [
                "data.isnull().sum() "
            ],
            "outputs": [
                {
                    "output_type": "execute_result",
                    "data": {
                        "text/plain": [
                            "weight      0\n",
                            "age       257\n",
                            "height    330\n",
                            "size        0\n",
                            "dtype: int64"
                        ]
                    },
                    "metadata": {},
                    "execution_count": 45
                }
            ],
            "metadata": {}
        },
        {
            "cell_type": "code",
            "execution_count": 46,
            "source": [
                "data.dropna(inplace=True) "
            ],
            "outputs": [],
            "metadata": {}
        },
        {
            "cell_type": "code",
            "execution_count": 47,
            "source": [
                "data.info()"
            ],
            "outputs": [
                {
                    "output_type": "stream",
                    "name": "stdout",
                    "text": [
                        "<class 'pandas.core.frame.DataFrame'>\n",
                        "Int64Index: 119153 entries, 0 to 119733\n",
                        "Data columns (total 4 columns):\n",
                        " #   Column  Non-Null Count   Dtype  \n",
                        "---  ------  --------------   -----  \n",
                        " 0   weight  119153 non-null  int64  \n",
                        " 1   age     119153 non-null  float64\n",
                        " 2   height  119153 non-null  float64\n",
                        " 3   size    119153 non-null  object \n",
                        "dtypes: float64(2), int64(1), object(1)\n",
                        "memory usage: 4.5+ MB\n"
                    ]
                }
            ],
            "metadata": {}
        },
        {
            "cell_type": "markdown",
            "source": [
                "One 🎇hot encoding"
            ],
            "metadata": {}
        },
        {
            "cell_type": "code",
            "execution_count": 48,
            "source": [
                "data['size'].unique()"
            ],
            "outputs": [
                {
                    "output_type": "execute_result",
                    "data": {
                        "text/plain": [
                            "array(['XL', 'L', 'M', 'S', 'XXS', 'XXXL', 'XXL'], dtype=object)"
                        ]
                    },
                    "metadata": {},
                    "execution_count": 48
                }
            ],
            "metadata": {}
        },
        {
            "cell_type": "code",
            "execution_count": 49,
            "source": [
                "encoding = { 'XXS': 0, 'S': 1, 'M': 2, 'L': 3, 'XL': 4, 'XXL': 5, 'XXXL': 6}\r\n",
                "data['size'] = data['size'].map(encoding)\r\n",
                "data.head() "
            ],
            "outputs": [
                {
                    "output_type": "execute_result",
                    "data": {
                        "text/plain": [
                            "   weight   age  height  size\n",
                            "0      62  28.0  172.72     4\n",
                            "1      59  36.0  167.64     3\n",
                            "2      61  34.0  165.10     2\n",
                            "3      65  27.0  175.26     3\n",
                            "4      62  45.0  172.72     2"
                        ],
                        "text/html": [
                            "<div>\n",
                            "<style scoped>\n",
                            "    .dataframe tbody tr th:only-of-type {\n",
                            "        vertical-align: middle;\n",
                            "    }\n",
                            "\n",
                            "    .dataframe tbody tr th {\n",
                            "        vertical-align: top;\n",
                            "    }\n",
                            "\n",
                            "    .dataframe thead th {\n",
                            "        text-align: right;\n",
                            "    }\n",
                            "</style>\n",
                            "<table border=\"1\" class=\"dataframe\">\n",
                            "  <thead>\n",
                            "    <tr style=\"text-align: right;\">\n",
                            "      <th></th>\n",
                            "      <th>weight</th>\n",
                            "      <th>age</th>\n",
                            "      <th>height</th>\n",
                            "      <th>size</th>\n",
                            "    </tr>\n",
                            "  </thead>\n",
                            "  <tbody>\n",
                            "    <tr>\n",
                            "      <th>0</th>\n",
                            "      <td>62</td>\n",
                            "      <td>28.0</td>\n",
                            "      <td>172.72</td>\n",
                            "      <td>4</td>\n",
                            "    </tr>\n",
                            "    <tr>\n",
                            "      <th>1</th>\n",
                            "      <td>59</td>\n",
                            "      <td>36.0</td>\n",
                            "      <td>167.64</td>\n",
                            "      <td>3</td>\n",
                            "    </tr>\n",
                            "    <tr>\n",
                            "      <th>2</th>\n",
                            "      <td>61</td>\n",
                            "      <td>34.0</td>\n",
                            "      <td>165.10</td>\n",
                            "      <td>2</td>\n",
                            "    </tr>\n",
                            "    <tr>\n",
                            "      <th>3</th>\n",
                            "      <td>65</td>\n",
                            "      <td>27.0</td>\n",
                            "      <td>175.26</td>\n",
                            "      <td>3</td>\n",
                            "    </tr>\n",
                            "    <tr>\n",
                            "      <th>4</th>\n",
                            "      <td>62</td>\n",
                            "      <td>45.0</td>\n",
                            "      <td>172.72</td>\n",
                            "      <td>2</td>\n",
                            "    </tr>\n",
                            "  </tbody>\n",
                            "</table>\n",
                            "</div>"
                        ]
                    },
                    "metadata": {},
                    "execution_count": 49
                }
            ],
            "metadata": {}
        },
        {
            "cell_type": "markdown",
            "source": [
                "Data Exploration"
            ],
            "metadata": {}
        },
        {
            "cell_type": "code",
            "execution_count": 50,
            "source": [
                "sns.heatmap(data[['weight','age','height','size']].corr(), annot=True ) "
            ],
            "outputs": [
                {
                    "output_type": "execute_result",
                    "data": {
                        "text/plain": [
                            "<AxesSubplot:>"
                        ]
                    },
                    "metadata": {},
                    "execution_count": 50
                },
                {
                    "output_type": "display_data",
                    "data": {
                        "text/plain": [
                            "<Figure size 432x288 with 2 Axes>"
                        ],
                        "image/png": "[encoded data removed]"
                    },
                    "metadata": {
                        "needs_background": "light"
                    }
                }
            ],
            "metadata": {}
        },
        {
            "cell_type": "code",
            "execution_count": 51,
            "source": [
                "x = data.drop('size',axis=1)\r\n",
                "y = data['size'] "
            ],
            "outputs": [],
            "metadata": {}
        },
        {
            "cell_type": "code",
            "execution_count": 52,
            "source": [
                "y = np.array(y) "
            ],
            "outputs": [],
            "metadata": {}
        },
        {
            "cell_type": "code",
            "execution_count": 53,
            "source": [
                "x.head() "
            ],
            "outputs": [
                {
                    "output_type": "execute_result",
                    "data": {
                        "text/plain": [
                            "   weight   age  height\n",
                            "0      62  28.0  172.72\n",
                            "1      59  36.0  167.64\n",
                            "2      61  34.0  165.10\n",
                            "3      65  27.0  175.26\n",
                            "4      62  45.0  172.72"
                        ],
                        "text/html": [
                            "<div>\n",
                            "<style scoped>\n",
                            "    .dataframe tbody tr th:only-of-type {\n",
                            "        vertical-align: middle;\n",
                            "    }\n",
                            "\n",
                            "    .dataframe tbody tr th {\n",
                            "        vertical-align: top;\n",
                            "    }\n",
                            "\n",
                            "    .dataframe thead th {\n",
                            "        text-align: right;\n",
                            "    }\n",
                            "</style>\n",
                            "<table border=\"1\" class=\"dataframe\">\n",
                            "  <thead>\n",
                            "    <tr style=\"text-align: right;\">\n",
                            "      <th></th>\n",
                            "      <th>weight</th>\n",
                            "      <th>age</th>\n",
                            "      <th>height</th>\n",
                            "    </tr>\n",
                            "  </thead>\n",
                            "  <tbody>\n",
                            "    <tr>\n",
                            "      <th>0</th>\n",
                            "      <td>62</td>\n",
                            "      <td>28.0</td>\n",
                            "      <td>172.72</td>\n",
                            "    </tr>\n",
                            "    <tr>\n",
                            "      <th>1</th>\n",
                            "      <td>59</td>\n",
                            "      <td>36.0</td>\n",
                            "      <td>167.64</td>\n",
                            "    </tr>\n",
                            "    <tr>\n",
                            "      <th>2</th>\n",
                            "      <td>61</td>\n",
                            "      <td>34.0</td>\n",
                            "      <td>165.10</td>\n",
                            "    </tr>\n",
                            "    <tr>\n",
                            "      <th>3</th>\n",
                            "      <td>65</td>\n",
                            "      <td>27.0</td>\n",
                            "      <td>175.26</td>\n",
                            "    </tr>\n",
                            "    <tr>\n",
                            "      <th>4</th>\n",
                            "      <td>62</td>\n",
                            "      <td>45.0</td>\n",
                            "      <td>172.72</td>\n",
                            "    </tr>\n",
                            "  </tbody>\n",
                            "</table>\n",
                            "</div>"
                        ]
                    },
                    "metadata": {},
                    "execution_count": 53
                }
            ],
            "metadata": {}
        },
        {
            "cell_type": "markdown",
            "source": [
                "Normalize "
            ],
            "metadata": {}
        },
        {
            "cell_type": "code",
            "execution_count": 54,
            "source": [
                "from sklearn.preprocessing import StandardScaler\r\n",
                "s = StandardScaler()\r\n",
                "x = s.fit_transform(x) "
            ],
            "outputs": [],
            "metadata": {}
        },
        {
            "cell_type": "code",
            "execution_count": 79,
            "source": [
                "from sklearn.model_selection import train_test_split\r\n",
                "xtrain, xtest, ytrain, ytest = train_test_split(x,y,test_size=0.1) "
            ],
            "outputs": [],
            "metadata": {}
        },
        {
            "cell_type": "code",
            "execution_count": 80,
            "source": [
                "xtest.shape"
            ],
            "outputs": [
                {
                    "output_type": "execute_result",
                    "data": {
                        "text/plain": [
                            "(11916, 3)"
                        ]
                    },
                    "metadata": {},
                    "execution_count": 80
                }
            ],
            "metadata": {}
        },
        {
            "cell_type": "markdown",
            "source": [
                "Setting Algo"
            ],
            "metadata": {}
        },
        {
            "cell_type": "code",
            "execution_count": 81,
            "source": [
                "from sklearn.ensemble import RandomForestClassifier\r\n",
                "from sklearn.tree import DecisionTreeClassifier\r\n",
                "from sklearn.neighbors import KNeighborsClassifier\r\n",
                "from sklearn.linear_model import LogisticRegression"
            ],
            "outputs": [],
            "metadata": {}
        },
        {
            "cell_type": "markdown",
            "source": [
                "creating model setup"
            ],
            "metadata": {}
        },
        {
            "cell_type": "code",
            "execution_count": 92,
            "source": [
                "rfs = RandomForestClassifier(n_estimators=100)\r\n",
                "dts = DecisionTreeClassifier()\r\n",
                "knn = KNeighborsClassifier(n_neighbors=3)\r\n",
                "lgs = LogisticRegression() "
            ],
            "outputs": [],
            "metadata": {}
        },
        {
            "cell_type": "code",
            "execution_count": 93,
            "source": [
                "rfs.fit(xtrain,ytrain)\r\n",
                "dts.fit(xtrain,ytrain)\r\n",
                "knn.fit(xtrain,ytrain)\r\n",
                "lgs.fit(xtrain,ytrain)  "
            ],
            "outputs": [],
            "metadata": {}
        },
        {
            "cell_type": "code",
            "execution_count": null,
            "source": [
                "rfsp = rfs.predict(xtest)\r\n",
                "dtsp = dts.predict(xtest)\r\n",
                "knnp = knn.predict(xtest)\r\n",
                "lgsp = lgs.predict(xtest)  "
            ],
            "outputs": [],
            "metadata": {}
        },
        {
            "cell_type": "code",
            "execution_count": null,
            "source": [
                "from sklearn.metrics import accuracy_score\r\n",
                "rfsacc = accuracy_score(ytest, rfsp)\r\n",
                "dtsacc = accuracy_score(ytest, dtsp)\r\n",
                "knnacc = accuracy_score(ytest, knnp)\r\n",
                "lgsacc = accuracy_score(ytest, lgsp) "
            ],
            "outputs": [],
            "metadata": {}
        },
        {
            "cell_type": "code",
            "execution_count": null,
            "source": [
                "print(\"Model         : \",\"Accuracy\")  \r\n",
                "print(\"Random Forest : \",round(rfsacc*100,2),\"%\")  \r\n",
                "print(\"Decision Tree : \",round(dtsacc*100,2),\"%\")   \r\n",
                "print(\"K Neigbours   : \",round(knnacc*100,2),\"%\")   \r\n",
                "print(\"logistic Reg  : \",round(lgsacc*100,2),\"%\")   "
            ],
            "outputs": [
                {
                    "output_type": "stream",
                    "name": "stdout",
                    "text": [
                        "Random Forest :  51.37\n",
                        "Decision Tree :  50.92\n",
                        "K Neigbours   :  47.47\n",
                        "logistic Reg  :  51.33\n"
                    ]
                }
            ],
            "metadata": {}
        },
        {
            "cell_type": "code",
            "execution_count": null,
            "source": [
                "trial =  np.array([67,20,180])\r\n",
                "label = { 0:'XXS', 1:'S', 2:'M', 3:'L', 4:'XL', 5:'XXL', 6:'XXXL'}\r\n",
                "ans = rfs.predict(trial.reshape(1,3))\r\n",
                "ans[0] "
            ],
            "outputs": [
                {
                    "output_type": "execute_result",
                    "data": {
                        "text/plain": [
                            "6"
                        ]
                    },
                    "metadata": {},
                    "execution_count": 87
                }
            ],
            "metadata": {}
        }
    ],
    "metadata": {
        "orig_nbformat": 4,
        "language_info": {
            "name": "python"
        }
    },
    "nbformat": 4,
    "nbformat_minor": 2
}