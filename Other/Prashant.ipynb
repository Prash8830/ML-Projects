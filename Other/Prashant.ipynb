{
 "cells": [
  {
   "cell_type": "markdown",
   "metadata": {},
   "source": [
    "IMPORT MODULES"
   ]
  },
  {
   "cell_type": "code",
   "execution_count": 1,
   "metadata": {},
   "outputs": [],
   "source": [
    "import pandas as pd\r\n",
    "import numpy as np\r\n",
    "import langid"
   ]
  },
  {
   "cell_type": "markdown",
   "metadata": {},
   "source": [
    "LOAD DATA"
   ]
  },
  {
   "cell_type": "code",
   "execution_count": 2,
   "metadata": {},
   "outputs": [],
   "source": [
    "ass = pd.ExcelFile('assignment gfg.xlsx')\r\n",
    "df1 = pd.read_excel(ass, '2020-03-22')\r\n",
    "df2 = pd.read_excel(ass, '2020-03-23')\r\n",
    "df3 = pd.read_excel(ass, '2020-03-24')\r\n",
    "df4 = pd.read_excel(ass, '2020-03-25')\r\n",
    "df5 = pd.read_excel(ass, '2020-03-26')\r\n",
    "df = [df1,df2,df3,df4,df5]"
   ]
  },
  {
   "cell_type": "markdown",
   "metadata": {},
   "source": [
    "REMOVE UNWANTED ROWS AND COLOUMNS WHICH HAS ALL VALUES NULL"
   ]
  },
  {
   "cell_type": "code",
   "execution_count": 3,
   "metadata": {},
   "outputs": [],
   "source": [
    "def remove(data):\r\n",
    "    data = data.dropna(how = \"all\", axis =0)\r\n",
    "    data = data.dropna(how = \"all\", axis =1)\r\n",
    "    return data"
   ]
  },
  {
   "cell_type": "markdown",
   "metadata": {},
   "source": [
    "RENAME THE COLUMN NAMES AS FIRST ROW AND REMOVE THE FIRST ROW"
   ]
  },
  {
   "cell_type": "code",
   "execution_count": 4,
   "metadata": {},
   "outputs": [],
   "source": [
    "def rename(data):\r\n",
    "    if data.index[0]==0:\r\n",
    "        return data\r\n",
    "    data=data.rename(columns=data.iloc[0])\r\n",
    "    data = data.iloc[1: , :]\r\n",
    "    return data"
   ]
  },
  {
   "cell_type": "markdown",
   "metadata": {},
   "source": [
    "SEPERATE ENGLISH LANGUAGE TWEETS "
   ]
  },
  {
   "cell_type": "code",
   "execution_count": 5,
   "metadata": {},
   "outputs": [],
   "source": [
    "def segregate(data):\r\n",
    "    k=data.index[0]-1\r\n",
    "    for i in data[\"text\"]:\r\n",
    "        i = str(i)\r\n",
    "        t=langid.classify(i)\r\n",
    "        k =k+1\r\n",
    "        if t[0]!='en':\r\n",
    "            data=data.drop(k)  \r\n",
    "\r\n",
    "    return data        "
   ]
  },
  {
   "cell_type": "markdown",
   "metadata": {},
   "source": [
    "OPERATION ON ALL DATAFRAMES"
   ]
  },
  {
   "cell_type": "code",
   "execution_count": 6,
   "metadata": {},
   "outputs": [],
   "source": [
    "tweets = []\r\n",
    "for i in df:\r\n",
    "    i=remove(i)\r\n",
    "    i=rename(i)\r\n",
    "    i=segregate(i)\r\n",
    "    tweets.append(np.array(i['text']))"
   ]
  },
  {
   "cell_type": "markdown",
   "metadata": {},
   "source": [
    "ARRAY OF DATES"
   ]
  },
  {
   "cell_type": "code",
   "execution_count": 7,
   "metadata": {},
   "outputs": [],
   "source": [
    "date=np.array(['2020-03-22','2020-03-23','2020-03-24','2020-03-25','2020-03-26'])"
   ]
  },
  {
   "cell_type": "markdown",
   "metadata": {},
   "source": [
    "CRETING DATA FRAME AND MAKE ARRAY OF TWEETS"
   ]
  },
  {
   "cell_type": "code",
   "execution_count": 8,
   "metadata": {},
   "outputs": [],
   "source": [
    "ans = {     \r\n",
    "       \"DATE\":date,\r\n",
    "       \"TWEETS\":tweets\r\n",
    "}\r\n",
    "ans=pd.DataFrame(ans)"
   ]
  },
  {
   "cell_type": "code",
   "execution_count": 9,
   "metadata": {},
   "outputs": [
    {
     "data": {
      "text/html": [
       "<div>\n",
       "<style scoped>\n",
       "    .dataframe tbody tr th:only-of-type {\n",
       "        vertical-align: middle;\n",
       "    }\n",
       "\n",
       "    .dataframe tbody tr th {\n",
       "        vertical-align: top;\n",
       "    }\n",
       "\n",
       "    .dataframe thead th {\n",
       "        text-align: right;\n",
       "    }\n",
       "</style>\n",
       "<table border=\"1\" class=\"dataframe\">\n",
       "  <thead>\n",
       "    <tr style=\"text-align: right;\">\n",
       "      <th></th>\n",
       "      <th>DATE</th>\n",
       "      <th>TWEETS</th>\n",
       "    </tr>\n",
       "  </thead>\n",
       "  <tbody>\n",
       "    <tr>\n",
       "      <th>0</th>\n",
       "      <td>2020-03-22</td>\n",
       "      <td>[Packed UK concerts amid rising Covid-19 cases...</td>\n",
       "    </tr>\n",
       "    <tr>\n",
       "      <th>1</th>\n",
       "      <td>2020-03-23</td>\n",
       "      <td>[S/O to all the farmworkers working in the U.S...</td>\n",
       "    </tr>\n",
       "    <tr>\n",
       "      <th>2</th>\n",
       "      <td>2020-03-24</td>\n",
       "      <td>[@skinnergj https://t.co/qZSXk2m8mv lasts 17 d...</td>\n",
       "    </tr>\n",
       "    <tr>\n",
       "      <th>3</th>\n",
       "      <td>2020-03-25</td>\n",
       "      <td>[https://t.co/d1YvJQCDye https://t.co/S354Ha9T...</td>\n",
       "    </tr>\n",
       "    <tr>\n",
       "      <th>4</th>\n",
       "      <td>2020-03-26</td>\n",
       "      <td>[Coronavirus forces African Court to suspend 5...</td>\n",
       "    </tr>\n",
       "  </tbody>\n",
       "</table>\n",
       "</div>"
      ],
      "text/plain": [
       "         DATE                                             TWEETS\n",
       "0  2020-03-22  [Packed UK concerts amid rising Covid-19 cases...\n",
       "1  2020-03-23  [S/O to all the farmworkers working in the U.S...\n",
       "2  2020-03-24  [@skinnergj https://t.co/qZSXk2m8mv lasts 17 d...\n",
       "3  2020-03-25  [https://t.co/d1YvJQCDye https://t.co/S354Ha9T...\n",
       "4  2020-03-26  [Coronavirus forces African Court to suspend 5..."
      ]
     },
     "execution_count": 9,
     "metadata": {},
     "output_type": "execute_result"
    }
   ],
   "source": [
    "ans"
   ]
  }
 ],
 "metadata": {
  "interpreter": {
   "hash": "ac59ebe37160ed0dfa835113d9b8498d9f09ceb179beaac4002f036b9467c963"
  },
  "kernelspec": {
   "display_name": "Python 3.9.2 64-bit",
   "name": "python3"
  },
  "language_info": {
   "codemirror_mode": {
    "name": "ipython",
    "version": 3
   },
   "file_extension": ".py",
   "mimetype": "text/x-python",
   "name": "python",
   "nbconvert_exporter": "python",
   "pygments_lexer": "ipython3",
   "version": "3.9.2"
  },
  "orig_nbformat": 4
 },
 "nbformat": 4,
 "nbformat_minor": 2
}