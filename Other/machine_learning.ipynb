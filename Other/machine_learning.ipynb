{
 "cells": [
  {
   "cell_type": "code",
   "execution_count": 2,
   "metadata": {},
   "outputs": [],
   "source": [
    "import pandas as pd\r\n",
    "import numpy as np\r\n",
    "from scipy import stats\r\n",
    "import matplotlib.pyplot as plt\r\n",
    "from sklearn.metrics import r2_score\r\n",
    "from sklearn import linear_model\r\n",
    "from sklearn.preprocessing import StandardScaler\r\n",
    "from sklearn import tree \r\n",
    "import pydotplus \r\n",
    "from sklearn.tree import DecisionTreeClassifier\r\n",
    "import matplotlib.image as pltimg"
   ]
  },
  {
   "cell_type": "markdown",
   "metadata": {},
   "source": [
    "STATS OPERATION ON ARRAY"
   ]
  },
  {
   "cell_type": "code",
   "execution_count": null,
   "metadata": {},
   "outputs": [],
   "source": [
    "a=np.array([80,70,75,90,56,48,79,95,87,60])"
   ]
  },
  {
   "cell_type": "code",
   "execution_count": null,
   "metadata": {},
   "outputs": [],
   "source": [
    "print(np.mean(a))\r\n",
    "print(np.median(a))\r\n",
    "print(stats.mode(a))"
   ]
  },
  {
   "cell_type": "code",
   "execution_count": 1,
   "metadata": {},
   "outputs": [
    {
     "ename": "NameError",
     "evalue": "name 'np' is not defined",
     "output_type": "error",
     "traceback": [
      "\u001b[1;31m---------------------------------------------------------------------------\u001b[0m",
      "\u001b[1;31mNameError\u001b[0m                                 Traceback (most recent call last)",
      "\u001b[1;32m<ipython-input-1-7ac848b10bb3>\u001b[0m in \u001b[0;36m<module>\u001b[1;34m\u001b[0m\n\u001b[1;32m----> 1\u001b[1;33m \u001b[0mprint\u001b[0m\u001b[1;33m(\u001b[0m\u001b[0mnp\u001b[0m\u001b[1;33m.\u001b[0m\u001b[0mstd\u001b[0m\u001b[1;33m(\u001b[0m\u001b[0ma\u001b[0m\u001b[1;33m)\u001b[0m\u001b[1;33m)\u001b[0m\u001b[1;33m\u001b[0m\u001b[1;33m\u001b[0m\u001b[0m\n\u001b[0m\u001b[0;32m      2\u001b[0m \u001b[0mprint\u001b[0m\u001b[1;33m(\u001b[0m\u001b[0mnp\u001b[0m\u001b[1;33m.\u001b[0m\u001b[0mvar\u001b[0m\u001b[1;33m(\u001b[0m\u001b[0ma\u001b[0m\u001b[1;33m)\u001b[0m\u001b[1;33m)\u001b[0m\u001b[1;33m\u001b[0m\u001b[1;33m\u001b[0m\u001b[0m\n",
      "\u001b[1;31mNameError\u001b[0m: name 'np' is not defined"
     ]
    }
   ],
   "source": [
    "print(np.std(a))\r\n",
    "print(np.var(a))"
   ]
  },
  {
   "cell_type": "code",
   "execution_count": null,
   "metadata": {},
   "outputs": [],
   "source": [
    "print(np.percentile(a,11))"
   ]
  },
  {
   "cell_type": "markdown",
   "metadata": {},
   "source": [
    "Uniform Distribution"
   ]
  },
  {
   "cell_type": "code",
   "execution_count": null,
   "metadata": {},
   "outputs": [],
   "source": [
    "u=np.random.uniform(1,10,50000000)\r\n",
    "plt.hist(u,100)\r\n",
    "plt.show()\r\n",
    "print(np.std(u))"
   ]
  },
  {
   "cell_type": "markdown",
   "metadata": {},
   "source": [
    "Normal Distribution"
   ]
  },
  {
   "cell_type": "code",
   "execution_count": null,
   "metadata": {},
   "outputs": [],
   "source": [
    "n=np.random.normal(5451,0,5000000)\r\n",
    "plt.hist(n,100)\r\n",
    "plt.show()\r\n",
    "print(np.std(n))"
   ]
  },
  {
   "cell_type": "markdown",
   "metadata": {},
   "source": [
    "Scatter Plot"
   ]
  },
  {
   "cell_type": "code",
   "execution_count": null,
   "metadata": {},
   "outputs": [],
   "source": [
    "data=pd.read_csv('Iris.csv')\r\n",
    "plt.scatter(data.slc,data.swc)\r\n",
    "plt.show()"
   ]
  },
  {
   "cell_type": "code",
   "execution_count": null,
   "metadata": {},
   "outputs": [],
   "source": [
    "x=np.random.normal(10,4,1000)\r\n",
    "y=np.random.normal(20,15,1000)\r\n",
    "plt.scatter(x,y)\r\n",
    "plt.show()"
   ]
  },
  {
   "cell_type": "markdown",
   "metadata": {},
   "source": [
    "Linear Regression"
   ]
  },
  {
   "cell_type": "code",
   "execution_count": 35,
   "metadata": {},
   "outputs": [
    {
     "data": {
      "image/png": "[encoded data removed]",
      "text/plain": [
       "<Figure size 432x288 with 1 Axes>"
      ]
     },
     "metadata": {
      "needs_background": "light"
     },
     "output_type": "display_data"
    }
   ],
   "source": [
    "data=pd.read_csv('Iris.csv')\r\n",
    "x=data.SepalLengthCm\r\n",
    "y=data.PetalLengthCm\r\n",
    "\r\n",
    "slope,intercept,r,p,std_err=stats.linregress(x,y)\r\n",
    "\r\n",
    "def myfun(x):\r\n",
    "    return slope*x+intercept\r\n",
    "\r\n",
    "mymod=list(map(myfun,x)) \r\n",
    "plt.scatter(x,y)\r\n",
    "plt.plot(x,mymod)\r\n",
    "plt.show()   "
   ]
  },
  {
   "cell_type": "code",
   "execution_count": 16,
   "metadata": {},
   "outputs": [
    {
     "name": "stdout",
     "output_type": "stream",
     "text": [
      "0.8717541573048712\n"
     ]
    }
   ],
   "source": [
    "print(r)"
   ]
  },
  {
   "cell_type": "code",
   "execution_count": 17,
   "metadata": {},
   "outputs": [
    {
     "name": "stdout",
     "output_type": "stream",
     "text": [
      "4.6069294138757915\n"
     ]
    }
   ],
   "source": [
    "new=myfun(6.3)\r\n",
    "print"
   ]
  },
  {
   "cell_type": "markdown",
   "metadata": {},
   "source": [
    "Polynomial Regresion"
   ]
  },
  {
   "cell_type": "code",
   "execution_count": 29,
   "metadata": {},
   "outputs": [
    {
     "name": "stdout",
     "output_type": "stream",
     "text": [
      "0.7801089090335188\n"
     ]
    },
    {
     "data": {
      "image/png": "[encoded data removed]",
      "text/plain": [
       "<Figure size 432x288 with 1 Axes>"
      ]
     },
     "metadata": {
      "needs_background": "light"
     },
     "output_type": "display_data"
    }
   ],
   "source": [
    "data=pd.read_csv('Iris.csv')\r\n",
    "x=data.SepalLengthCm\r\n",
    "y=data.PetalLengthCm\r\n",
    "\r\n",
    "mymodel=np.poly1d(np.polyfit(x,y,3))\r\n",
    "print(r2_score(y,mymodel(x)))\r\n",
    "\r\n",
    "myline=np.linspace(1,10,100)\r\n",
    "plt.scatter(x,y)\r\n",
    "plt.plot(myline,mymodel(myline))\r\n",
    "plt.show()"
   ]
  },
  {
   "cell_type": "code",
   "execution_count": 42,
   "metadata": {},
   "outputs": [
    {
     "name": "stdout",
     "output_type": "stream",
     "text": [
      "5.530806671780185\n"
     ]
    }
   ],
   "source": [
    "print(mymodel(6.7))"
   ]
  },
  {
   "cell_type": "markdown",
   "metadata": {},
   "source": [
    "MUltiple Regresion"
   ]
  },
  {
   "cell_type": "code",
   "execution_count": 46,
   "metadata": {},
   "outputs": [
    {
     "name": "stdout",
     "output_type": "stream",
     "text": [
      "[4.97141794]\n",
      "[ 1.76740996 -1.37107464]\n"
     ]
    }
   ],
   "source": [
    "data=pd.read_csv('Iris.csv')\r\n",
    "x=data[['SepalLengthCm','SepalWidthCm']]\r\n",
    "y=data['PetalLengthCm']\r\n",
    "\r\n",
    "regr=linear_model.LinearRegression()\r\n",
    "regr.fit(x,y)\r\n",
    "\r\n",
    "prepl=regr.predict([[6.5,3.0]])\r\n",
    "print(prepl)\r\n",
    "print(regr.coef_)"
   ]
  },
  {
   "cell_type": "markdown",
   "metadata": {},
   "source": [
    "SCaling method standard scale"
   ]
  },
  {
   "cell_type": "code",
   "execution_count": 53,
   "metadata": {},
   "outputs": [
    {
     "name": "stdout",
     "output_type": "stream",
     "text": [
      "[4.97141794]\n"
     ]
    }
   ],
   "source": [
    "scale=StandardScaler()\r\n",
    "data=pd.read_csv('Iris.csv')\r\n",
    "x=data[['SepalLengthCm','SepalWidthCm']]\r\n",
    "y=data['PetalLengthCm']\r\n",
    "scaledX=scale.fit_transform(x)\r\n",
    "regr=linear_model.LinearRegression()\r\n",
    "regr.fit(scaledX,y)\r\n",
    "scaled=scale.transform([[6.5,3.0]])\r\n",
    "pre=regr.predict([scaled[0]])\r\n",
    "print(pre)\r\n",
    "# print(scaledX)"
   ]
  },
  {
   "cell_type": "markdown",
   "metadata": {},
   "source": [
    "mark"
   ]
  },
  {
   "cell_type": "markdown",
   "metadata": {},
   "source": []
  }
 ],
 "metadata": {
  "interpreter": {
   "hash": "ac59ebe37160ed0dfa835113d9b8498d9f09ceb179beaac4002f036b9467c963"
  },
  "kernelspec": {
   "display_name": "Python 3.9.2 64-bit",
   "name": "python3"
  },
  "language_info": {
   "codemirror_mode": {
    "name": "ipython",
    "version": 3
   },
   "file_extension": ".py",
   "mimetype": "text/x-python",
   "name": "python",
   "nbconvert_exporter": "python",
   "pygments_lexer": "ipython3",
   "version": "3.9.2"
  },
  "orig_nbformat": 4
 },
 "nbformat": 4,
 "nbformat_minor": 2
}